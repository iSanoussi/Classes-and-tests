{
  "cells": [
    {
      "cell_type": "markdown",
      "metadata": {
        "id": "view-in-github",
        "colab_type": "text"
      },
      "source": [
        "<a href=\"https://colab.research.google.com/github/iSanoussi/Classes-and-tests/blob/main/Lab_Supervised_Learning_Test.ipynb\" target=\"_parent\"><img src=\"https://colab.research.google.com/assets/colab-badge.svg\" alt=\"Open In Colab\"/></a>"
      ]
    },
    {
      "cell_type": "markdown",
      "metadata": {
        "id": "1icTxnqlogjn"
      },
      "source": [
        "# Classification binaire sur Score d'appétence d'un produit bancaire"
      ]
    },
    {
      "cell_type": "markdown",
      "metadata": {
        "id": "dDaHYG0Dogj1"
      },
      "source": [
        "#### Introduction\n",
        "Ce lab propose d'utiliser un jeu de données bancaires en explorant les méthodes disponibles sur scikit learn. L'objectif business principal, classique en marketing, est de produire une segmentation de clientèle, c'est-à-dire une répartition en classes homogènes des clients en fonction de leur comportement bancaire. C'est aussi la mise en oeuvre d'une démarche classique permettant d'affiner sa compréhension des données dans l'idée de construire un score d'appétence pour la carte visa premier.\n",
        "\n",
        "Il s'agit ici d'un score d'appétence de la carte Visa Premier mais ce pourrait être un score d'attrition ({\\it churn}) d'un opérateur téléphonique ou encore un score de défaillance d'un emprunteur ou de faillite d'une entreprise; les outils de modélisation sont les mêmes et sont très largement utilisés dans tout le secteur tertiaire pour l'aide à la décision.\n",
        "\n",
        "Les données sont composées de 825 clients d'une banque décrits par 32 variables concernant leurs avoirs, et utilisations de leurs comptes. On va estimer puis prévoir un *score d'appétence* pour un produit bancaie, ici la carte visa premier.\n",
        "\n",
        "Pour atteindre cet objectif, nous utiliserons la régression logistique et ses différéntes variantes disponibles sur scikit learn\n",
        ".\n",
        "## Introduction\n",
        "### Objectif\n",
        "Il est généralement préférable d'effectuer une exploration des données avant d'entamer le travail de modélisation. Mais dans le cadre de cet exemple, nous allons directement construire un score d'appétence pour la carte *Visa Premier* à l'aide de méthodes de classification.\n",
        "\n",
        "Il s'agit d'un score d'appétence mais ce pourrait être le score d'attrition (*churn*) d'un opérateur téléphonique ou encore un score de défaillance d'un emprunteur ou de faillite d'une entreprise; les outils de modélisation sont les mêmes et sont très largement utilisés dans tout le secteur tertiaire pour l'aide à la décision.\n",
        "\n",
        "### Présentation des données\n",
        "#### Les variables\n",
        "La liste des variables est issue d'une base de données retraçant l'historique mensuel bancaire et les caractéristiques de tous les clients. Un sondage a été réalisé afin d'alléger les traitements ainsi qu'une première sélection de variables. Les variables contenues dans le fichier initial sont décrites dans le tableau ci-dessous. Elles sont observées sur 1425 clients.\n",
        "\n",
        "*Tableau: Liste des variables initiales et de leur libellé* Attention, certains sont écrits en majuscules dans les programmes puis en minuscules après transfomation des données (logarithme, recodage). Les noms des variables quantitatives se terminent par `L`les variables qualitatives se terminent par `Q`ou `q`.\n",
        "\n",
        "**Identifiant** | **Libellé**\n",
        "           --|--\n",
        "`sexeq` | Sexe (qualitatif)\n",
        "`ager` | Age en années\n",
        "`famiq` | Situation familiale: `Fmar Fcel Fdiv Fuli Fsep Fveu`\n",
        "`relat` | Ancienneté de relation en mois\n",
        "`pcspq` | Catégorie socio-professionnelle (code num)\n",
        "`opgnb` | Nombre d'opérations par guichet dans le mois\n",
        "`moyrv` | Moyenne des mouvements nets créditeurs des 3 mois en Kf\n",
        "`tavep` | Total des avoirs épargne monétaire en francs\n",
        "`endet` | Taux d'endettement\n",
        "`gaget` | Total des engagements en francs\n",
        "`gagec` | Total des engagements court terme en francs\n",
        "`gagem` | Total des engagements moyen terme en francs\n",
        "`kvunb` | Nombre de comptes à vue\n",
        "`qsmoy` | Moyenne des soldes moyens sur 3 mois\n",
        "`qcred` | Moyenne des mouvements créditeurs en Kf\n",
        "`dmvtp` | Age du dernier mouvement (en jours)\\hline\n",
        "`boppn` | Nombre d'opérations à M-1\n",
        "`facan` | Montant facturé dans l'année en francs\n",
        "`lgagt` | Engagement long terme\n",
        "`vienb` | Nombre de produits contrats vie\n",
        "`viemt` | Montant des produits contrats vie en francs\n",
        "`uemnb` | Nombre de produits épargne monétaire\n",
        "`xlgnb` | Nombre de produits d'épargne logement\n",
        "`xlgmt` | Montant des produits d'épargne logement en francs\n",
        "`ylvnb` | Nombre de comptes sur livret\n",
        "`ylvmt` | Montant des comptes sur livret en francs\n",
        "`rocnb` | Nombre de paiements par carte bancaire à M-1\n",
        "`nptag` | Nombre de cartes point argent\n",
        "`itavc` | Total des avoirs sur tous les comptes\n",
        "`havef` | Total des avoirs épargne financière en francs\n",
        "`jnbjd | Nombre de jours à débit à M\n",
        "**`carvp`** | **Possession de la carte VISA Premier** (qualitative, le Y)"
      ]
    },
    {
      "cell_type": "markdown",
      "metadata": {
        "id": "KkrI6G97ogj7"
      },
      "source": [
        "\n",
        "**Important : Executez et modifiez le code pour le comprendre, n'oubliez pas d'utilise les fonctions type et help pour explorer les paramètres et retours des fonctions, modifiez, Googlez les erreurs, lisez la documentation ... **"
      ]
    },
    {
      "cell_type": "markdown",
      "metadata": {
        "id": "d9e9L9tMogj9"
      },
      "source": [
        "La base de données représente l'historique bancaire ainsi que les caractéristiques d'un certain nombre de clients. Les variables contenues dans le fichier sont décrites ci-après :\n",
        "\n",
        "\n"
      ]
    },
    {
      "cell_type": "code",
      "execution_count": null,
      "metadata": {
        "id": "WoRJ5O2cogkD"
      },
      "outputs": [],
      "source": [
        "# Importation des librairies.\n",
        "import numpy as np\n",
        "import pandas as pd\n",
        "import random as rd\n",
        "import matplotlib.pyplot as plt\n",
        "%matplotlib inline\n",
        "from sklearn.model_selection import train_test_split\n",
        "from sklearn.model_selection import GridSearchCV"
      ]
    },
    {
      "cell_type": "code",
      "execution_count": null,
      "metadata": {
        "colab": {
          "base_uri": "https://localhost:8080/"
        },
        "id": "8nfSM8wJogkH",
        "outputId": "0abaf14c-db7a-4b3c-be79-9e06df0279fe"
      },
      "outputs": [
        {
          "output_type": "stream",
          "name": "stdout",
          "text": [
            "Help on function train_test_split in module sklearn.model_selection._split:\n",
            "\n",
            "train_test_split(*arrays, test_size=None, train_size=None, random_state=None, shuffle=True, stratify=None)\n",
            "    Split arrays or matrices into random train and test subsets.\n",
            "    \n",
            "    Quick utility that wraps input validation and\n",
            "    ``next(ShuffleSplit().split(X, y))`` and application to input data\n",
            "    into a single call for splitting (and optionally subsampling) data in a\n",
            "    oneliner.\n",
            "    \n",
            "    Read more in the :ref:`User Guide <cross_validation>`.\n",
            "    \n",
            "    Parameters\n",
            "    ----------\n",
            "    *arrays : sequence of indexables with same length / shape[0]\n",
            "        Allowed inputs are lists, numpy arrays, scipy-sparse\n",
            "        matrices or pandas dataframes.\n",
            "    \n",
            "    test_size : float or int, default=None\n",
            "        If float, should be between 0.0 and 1.0 and represent the proportion\n",
            "        of the dataset to include in the test split. If int, represents the\n",
            "        absolute number of test samples. If None, the value is set to the\n",
            "        complement of the train size. If ``train_size`` is also None, it will\n",
            "        be set to 0.25.\n",
            "    \n",
            "    train_size : float or int, default=None\n",
            "        If float, should be between 0.0 and 1.0 and represent the\n",
            "        proportion of the dataset to include in the train split. If\n",
            "        int, represents the absolute number of train samples. If None,\n",
            "        the value is automatically set to the complement of the test size.\n",
            "    \n",
            "    random_state : int, RandomState instance or None, default=None\n",
            "        Controls the shuffling applied to the data before applying the split.\n",
            "        Pass an int for reproducible output across multiple function calls.\n",
            "        See :term:`Glossary <random_state>`.\n",
            "    \n",
            "    shuffle : bool, default=True\n",
            "        Whether or not to shuffle the data before splitting. If shuffle=False\n",
            "        then stratify must be None.\n",
            "    \n",
            "    stratify : array-like, default=None\n",
            "        If not None, data is split in a stratified fashion, using this as\n",
            "        the class labels.\n",
            "        Read more in the :ref:`User Guide <stratification>`.\n",
            "    \n",
            "    Returns\n",
            "    -------\n",
            "    splitting : list, length=2 * len(arrays)\n",
            "        List containing train-test split of inputs.\n",
            "    \n",
            "        .. versionadded:: 0.16\n",
            "            If the input is sparse, the output will be a\n",
            "            ``scipy.sparse.csr_matrix``. Else, output type is the same as the\n",
            "            input type.\n",
            "    \n",
            "    Examples\n",
            "    --------\n",
            "    >>> import numpy as np\n",
            "    >>> from sklearn.model_selection import train_test_split\n",
            "    >>> X, y = np.arange(10).reshape((5, 2)), range(5)\n",
            "    >>> X\n",
            "    array([[0, 1],\n",
            "           [2, 3],\n",
            "           [4, 5],\n",
            "           [6, 7],\n",
            "           [8, 9]])\n",
            "    >>> list(y)\n",
            "    [0, 1, 2, 3, 4]\n",
            "    \n",
            "    >>> X_train, X_test, y_train, y_test = train_test_split(\n",
            "    ...     X, y, test_size=0.33, random_state=42)\n",
            "    ...\n",
            "    >>> X_train\n",
            "    array([[4, 5],\n",
            "           [0, 1],\n",
            "           [6, 7]])\n",
            "    >>> y_train\n",
            "    [2, 0, 3]\n",
            "    >>> X_test\n",
            "    array([[2, 3],\n",
            "           [8, 9]])\n",
            "    >>> y_test\n",
            "    [1, 4]\n",
            "    \n",
            "    >>> train_test_split(y, shuffle=False)\n",
            "    [[0, 1, 2], [3, 4]]\n",
            "\n"
          ]
        }
      ],
      "source": [
        "help(train_test_split)"
      ]
    },
    {
      "cell_type": "code",
      "execution_count": null,
      "metadata": {
        "colab": {
          "base_uri": "https://localhost:8080/"
        },
        "id": "qDQ2Ex0EogkL",
        "outputId": "e51cc745-da0a-4f8f-dd2c-f57b1d57241d"
      },
      "outputs": [
        {
          "output_type": "execute_result",
          "data": {
            "text/plain": [
              "(1063, 54)"
            ]
          },
          "metadata": {},
          "execution_count": 32
        }
      ],
      "source": [
        "# Lecture d'un data frame\n",
        "visa_df = pd.read_table('visa.dat', delimiter=' ')\n",
        "visa_df.shape\n"
      ]
    },
    {
      "cell_type": "code",
      "execution_count": null,
      "metadata": {
        "colab": {
          "base_uri": "https://localhost:8080/"
        },
        "id": "Bx-au2WJogkO",
        "outputId": "ffb88a50-d010-40e6-af2a-a379a723eced"
      },
      "outputs": [
        {
          "output_type": "execute_result",
          "data": {
            "text/plain": [
              "2"
            ]
          },
          "metadata": {},
          "execution_count": 33
        }
      ],
      "source": [
        "visa_df.ndim"
      ]
    },
    {
      "cell_type": "code",
      "execution_count": null,
      "metadata": {
        "colab": {
          "base_uri": "https://localhost:8080/"
        },
        "id": "rdkT5wLsogkQ",
        "outputId": "29f31c7c-b614-4d6d-cdd6-2f50fd0f51f6"
      },
      "outputs": [
        {
          "output_type": "stream",
          "name": "stdout",
          "text": [
            "<class 'pandas.core.frame.DataFrame'>\n",
            "Int64Index: 1063 entries, 148009 to 7589439\n",
            "Data columns (total 54 columns):\n",
            " #   Column  Non-Null Count  Dtype  \n",
            "---  ------  --------------  -----  \n",
            " 0   SEXEQ   1063 non-null   object \n",
            " 1   FAMIQ   1063 non-null   object \n",
            " 2   PCSPQ   1063 non-null   object \n",
            " 3   kvunbq  1063 non-null   object \n",
            " 4   vienbq  1063 non-null   object \n",
            " 5   uemnbq  1063 non-null   object \n",
            " 6   xlgnbq  1063 non-null   object \n",
            " 7   ylvnbq  1063 non-null   object \n",
            " 8   rocnbq  1063 non-null   object \n",
            " 9   nptagq  1063 non-null   object \n",
            " 10  endetq  1063 non-null   object \n",
            " 11  gagetq  1063 non-null   object \n",
            " 12  facanq  1063 non-null   object \n",
            " 13  lgagtq  1063 non-null   object \n",
            " 14  havefq  1063 non-null   object \n",
            " 15  jnbjdq  1063 non-null   object \n",
            " 16  ageq    1063 non-null   object \n",
            " 17  relatq  1063 non-null   object \n",
            " 18  qsmoyq  1063 non-null   object \n",
            " 19  opgnbq  1063 non-null   object \n",
            " 20  moyrvq  1063 non-null   object \n",
            " 21  tavepq  1063 non-null   object \n",
            " 22  dmvtpq  1063 non-null   object \n",
            " 23  boppnq  1063 non-null   object \n",
            " 24  itavcq  1063 non-null   object \n",
            " 25  RELAT   1063 non-null   int64  \n",
            " 26  AGER    1063 non-null   int64  \n",
            " 27  OPGNBL  1063 non-null   float64\n",
            " 28  MOYRVL  1063 non-null   float64\n",
            " 29  TAVEPL  1063 non-null   float64\n",
            " 30  ENDETL  1063 non-null   float64\n",
            " 31  GAGETL  1063 non-null   float64\n",
            " 32  GAGECL  1063 non-null   float64\n",
            " 33  GAGEML  1063 non-null   float64\n",
            " 34  KVUNB   1063 non-null   int64  \n",
            " 35  QSMOY   1063 non-null   int64  \n",
            " 36  QCREDL  1063 non-null   float64\n",
            " 37  DMVTPL  1063 non-null   float64\n",
            " 38  BOPPNL  1063 non-null   float64\n",
            " 39  FACANL  1063 non-null   float64\n",
            " 40  LGAGTL  1063 non-null   float64\n",
            " 41  VIENB   1063 non-null   int64  \n",
            " 42  VIEMTL  1063 non-null   float64\n",
            " 43  UEMNB   1063 non-null   int64  \n",
            " 44  XLGNB   1063 non-null   int64  \n",
            " 45  XLGMTL  1063 non-null   float64\n",
            " 46  YLVNB   1063 non-null   int64  \n",
            " 47  YLVMTL  1063 non-null   float64\n",
            " 48  ROCNB   1063 non-null   int64  \n",
            " 49  NPTAG   1063 non-null   int64  \n",
            " 50  ITAVCL  1063 non-null   float64\n",
            " 51  HAVEFL  1063 non-null   float64\n",
            " 52  JNBJDL  1063 non-null   float64\n",
            " 53  CARVP   1063 non-null   object \n",
            "dtypes: float64(18), int64(10), object(26)\n",
            "memory usage: 456.8+ KB\n"
          ]
        }
      ],
      "source": [
        "visa_df.info()"
      ]
    },
    {
      "cell_type": "code",
      "execution_count": null,
      "metadata": {
        "colab": {
          "base_uri": "https://localhost:8080/",
          "height": 394
        },
        "id": "xAsyki1VogkT",
        "outputId": "1b25cee4-3677-417f-9733-4026e4788621"
      },
      "outputs": [
        {
          "output_type": "execute_result",
          "data": {
            "text/plain": [
              "             RELAT         AGER       OPGNBL       MOYRVL       TAVEPL  \\\n",
              "count  1063.000000  1063.000000  1063.000000  1063.000000  1063.000000   \n",
              "mean    132.574788    42.573848     0.627211     2.371296     6.715418   \n",
              "std      93.499830    11.912343     0.685315     1.464376     4.907295   \n",
              "min      -2.000000    18.000000     0.000000     0.000000     0.000000   \n",
              "25%      42.500000    33.000000     0.000000     1.386294     0.000000   \n",
              "50%     130.000000    43.000000     0.693147     2.564949     8.652248   \n",
              "75%     204.500000    52.000000     1.098612     3.349750    10.962298   \n",
              "max     393.000000    65.000000     3.367296     7.451242    13.785052   \n",
              "\n",
              "            ENDETL       GAGETL       GAGECL       GAGEML        KVUNB  ...  \\\n",
              "count  1063.000000  1063.000000  1063.000000  1063.000000  1063.000000  ...   \n",
              "mean      0.827903     4.477338     1.868891     2.394713     1.028222  ...   \n",
              "std       1.279475     5.473534     3.680483     4.540024     0.501554  ...   \n",
              "min       0.000000     0.000000     0.000000     0.000000     0.000000  ...   \n",
              "25%       0.000000     0.000000     0.000000     0.000000     1.000000  ...   \n",
              "50%       0.000000     0.000000     0.000000     0.000000     1.000000  ...   \n",
              "75%       1.945910    10.483833     0.000000     0.000000     1.000000  ...   \n",
              "max       4.605170    15.060512    13.123924    14.296852     4.000000  ...   \n",
              "\n",
              "             UEMNB        XLGNB       XLGMTL        YLVNB       YLVMTL  \\\n",
              "count  1063.000000  1063.000000  1063.000000  1063.000000  1063.000000   \n",
              "mean      1.468485     0.649106     4.161701     0.760113     4.726685   \n",
              "std       1.280262     0.794352     5.205502     0.782235     4.662683   \n",
              "min       0.000000     0.000000     0.000000     0.000000     0.000000   \n",
              "25%       0.000000     0.000000     0.000000     0.000000     0.000000   \n",
              "50%       1.000000     0.000000     0.000000     1.000000     4.882802   \n",
              "75%       2.000000     1.000000    10.033572     1.000000     9.651494   \n",
              "max       9.000000     4.000000    13.270100     4.000000    13.785052   \n",
              "\n",
              "             ROCNB        NPTAG       ITAVCL       HAVEFL       JNBJDL  \n",
              "count  1063.000000  1063.000000  1063.000000  1063.000000  1063.000000  \n",
              "mean      8.564440     0.136406     9.373976     3.043170     1.189791  \n",
              "std      11.738092     0.379837     3.313518     4.665580     1.587594  \n",
              "min       0.000000     0.000000     0.000000     0.000000     0.000000  \n",
              "25%       0.000000     0.000000     8.067305     0.000000     0.000000  \n",
              "50%       2.000000     0.000000    10.075969     0.000000     0.000000  \n",
              "75%      14.000000     0.000000    11.649131     6.216606     2.441401  \n",
              "max      69.000000     4.000000    16.045468    15.770893     4.905275  \n",
              "\n",
              "[8 rows x 28 columns]"
            ],
            "text/html": [
              "\n",
              "  <div id=\"df-ec02d8b5-38b5-454d-83d0-f82016ec249f\">\n",
              "    <div class=\"colab-df-container\">\n",
              "      <div>\n",
              "<style scoped>\n",
              "    .dataframe tbody tr th:only-of-type {\n",
              "        vertical-align: middle;\n",
              "    }\n",
              "\n",
              "    .dataframe tbody tr th {\n",
              "        vertical-align: top;\n",
              "    }\n",
              "\n",
              "    .dataframe thead th {\n",
              "        text-align: right;\n",
              "    }\n",
              "</style>\n",
              "<table border=\"1\" class=\"dataframe\">\n",
              "  <thead>\n",
              "    <tr style=\"text-align: right;\">\n",
              "      <th></th>\n",
              "      <th>RELAT</th>\n",
              "      <th>AGER</th>\n",
              "      <th>OPGNBL</th>\n",
              "      <th>MOYRVL</th>\n",
              "      <th>TAVEPL</th>\n",
              "      <th>ENDETL</th>\n",
              "      <th>GAGETL</th>\n",
              "      <th>GAGECL</th>\n",
              "      <th>GAGEML</th>\n",
              "      <th>KVUNB</th>\n",
              "      <th>...</th>\n",
              "      <th>UEMNB</th>\n",
              "      <th>XLGNB</th>\n",
              "      <th>XLGMTL</th>\n",
              "      <th>YLVNB</th>\n",
              "      <th>YLVMTL</th>\n",
              "      <th>ROCNB</th>\n",
              "      <th>NPTAG</th>\n",
              "      <th>ITAVCL</th>\n",
              "      <th>HAVEFL</th>\n",
              "      <th>JNBJDL</th>\n",
              "    </tr>\n",
              "  </thead>\n",
              "  <tbody>\n",
              "    <tr>\n",
              "      <th>count</th>\n",
              "      <td>1063.000000</td>\n",
              "      <td>1063.000000</td>\n",
              "      <td>1063.000000</td>\n",
              "      <td>1063.000000</td>\n",
              "      <td>1063.000000</td>\n",
              "      <td>1063.000000</td>\n",
              "      <td>1063.000000</td>\n",
              "      <td>1063.000000</td>\n",
              "      <td>1063.000000</td>\n",
              "      <td>1063.000000</td>\n",
              "      <td>...</td>\n",
              "      <td>1063.000000</td>\n",
              "      <td>1063.000000</td>\n",
              "      <td>1063.000000</td>\n",
              "      <td>1063.000000</td>\n",
              "      <td>1063.000000</td>\n",
              "      <td>1063.000000</td>\n",
              "      <td>1063.000000</td>\n",
              "      <td>1063.000000</td>\n",
              "      <td>1063.000000</td>\n",
              "      <td>1063.000000</td>\n",
              "    </tr>\n",
              "    <tr>\n",
              "      <th>mean</th>\n",
              "      <td>132.574788</td>\n",
              "      <td>42.573848</td>\n",
              "      <td>0.627211</td>\n",
              "      <td>2.371296</td>\n",
              "      <td>6.715418</td>\n",
              "      <td>0.827903</td>\n",
              "      <td>4.477338</td>\n",
              "      <td>1.868891</td>\n",
              "      <td>2.394713</td>\n",
              "      <td>1.028222</td>\n",
              "      <td>...</td>\n",
              "      <td>1.468485</td>\n",
              "      <td>0.649106</td>\n",
              "      <td>4.161701</td>\n",
              "      <td>0.760113</td>\n",
              "      <td>4.726685</td>\n",
              "      <td>8.564440</td>\n",
              "      <td>0.136406</td>\n",
              "      <td>9.373976</td>\n",
              "      <td>3.043170</td>\n",
              "      <td>1.189791</td>\n",
              "    </tr>\n",
              "    <tr>\n",
              "      <th>std</th>\n",
              "      <td>93.499830</td>\n",
              "      <td>11.912343</td>\n",
              "      <td>0.685315</td>\n",
              "      <td>1.464376</td>\n",
              "      <td>4.907295</td>\n",
              "      <td>1.279475</td>\n",
              "      <td>5.473534</td>\n",
              "      <td>3.680483</td>\n",
              "      <td>4.540024</td>\n",
              "      <td>0.501554</td>\n",
              "      <td>...</td>\n",
              "      <td>1.280262</td>\n",
              "      <td>0.794352</td>\n",
              "      <td>5.205502</td>\n",
              "      <td>0.782235</td>\n",
              "      <td>4.662683</td>\n",
              "      <td>11.738092</td>\n",
              "      <td>0.379837</td>\n",
              "      <td>3.313518</td>\n",
              "      <td>4.665580</td>\n",
              "      <td>1.587594</td>\n",
              "    </tr>\n",
              "    <tr>\n",
              "      <th>min</th>\n",
              "      <td>-2.000000</td>\n",
              "      <td>18.000000</td>\n",
              "      <td>0.000000</td>\n",
              "      <td>0.000000</td>\n",
              "      <td>0.000000</td>\n",
              "      <td>0.000000</td>\n",
              "      <td>0.000000</td>\n",
              "      <td>0.000000</td>\n",
              "      <td>0.000000</td>\n",
              "      <td>0.000000</td>\n",
              "      <td>...</td>\n",
              "      <td>0.000000</td>\n",
              "      <td>0.000000</td>\n",
              "      <td>0.000000</td>\n",
              "      <td>0.000000</td>\n",
              "      <td>0.000000</td>\n",
              "      <td>0.000000</td>\n",
              "      <td>0.000000</td>\n",
              "      <td>0.000000</td>\n",
              "      <td>0.000000</td>\n",
              "      <td>0.000000</td>\n",
              "    </tr>\n",
              "    <tr>\n",
              "      <th>25%</th>\n",
              "      <td>42.500000</td>\n",
              "      <td>33.000000</td>\n",
              "      <td>0.000000</td>\n",
              "      <td>1.386294</td>\n",
              "      <td>0.000000</td>\n",
              "      <td>0.000000</td>\n",
              "      <td>0.000000</td>\n",
              "      <td>0.000000</td>\n",
              "      <td>0.000000</td>\n",
              "      <td>1.000000</td>\n",
              "      <td>...</td>\n",
              "      <td>0.000000</td>\n",
              "      <td>0.000000</td>\n",
              "      <td>0.000000</td>\n",
              "      <td>0.000000</td>\n",
              "      <td>0.000000</td>\n",
              "      <td>0.000000</td>\n",
              "      <td>0.000000</td>\n",
              "      <td>8.067305</td>\n",
              "      <td>0.000000</td>\n",
              "      <td>0.000000</td>\n",
              "    </tr>\n",
              "    <tr>\n",
              "      <th>50%</th>\n",
              "      <td>130.000000</td>\n",
              "      <td>43.000000</td>\n",
              "      <td>0.693147</td>\n",
              "      <td>2.564949</td>\n",
              "      <td>8.652248</td>\n",
              "      <td>0.000000</td>\n",
              "      <td>0.000000</td>\n",
              "      <td>0.000000</td>\n",
              "      <td>0.000000</td>\n",
              "      <td>1.000000</td>\n",
              "      <td>...</td>\n",
              "      <td>1.000000</td>\n",
              "      <td>0.000000</td>\n",
              "      <td>0.000000</td>\n",
              "      <td>1.000000</td>\n",
              "      <td>4.882802</td>\n",
              "      <td>2.000000</td>\n",
              "      <td>0.000000</td>\n",
              "      <td>10.075969</td>\n",
              "      <td>0.000000</td>\n",
              "      <td>0.000000</td>\n",
              "    </tr>\n",
              "    <tr>\n",
              "      <th>75%</th>\n",
              "      <td>204.500000</td>\n",
              "      <td>52.000000</td>\n",
              "      <td>1.098612</td>\n",
              "      <td>3.349750</td>\n",
              "      <td>10.962298</td>\n",
              "      <td>1.945910</td>\n",
              "      <td>10.483833</td>\n",
              "      <td>0.000000</td>\n",
              "      <td>0.000000</td>\n",
              "      <td>1.000000</td>\n",
              "      <td>...</td>\n",
              "      <td>2.000000</td>\n",
              "      <td>1.000000</td>\n",
              "      <td>10.033572</td>\n",
              "      <td>1.000000</td>\n",
              "      <td>9.651494</td>\n",
              "      <td>14.000000</td>\n",
              "      <td>0.000000</td>\n",
              "      <td>11.649131</td>\n",
              "      <td>6.216606</td>\n",
              "      <td>2.441401</td>\n",
              "    </tr>\n",
              "    <tr>\n",
              "      <th>max</th>\n",
              "      <td>393.000000</td>\n",
              "      <td>65.000000</td>\n",
              "      <td>3.367296</td>\n",
              "      <td>7.451242</td>\n",
              "      <td>13.785052</td>\n",
              "      <td>4.605170</td>\n",
              "      <td>15.060512</td>\n",
              "      <td>13.123924</td>\n",
              "      <td>14.296852</td>\n",
              "      <td>4.000000</td>\n",
              "      <td>...</td>\n",
              "      <td>9.000000</td>\n",
              "      <td>4.000000</td>\n",
              "      <td>13.270100</td>\n",
              "      <td>4.000000</td>\n",
              "      <td>13.785052</td>\n",
              "      <td>69.000000</td>\n",
              "      <td>4.000000</td>\n",
              "      <td>16.045468</td>\n",
              "      <td>15.770893</td>\n",
              "      <td>4.905275</td>\n",
              "    </tr>\n",
              "  </tbody>\n",
              "</table>\n",
              "<p>8 rows × 28 columns</p>\n",
              "</div>\n",
              "      <button class=\"colab-df-convert\" onclick=\"convertToInteractive('df-ec02d8b5-38b5-454d-83d0-f82016ec249f')\"\n",
              "              title=\"Convert this dataframe to an interactive table.\"\n",
              "              style=\"display:none;\">\n",
              "        \n",
              "  <svg xmlns=\"http://www.w3.org/2000/svg\" height=\"24px\"viewBox=\"0 0 24 24\"\n",
              "       width=\"24px\">\n",
              "    <path d=\"M0 0h24v24H0V0z\" fill=\"none\"/>\n",
              "    <path d=\"M18.56 5.44l.94 2.06.94-2.06 2.06-.94-2.06-.94-.94-2.06-.94 2.06-2.06.94zm-11 1L8.5 8.5l.94-2.06 2.06-.94-2.06-.94L8.5 2.5l-.94 2.06-2.06.94zm10 10l.94 2.06.94-2.06 2.06-.94-2.06-.94-.94-2.06-.94 2.06-2.06.94z\"/><path d=\"M17.41 7.96l-1.37-1.37c-.4-.4-.92-.59-1.43-.59-.52 0-1.04.2-1.43.59L10.3 9.45l-7.72 7.72c-.78.78-.78 2.05 0 2.83L4 21.41c.39.39.9.59 1.41.59.51 0 1.02-.2 1.41-.59l7.78-7.78 2.81-2.81c.8-.78.8-2.07 0-2.86zM5.41 20L4 18.59l7.72-7.72 1.47 1.35L5.41 20z\"/>\n",
              "  </svg>\n",
              "      </button>\n",
              "      \n",
              "  <style>\n",
              "    .colab-df-container {\n",
              "      display:flex;\n",
              "      flex-wrap:wrap;\n",
              "      gap: 12px;\n",
              "    }\n",
              "\n",
              "    .colab-df-convert {\n",
              "      background-color: #E8F0FE;\n",
              "      border: none;\n",
              "      border-radius: 50%;\n",
              "      cursor: pointer;\n",
              "      display: none;\n",
              "      fill: #1967D2;\n",
              "      height: 32px;\n",
              "      padding: 0 0 0 0;\n",
              "      width: 32px;\n",
              "    }\n",
              "\n",
              "    .colab-df-convert:hover {\n",
              "      background-color: #E2EBFA;\n",
              "      box-shadow: 0px 1px 2px rgba(60, 64, 67, 0.3), 0px 1px 3px 1px rgba(60, 64, 67, 0.15);\n",
              "      fill: #174EA6;\n",
              "    }\n",
              "\n",
              "    [theme=dark] .colab-df-convert {\n",
              "      background-color: #3B4455;\n",
              "      fill: #D2E3FC;\n",
              "    }\n",
              "\n",
              "    [theme=dark] .colab-df-convert:hover {\n",
              "      background-color: #434B5C;\n",
              "      box-shadow: 0px 1px 3px 1px rgba(0, 0, 0, 0.15);\n",
              "      filter: drop-shadow(0px 1px 2px rgba(0, 0, 0, 0.3));\n",
              "      fill: #FFFFFF;\n",
              "    }\n",
              "  </style>\n",
              "\n",
              "      <script>\n",
              "        const buttonEl =\n",
              "          document.querySelector('#df-ec02d8b5-38b5-454d-83d0-f82016ec249f button.colab-df-convert');\n",
              "        buttonEl.style.display =\n",
              "          google.colab.kernel.accessAllowed ? 'block' : 'none';\n",
              "\n",
              "        async function convertToInteractive(key) {\n",
              "          const element = document.querySelector('#df-ec02d8b5-38b5-454d-83d0-f82016ec249f');\n",
              "          const dataTable =\n",
              "            await google.colab.kernel.invokeFunction('convertToInteractive',\n",
              "                                                     [key], {});\n",
              "          if (!dataTable) return;\n",
              "\n",
              "          const docLinkHtml = 'Like what you see? Visit the ' +\n",
              "            '<a target=\"_blank\" href=https://colab.research.google.com/notebooks/data_table.ipynb>data table notebook</a>'\n",
              "            + ' to learn more about interactive tables.';\n",
              "          element.innerHTML = '';\n",
              "          dataTable['output_type'] = 'display_data';\n",
              "          await google.colab.output.renderOutput(dataTable, element);\n",
              "          const docLink = document.createElement('div');\n",
              "          docLink.innerHTML = docLinkHtml;\n",
              "          element.appendChild(docLink);\n",
              "        }\n",
              "      </script>\n",
              "    </div>\n",
              "  </div>\n",
              "  "
            ]
          },
          "metadata": {},
          "execution_count": 35
        }
      ],
      "source": [
        "visa_df.describe()"
      ]
    },
    {
      "cell_type": "code",
      "execution_count": null,
      "metadata": {
        "colab": {
          "base_uri": "https://localhost:8080/"
        },
        "id": "cYDoB796ogkX",
        "outputId": "40c393eb-1295-488a-fb1c-8705eb6edb55"
      },
      "outputs": [
        {
          "output_type": "execute_result",
          "data": {
            "text/plain": [
              "2"
            ]
          },
          "metadata": {},
          "execution_count": 36
        }
      ],
      "source": [
        "#count-values\n",
        "visa_df[\"CARVP\"].nunique(dropna=False)"
      ]
    },
    {
      "cell_type": "code",
      "execution_count": null,
      "metadata": {
        "colab": {
          "base_uri": "https://localhost:8080/"
        },
        "id": "z1Wz7Y4kogkZ",
        "outputId": "a0aeee4b-3c6f-4f7f-b52e-c06228948f4f"
      },
      "outputs": [
        {
          "output_type": "execute_result",
          "data": {
            "text/plain": [
              "Cnon    706\n",
              "Coui    357\n",
              "Name: CARVP, dtype: int64"
            ]
          },
          "metadata": {},
          "execution_count": 37
        }
      ],
      "source": [
        "visa_df[\"CARVP\"].value_counts()"
      ]
    },
    {
      "cell_type": "code",
      "execution_count": null,
      "metadata": {
        "colab": {
          "base_uri": "https://localhost:8080/",
          "height": 300
        },
        "id": "XeeWTlFmogka",
        "outputId": "b954ceae-d992-4f28-aa29-f7b01e18e8df"
      },
      "outputs": [
        {
          "output_type": "execute_result",
          "data": {
            "text/plain": [
              "       SEXEQ FAMIQ PCSPQ kvunbq vienbq uemnbq xlgnbq ylvnbq rocnbq nptagq  \\\n",
              "148009  Shom  Fcou  Pint     K1     V1     U2     X2     Y2     R1     N0   \n",
              "552427  Shom  Fcou  Pint     K0     V0     U1     X0     Y1     R0     N0   \n",
              "556005  Shom  Fseu  Psan     K0     V0     U2     X1     Y2     R1     N0   \n",
              "556686  Shom  Fseu  Pouv     K0     V1     U2     X2     Y2     R1     N1   \n",
              "642680  Shom  Fcou  Pint     K0     V0     U2     X1     Y2     R1     N0   \n",
              "\n",
              "        ... XLGNB     XLGMTL YLVNB     YLVMTL ROCNB NPTAG     ITAVCL  \\\n",
              "148009  ...     2  13.161865     2  12.110635    14     0  14.080718   \n",
              "552427  ...     0   0.000000     1   8.132413     0     0  11.717872   \n",
              "556005  ...     1  10.743178     2  10.309286    14     0  11.329303   \n",
              "556686  ...     3  12.899220     2  11.203025    11     1  13.111856   \n",
              "642680  ...     1  10.457976     2   9.190546    27     0  11.304904   \n",
              "\n",
              "           HAVEFL    JNBJDL CARVP  \n",
              "148009  13.230263  0.693147  Coui  \n",
              "552427   0.000000  0.000000  Coui  \n",
              "556005   0.000000  0.000000  Coui  \n",
              "556686   9.972267  2.772589  Coui  \n",
              "642680   0.000000  1.386294  Coui  \n",
              "\n",
              "[5 rows x 54 columns]"
            ],
            "text/html": [
              "\n",
              "  <div id=\"df-8d63f7f2-71c3-44a3-90de-8596dd3ca06f\">\n",
              "    <div class=\"colab-df-container\">\n",
              "      <div>\n",
              "<style scoped>\n",
              "    .dataframe tbody tr th:only-of-type {\n",
              "        vertical-align: middle;\n",
              "    }\n",
              "\n",
              "    .dataframe tbody tr th {\n",
              "        vertical-align: top;\n",
              "    }\n",
              "\n",
              "    .dataframe thead th {\n",
              "        text-align: right;\n",
              "    }\n",
              "</style>\n",
              "<table border=\"1\" class=\"dataframe\">\n",
              "  <thead>\n",
              "    <tr style=\"text-align: right;\">\n",
              "      <th></th>\n",
              "      <th>SEXEQ</th>\n",
              "      <th>FAMIQ</th>\n",
              "      <th>PCSPQ</th>\n",
              "      <th>kvunbq</th>\n",
              "      <th>vienbq</th>\n",
              "      <th>uemnbq</th>\n",
              "      <th>xlgnbq</th>\n",
              "      <th>ylvnbq</th>\n",
              "      <th>rocnbq</th>\n",
              "      <th>nptagq</th>\n",
              "      <th>...</th>\n",
              "      <th>XLGNB</th>\n",
              "      <th>XLGMTL</th>\n",
              "      <th>YLVNB</th>\n",
              "      <th>YLVMTL</th>\n",
              "      <th>ROCNB</th>\n",
              "      <th>NPTAG</th>\n",
              "      <th>ITAVCL</th>\n",
              "      <th>HAVEFL</th>\n",
              "      <th>JNBJDL</th>\n",
              "      <th>CARVP</th>\n",
              "    </tr>\n",
              "  </thead>\n",
              "  <tbody>\n",
              "    <tr>\n",
              "      <th>148009</th>\n",
              "      <td>Shom</td>\n",
              "      <td>Fcou</td>\n",
              "      <td>Pint</td>\n",
              "      <td>K1</td>\n",
              "      <td>V1</td>\n",
              "      <td>U2</td>\n",
              "      <td>X2</td>\n",
              "      <td>Y2</td>\n",
              "      <td>R1</td>\n",
              "      <td>N0</td>\n",
              "      <td>...</td>\n",
              "      <td>2</td>\n",
              "      <td>13.161865</td>\n",
              "      <td>2</td>\n",
              "      <td>12.110635</td>\n",
              "      <td>14</td>\n",
              "      <td>0</td>\n",
              "      <td>14.080718</td>\n",
              "      <td>13.230263</td>\n",
              "      <td>0.693147</td>\n",
              "      <td>Coui</td>\n",
              "    </tr>\n",
              "    <tr>\n",
              "      <th>552427</th>\n",
              "      <td>Shom</td>\n",
              "      <td>Fcou</td>\n",
              "      <td>Pint</td>\n",
              "      <td>K0</td>\n",
              "      <td>V0</td>\n",
              "      <td>U1</td>\n",
              "      <td>X0</td>\n",
              "      <td>Y1</td>\n",
              "      <td>R0</td>\n",
              "      <td>N0</td>\n",
              "      <td>...</td>\n",
              "      <td>0</td>\n",
              "      <td>0.000000</td>\n",
              "      <td>1</td>\n",
              "      <td>8.132413</td>\n",
              "      <td>0</td>\n",
              "      <td>0</td>\n",
              "      <td>11.717872</td>\n",
              "      <td>0.000000</td>\n",
              "      <td>0.000000</td>\n",
              "      <td>Coui</td>\n",
              "    </tr>\n",
              "    <tr>\n",
              "      <th>556005</th>\n",
              "      <td>Shom</td>\n",
              "      <td>Fseu</td>\n",
              "      <td>Psan</td>\n",
              "      <td>K0</td>\n",
              "      <td>V0</td>\n",
              "      <td>U2</td>\n",
              "      <td>X1</td>\n",
              "      <td>Y2</td>\n",
              "      <td>R1</td>\n",
              "      <td>N0</td>\n",
              "      <td>...</td>\n",
              "      <td>1</td>\n",
              "      <td>10.743178</td>\n",
              "      <td>2</td>\n",
              "      <td>10.309286</td>\n",
              "      <td>14</td>\n",
              "      <td>0</td>\n",
              "      <td>11.329303</td>\n",
              "      <td>0.000000</td>\n",
              "      <td>0.000000</td>\n",
              "      <td>Coui</td>\n",
              "    </tr>\n",
              "    <tr>\n",
              "      <th>556686</th>\n",
              "      <td>Shom</td>\n",
              "      <td>Fseu</td>\n",
              "      <td>Pouv</td>\n",
              "      <td>K0</td>\n",
              "      <td>V1</td>\n",
              "      <td>U2</td>\n",
              "      <td>X2</td>\n",
              "      <td>Y2</td>\n",
              "      <td>R1</td>\n",
              "      <td>N1</td>\n",
              "      <td>...</td>\n",
              "      <td>3</td>\n",
              "      <td>12.899220</td>\n",
              "      <td>2</td>\n",
              "      <td>11.203025</td>\n",
              "      <td>11</td>\n",
              "      <td>1</td>\n",
              "      <td>13.111856</td>\n",
              "      <td>9.972267</td>\n",
              "      <td>2.772589</td>\n",
              "      <td>Coui</td>\n",
              "    </tr>\n",
              "    <tr>\n",
              "      <th>642680</th>\n",
              "      <td>Shom</td>\n",
              "      <td>Fcou</td>\n",
              "      <td>Pint</td>\n",
              "      <td>K0</td>\n",
              "      <td>V0</td>\n",
              "      <td>U2</td>\n",
              "      <td>X1</td>\n",
              "      <td>Y2</td>\n",
              "      <td>R1</td>\n",
              "      <td>N0</td>\n",
              "      <td>...</td>\n",
              "      <td>1</td>\n",
              "      <td>10.457976</td>\n",
              "      <td>2</td>\n",
              "      <td>9.190546</td>\n",
              "      <td>27</td>\n",
              "      <td>0</td>\n",
              "      <td>11.304904</td>\n",
              "      <td>0.000000</td>\n",
              "      <td>1.386294</td>\n",
              "      <td>Coui</td>\n",
              "    </tr>\n",
              "  </tbody>\n",
              "</table>\n",
              "<p>5 rows × 54 columns</p>\n",
              "</div>\n",
              "      <button class=\"colab-df-convert\" onclick=\"convertToInteractive('df-8d63f7f2-71c3-44a3-90de-8596dd3ca06f')\"\n",
              "              title=\"Convert this dataframe to an interactive table.\"\n",
              "              style=\"display:none;\">\n",
              "        \n",
              "  <svg xmlns=\"http://www.w3.org/2000/svg\" height=\"24px\"viewBox=\"0 0 24 24\"\n",
              "       width=\"24px\">\n",
              "    <path d=\"M0 0h24v24H0V0z\" fill=\"none\"/>\n",
              "    <path d=\"M18.56 5.44l.94 2.06.94-2.06 2.06-.94-2.06-.94-.94-2.06-.94 2.06-2.06.94zm-11 1L8.5 8.5l.94-2.06 2.06-.94-2.06-.94L8.5 2.5l-.94 2.06-2.06.94zm10 10l.94 2.06.94-2.06 2.06-.94-2.06-.94-.94-2.06-.94 2.06-2.06.94z\"/><path d=\"M17.41 7.96l-1.37-1.37c-.4-.4-.92-.59-1.43-.59-.52 0-1.04.2-1.43.59L10.3 9.45l-7.72 7.72c-.78.78-.78 2.05 0 2.83L4 21.41c.39.39.9.59 1.41.59.51 0 1.02-.2 1.41-.59l7.78-7.78 2.81-2.81c.8-.78.8-2.07 0-2.86zM5.41 20L4 18.59l7.72-7.72 1.47 1.35L5.41 20z\"/>\n",
              "  </svg>\n",
              "      </button>\n",
              "      \n",
              "  <style>\n",
              "    .colab-df-container {\n",
              "      display:flex;\n",
              "      flex-wrap:wrap;\n",
              "      gap: 12px;\n",
              "    }\n",
              "\n",
              "    .colab-df-convert {\n",
              "      background-color: #E8F0FE;\n",
              "      border: none;\n",
              "      border-radius: 50%;\n",
              "      cursor: pointer;\n",
              "      display: none;\n",
              "      fill: #1967D2;\n",
              "      height: 32px;\n",
              "      padding: 0 0 0 0;\n",
              "      width: 32px;\n",
              "    }\n",
              "\n",
              "    .colab-df-convert:hover {\n",
              "      background-color: #E2EBFA;\n",
              "      box-shadow: 0px 1px 2px rgba(60, 64, 67, 0.3), 0px 1px 3px 1px rgba(60, 64, 67, 0.15);\n",
              "      fill: #174EA6;\n",
              "    }\n",
              "\n",
              "    [theme=dark] .colab-df-convert {\n",
              "      background-color: #3B4455;\n",
              "      fill: #D2E3FC;\n",
              "    }\n",
              "\n",
              "    [theme=dark] .colab-df-convert:hover {\n",
              "      background-color: #434B5C;\n",
              "      box-shadow: 0px 1px 3px 1px rgba(0, 0, 0, 0.15);\n",
              "      filter: drop-shadow(0px 1px 2px rgba(0, 0, 0, 0.3));\n",
              "      fill: #FFFFFF;\n",
              "    }\n",
              "  </style>\n",
              "\n",
              "      <script>\n",
              "        const buttonEl =\n",
              "          document.querySelector('#df-8d63f7f2-71c3-44a3-90de-8596dd3ca06f button.colab-df-convert');\n",
              "        buttonEl.style.display =\n",
              "          google.colab.kernel.accessAllowed ? 'block' : 'none';\n",
              "\n",
              "        async function convertToInteractive(key) {\n",
              "          const element = document.querySelector('#df-8d63f7f2-71c3-44a3-90de-8596dd3ca06f');\n",
              "          const dataTable =\n",
              "            await google.colab.kernel.invokeFunction('convertToInteractive',\n",
              "                                                     [key], {});\n",
              "          if (!dataTable) return;\n",
              "\n",
              "          const docLinkHtml = 'Like what you see? Visit the ' +\n",
              "            '<a target=\"_blank\" href=https://colab.research.google.com/notebooks/data_table.ipynb>data table notebook</a>'\n",
              "            + ' to learn more about interactive tables.';\n",
              "          element.innerHTML = '';\n",
              "          dataTable['output_type'] = 'display_data';\n",
              "          await google.colab.output.renderOutput(dataTable, element);\n",
              "          const docLink = document.createElement('div');\n",
              "          docLink.innerHTML = docLinkHtml;\n",
              "          element.appendChild(docLink);\n",
              "        }\n",
              "      </script>\n",
              "    </div>\n",
              "  </div>\n",
              "  "
            ]
          },
          "metadata": {},
          "execution_count": 38
        }
      ],
      "source": [
        "visa_df.head()"
      ]
    },
    {
      "cell_type": "code",
      "execution_count": null,
      "metadata": {
        "colab": {
          "base_uri": "https://localhost:8080/",
          "height": 394
        },
        "id": "0r2IJGp4ogkc",
        "outputId": "fe1fc566-13ad-4109-8ff4-cc293bc28620"
      },
      "outputs": [
        {
          "output_type": "execute_result",
          "data": {
            "text/plain": [
              "             RELAT         AGER       OPGNBL       MOYRVL       TAVEPL  \\\n",
              "count  1063.000000  1063.000000  1063.000000  1063.000000  1063.000000   \n",
              "mean    132.574788    42.573848     0.627211     2.371296     6.715418   \n",
              "std      93.499830    11.912343     0.685315     1.464376     4.907295   \n",
              "min      -2.000000    18.000000     0.000000     0.000000     0.000000   \n",
              "25%      42.500000    33.000000     0.000000     1.386294     0.000000   \n",
              "50%     130.000000    43.000000     0.693147     2.564949     8.652248   \n",
              "75%     204.500000    52.000000     1.098612     3.349750    10.962298   \n",
              "max     393.000000    65.000000     3.367296     7.451242    13.785052   \n",
              "\n",
              "            ENDETL       GAGETL       GAGECL       GAGEML        KVUNB  ...  \\\n",
              "count  1063.000000  1063.000000  1063.000000  1063.000000  1063.000000  ...   \n",
              "mean      0.827903     4.477338     1.868891     2.394713     1.028222  ...   \n",
              "std       1.279475     5.473534     3.680483     4.540024     0.501554  ...   \n",
              "min       0.000000     0.000000     0.000000     0.000000     0.000000  ...   \n",
              "25%       0.000000     0.000000     0.000000     0.000000     1.000000  ...   \n",
              "50%       0.000000     0.000000     0.000000     0.000000     1.000000  ...   \n",
              "75%       1.945910    10.483833     0.000000     0.000000     1.000000  ...   \n",
              "max       4.605170    15.060512    13.123924    14.296852     4.000000  ...   \n",
              "\n",
              "             UEMNB        XLGNB       XLGMTL        YLVNB       YLVMTL  \\\n",
              "count  1063.000000  1063.000000  1063.000000  1063.000000  1063.000000   \n",
              "mean      1.468485     0.649106     4.161701     0.760113     4.726685   \n",
              "std       1.280262     0.794352     5.205502     0.782235     4.662683   \n",
              "min       0.000000     0.000000     0.000000     0.000000     0.000000   \n",
              "25%       0.000000     0.000000     0.000000     0.000000     0.000000   \n",
              "50%       1.000000     0.000000     0.000000     1.000000     4.882802   \n",
              "75%       2.000000     1.000000    10.033572     1.000000     9.651494   \n",
              "max       9.000000     4.000000    13.270100     4.000000    13.785052   \n",
              "\n",
              "             ROCNB        NPTAG       ITAVCL       HAVEFL       JNBJDL  \n",
              "count  1063.000000  1063.000000  1063.000000  1063.000000  1063.000000  \n",
              "mean      8.564440     0.136406     9.373976     3.043170     1.189791  \n",
              "std      11.738092     0.379837     3.313518     4.665580     1.587594  \n",
              "min       0.000000     0.000000     0.000000     0.000000     0.000000  \n",
              "25%       0.000000     0.000000     8.067305     0.000000     0.000000  \n",
              "50%       2.000000     0.000000    10.075969     0.000000     0.000000  \n",
              "75%      14.000000     0.000000    11.649131     6.216606     2.441401  \n",
              "max      69.000000     4.000000    16.045468    15.770893     4.905275  \n",
              "\n",
              "[8 rows x 28 columns]"
            ],
            "text/html": [
              "\n",
              "  <div id=\"df-c4876236-3f6e-4b89-b8e1-774b7a3ff91d\">\n",
              "    <div class=\"colab-df-container\">\n",
              "      <div>\n",
              "<style scoped>\n",
              "    .dataframe tbody tr th:only-of-type {\n",
              "        vertical-align: middle;\n",
              "    }\n",
              "\n",
              "    .dataframe tbody tr th {\n",
              "        vertical-align: top;\n",
              "    }\n",
              "\n",
              "    .dataframe thead th {\n",
              "        text-align: right;\n",
              "    }\n",
              "</style>\n",
              "<table border=\"1\" class=\"dataframe\">\n",
              "  <thead>\n",
              "    <tr style=\"text-align: right;\">\n",
              "      <th></th>\n",
              "      <th>RELAT</th>\n",
              "      <th>AGER</th>\n",
              "      <th>OPGNBL</th>\n",
              "      <th>MOYRVL</th>\n",
              "      <th>TAVEPL</th>\n",
              "      <th>ENDETL</th>\n",
              "      <th>GAGETL</th>\n",
              "      <th>GAGECL</th>\n",
              "      <th>GAGEML</th>\n",
              "      <th>KVUNB</th>\n",
              "      <th>...</th>\n",
              "      <th>UEMNB</th>\n",
              "      <th>XLGNB</th>\n",
              "      <th>XLGMTL</th>\n",
              "      <th>YLVNB</th>\n",
              "      <th>YLVMTL</th>\n",
              "      <th>ROCNB</th>\n",
              "      <th>NPTAG</th>\n",
              "      <th>ITAVCL</th>\n",
              "      <th>HAVEFL</th>\n",
              "      <th>JNBJDL</th>\n",
              "    </tr>\n",
              "  </thead>\n",
              "  <tbody>\n",
              "    <tr>\n",
              "      <th>count</th>\n",
              "      <td>1063.000000</td>\n",
              "      <td>1063.000000</td>\n",
              "      <td>1063.000000</td>\n",
              "      <td>1063.000000</td>\n",
              "      <td>1063.000000</td>\n",
              "      <td>1063.000000</td>\n",
              "      <td>1063.000000</td>\n",
              "      <td>1063.000000</td>\n",
              "      <td>1063.000000</td>\n",
              "      <td>1063.000000</td>\n",
              "      <td>...</td>\n",
              "      <td>1063.000000</td>\n",
              "      <td>1063.000000</td>\n",
              "      <td>1063.000000</td>\n",
              "      <td>1063.000000</td>\n",
              "      <td>1063.000000</td>\n",
              "      <td>1063.000000</td>\n",
              "      <td>1063.000000</td>\n",
              "      <td>1063.000000</td>\n",
              "      <td>1063.000000</td>\n",
              "      <td>1063.000000</td>\n",
              "    </tr>\n",
              "    <tr>\n",
              "      <th>mean</th>\n",
              "      <td>132.574788</td>\n",
              "      <td>42.573848</td>\n",
              "      <td>0.627211</td>\n",
              "      <td>2.371296</td>\n",
              "      <td>6.715418</td>\n",
              "      <td>0.827903</td>\n",
              "      <td>4.477338</td>\n",
              "      <td>1.868891</td>\n",
              "      <td>2.394713</td>\n",
              "      <td>1.028222</td>\n",
              "      <td>...</td>\n",
              "      <td>1.468485</td>\n",
              "      <td>0.649106</td>\n",
              "      <td>4.161701</td>\n",
              "      <td>0.760113</td>\n",
              "      <td>4.726685</td>\n",
              "      <td>8.564440</td>\n",
              "      <td>0.136406</td>\n",
              "      <td>9.373976</td>\n",
              "      <td>3.043170</td>\n",
              "      <td>1.189791</td>\n",
              "    </tr>\n",
              "    <tr>\n",
              "      <th>std</th>\n",
              "      <td>93.499830</td>\n",
              "      <td>11.912343</td>\n",
              "      <td>0.685315</td>\n",
              "      <td>1.464376</td>\n",
              "      <td>4.907295</td>\n",
              "      <td>1.279475</td>\n",
              "      <td>5.473534</td>\n",
              "      <td>3.680483</td>\n",
              "      <td>4.540024</td>\n",
              "      <td>0.501554</td>\n",
              "      <td>...</td>\n",
              "      <td>1.280262</td>\n",
              "      <td>0.794352</td>\n",
              "      <td>5.205502</td>\n",
              "      <td>0.782235</td>\n",
              "      <td>4.662683</td>\n",
              "      <td>11.738092</td>\n",
              "      <td>0.379837</td>\n",
              "      <td>3.313518</td>\n",
              "      <td>4.665580</td>\n",
              "      <td>1.587594</td>\n",
              "    </tr>\n",
              "    <tr>\n",
              "      <th>min</th>\n",
              "      <td>-2.000000</td>\n",
              "      <td>18.000000</td>\n",
              "      <td>0.000000</td>\n",
              "      <td>0.000000</td>\n",
              "      <td>0.000000</td>\n",
              "      <td>0.000000</td>\n",
              "      <td>0.000000</td>\n",
              "      <td>0.000000</td>\n",
              "      <td>0.000000</td>\n",
              "      <td>0.000000</td>\n",
              "      <td>...</td>\n",
              "      <td>0.000000</td>\n",
              "      <td>0.000000</td>\n",
              "      <td>0.000000</td>\n",
              "      <td>0.000000</td>\n",
              "      <td>0.000000</td>\n",
              "      <td>0.000000</td>\n",
              "      <td>0.000000</td>\n",
              "      <td>0.000000</td>\n",
              "      <td>0.000000</td>\n",
              "      <td>0.000000</td>\n",
              "    </tr>\n",
              "    <tr>\n",
              "      <th>25%</th>\n",
              "      <td>42.500000</td>\n",
              "      <td>33.000000</td>\n",
              "      <td>0.000000</td>\n",
              "      <td>1.386294</td>\n",
              "      <td>0.000000</td>\n",
              "      <td>0.000000</td>\n",
              "      <td>0.000000</td>\n",
              "      <td>0.000000</td>\n",
              "      <td>0.000000</td>\n",
              "      <td>1.000000</td>\n",
              "      <td>...</td>\n",
              "      <td>0.000000</td>\n",
              "      <td>0.000000</td>\n",
              "      <td>0.000000</td>\n",
              "      <td>0.000000</td>\n",
              "      <td>0.000000</td>\n",
              "      <td>0.000000</td>\n",
              "      <td>0.000000</td>\n",
              "      <td>8.067305</td>\n",
              "      <td>0.000000</td>\n",
              "      <td>0.000000</td>\n",
              "    </tr>\n",
              "    <tr>\n",
              "      <th>50%</th>\n",
              "      <td>130.000000</td>\n",
              "      <td>43.000000</td>\n",
              "      <td>0.693147</td>\n",
              "      <td>2.564949</td>\n",
              "      <td>8.652248</td>\n",
              "      <td>0.000000</td>\n",
              "      <td>0.000000</td>\n",
              "      <td>0.000000</td>\n",
              "      <td>0.000000</td>\n",
              "      <td>1.000000</td>\n",
              "      <td>...</td>\n",
              "      <td>1.000000</td>\n",
              "      <td>0.000000</td>\n",
              "      <td>0.000000</td>\n",
              "      <td>1.000000</td>\n",
              "      <td>4.882802</td>\n",
              "      <td>2.000000</td>\n",
              "      <td>0.000000</td>\n",
              "      <td>10.075969</td>\n",
              "      <td>0.000000</td>\n",
              "      <td>0.000000</td>\n",
              "    </tr>\n",
              "    <tr>\n",
              "      <th>75%</th>\n",
              "      <td>204.500000</td>\n",
              "      <td>52.000000</td>\n",
              "      <td>1.098612</td>\n",
              "      <td>3.349750</td>\n",
              "      <td>10.962298</td>\n",
              "      <td>1.945910</td>\n",
              "      <td>10.483833</td>\n",
              "      <td>0.000000</td>\n",
              "      <td>0.000000</td>\n",
              "      <td>1.000000</td>\n",
              "      <td>...</td>\n",
              "      <td>2.000000</td>\n",
              "      <td>1.000000</td>\n",
              "      <td>10.033572</td>\n",
              "      <td>1.000000</td>\n",
              "      <td>9.651494</td>\n",
              "      <td>14.000000</td>\n",
              "      <td>0.000000</td>\n",
              "      <td>11.649131</td>\n",
              "      <td>6.216606</td>\n",
              "      <td>2.441401</td>\n",
              "    </tr>\n",
              "    <tr>\n",
              "      <th>max</th>\n",
              "      <td>393.000000</td>\n",
              "      <td>65.000000</td>\n",
              "      <td>3.367296</td>\n",
              "      <td>7.451242</td>\n",
              "      <td>13.785052</td>\n",
              "      <td>4.605170</td>\n",
              "      <td>15.060512</td>\n",
              "      <td>13.123924</td>\n",
              "      <td>14.296852</td>\n",
              "      <td>4.000000</td>\n",
              "      <td>...</td>\n",
              "      <td>9.000000</td>\n",
              "      <td>4.000000</td>\n",
              "      <td>13.270100</td>\n",
              "      <td>4.000000</td>\n",
              "      <td>13.785052</td>\n",
              "      <td>69.000000</td>\n",
              "      <td>4.000000</td>\n",
              "      <td>16.045468</td>\n",
              "      <td>15.770893</td>\n",
              "      <td>4.905275</td>\n",
              "    </tr>\n",
              "  </tbody>\n",
              "</table>\n",
              "<p>8 rows × 28 columns</p>\n",
              "</div>\n",
              "      <button class=\"colab-df-convert\" onclick=\"convertToInteractive('df-c4876236-3f6e-4b89-b8e1-774b7a3ff91d')\"\n",
              "              title=\"Convert this dataframe to an interactive table.\"\n",
              "              style=\"display:none;\">\n",
              "        \n",
              "  <svg xmlns=\"http://www.w3.org/2000/svg\" height=\"24px\"viewBox=\"0 0 24 24\"\n",
              "       width=\"24px\">\n",
              "    <path d=\"M0 0h24v24H0V0z\" fill=\"none\"/>\n",
              "    <path d=\"M18.56 5.44l.94 2.06.94-2.06 2.06-.94-2.06-.94-.94-2.06-.94 2.06-2.06.94zm-11 1L8.5 8.5l.94-2.06 2.06-.94-2.06-.94L8.5 2.5l-.94 2.06-2.06.94zm10 10l.94 2.06.94-2.06 2.06-.94-2.06-.94-.94-2.06-.94 2.06-2.06.94z\"/><path d=\"M17.41 7.96l-1.37-1.37c-.4-.4-.92-.59-1.43-.59-.52 0-1.04.2-1.43.59L10.3 9.45l-7.72 7.72c-.78.78-.78 2.05 0 2.83L4 21.41c.39.39.9.59 1.41.59.51 0 1.02-.2 1.41-.59l7.78-7.78 2.81-2.81c.8-.78.8-2.07 0-2.86zM5.41 20L4 18.59l7.72-7.72 1.47 1.35L5.41 20z\"/>\n",
              "  </svg>\n",
              "      </button>\n",
              "      \n",
              "  <style>\n",
              "    .colab-df-container {\n",
              "      display:flex;\n",
              "      flex-wrap:wrap;\n",
              "      gap: 12px;\n",
              "    }\n",
              "\n",
              "    .colab-df-convert {\n",
              "      background-color: #E8F0FE;\n",
              "      border: none;\n",
              "      border-radius: 50%;\n",
              "      cursor: pointer;\n",
              "      display: none;\n",
              "      fill: #1967D2;\n",
              "      height: 32px;\n",
              "      padding: 0 0 0 0;\n",
              "      width: 32px;\n",
              "    }\n",
              "\n",
              "    .colab-df-convert:hover {\n",
              "      background-color: #E2EBFA;\n",
              "      box-shadow: 0px 1px 2px rgba(60, 64, 67, 0.3), 0px 1px 3px 1px rgba(60, 64, 67, 0.15);\n",
              "      fill: #174EA6;\n",
              "    }\n",
              "\n",
              "    [theme=dark] .colab-df-convert {\n",
              "      background-color: #3B4455;\n",
              "      fill: #D2E3FC;\n",
              "    }\n",
              "\n",
              "    [theme=dark] .colab-df-convert:hover {\n",
              "      background-color: #434B5C;\n",
              "      box-shadow: 0px 1px 3px 1px rgba(0, 0, 0, 0.15);\n",
              "      filter: drop-shadow(0px 1px 2px rgba(0, 0, 0, 0.3));\n",
              "      fill: #FFFFFF;\n",
              "    }\n",
              "  </style>\n",
              "\n",
              "      <script>\n",
              "        const buttonEl =\n",
              "          document.querySelector('#df-c4876236-3f6e-4b89-b8e1-774b7a3ff91d button.colab-df-convert');\n",
              "        buttonEl.style.display =\n",
              "          google.colab.kernel.accessAllowed ? 'block' : 'none';\n",
              "\n",
              "        async function convertToInteractive(key) {\n",
              "          const element = document.querySelector('#df-c4876236-3f6e-4b89-b8e1-774b7a3ff91d');\n",
              "          const dataTable =\n",
              "            await google.colab.kernel.invokeFunction('convertToInteractive',\n",
              "                                                     [key], {});\n",
              "          if (!dataTable) return;\n",
              "\n",
              "          const docLinkHtml = 'Like what you see? Visit the ' +\n",
              "            '<a target=\"_blank\" href=https://colab.research.google.com/notebooks/data_table.ipynb>data table notebook</a>'\n",
              "            + ' to learn more about interactive tables.';\n",
              "          element.innerHTML = '';\n",
              "          dataTable['output_type'] = 'display_data';\n",
              "          await google.colab.output.renderOutput(dataTable, element);\n",
              "          const docLink = document.createElement('div');\n",
              "          docLink.innerHTML = docLinkHtml;\n",
              "          element.appendChild(docLink);\n",
              "        }\n",
              "      </script>\n",
              "    </div>\n",
              "  </div>\n",
              "  "
            ]
          },
          "metadata": {},
          "execution_count": 39
        }
      ],
      "source": [
        "# Variables quantitatives\n",
        "visa_df.describe()"
      ]
    },
    {
      "cell_type": "markdown",
      "metadata": {
        "id": "YYEGvGMJogke"
      },
      "source": [
        "Vérifier ci-dessous que la plupart des variables ont deux versions, l'une quantitative et l'autre qualitative. Dans un premier temps, nous n'allons considérer que les variables quantitatives.\n",
        "\n",
        "Les variables qualitatives (sexe, csp, famille) seront transformées en indicatrices à l'exception de la cible `CARVP`."
      ]
    },
    {
      "cell_type": "code",
      "execution_count": null,
      "metadata": {
        "colab": {
          "base_uri": "https://localhost:8080/"
        },
        "id": "2P8brvSOogkf",
        "outputId": "22392b5a-66b2-4374-a83d-48fccf5da946"
      },
      "outputs": [
        {
          "output_type": "execute_result",
          "data": {
            "text/plain": [
              "SEXEQ      object\n",
              "FAMIQ      object\n",
              "PCSPQ      object\n",
              "kvunbq     object\n",
              "vienbq     object\n",
              "uemnbq     object\n",
              "xlgnbq     object\n",
              "ylvnbq     object\n",
              "rocnbq     object\n",
              "nptagq     object\n",
              "endetq     object\n",
              "gagetq     object\n",
              "facanq     object\n",
              "lgagtq     object\n",
              "havefq     object\n",
              "jnbjdq     object\n",
              "ageq       object\n",
              "relatq     object\n",
              "qsmoyq     object\n",
              "opgnbq     object\n",
              "moyrvq     object\n",
              "tavepq     object\n",
              "dmvtpq     object\n",
              "boppnq     object\n",
              "itavcq     object\n",
              "RELAT       int64\n",
              "AGER        int64\n",
              "OPGNBL    float64\n",
              "MOYRVL    float64\n",
              "TAVEPL    float64\n",
              "ENDETL    float64\n",
              "GAGETL    float64\n",
              "GAGECL    float64\n",
              "GAGEML    float64\n",
              "KVUNB       int64\n",
              "QSMOY       int64\n",
              "QCREDL    float64\n",
              "DMVTPL    float64\n",
              "BOPPNL    float64\n",
              "FACANL    float64\n",
              "LGAGTL    float64\n",
              "VIENB       int64\n",
              "VIEMTL    float64\n",
              "UEMNB       int64\n",
              "XLGNB       int64\n",
              "XLGMTL    float64\n",
              "YLVNB       int64\n",
              "YLVMTL    float64\n",
              "ROCNB       int64\n",
              "NPTAG       int64\n",
              "ITAVCL    float64\n",
              "HAVEFL    float64\n",
              "JNBJDL    float64\n",
              "CARVP      object\n",
              "dtype: object"
            ]
          },
          "metadata": {},
          "execution_count": 40
        }
      ],
      "source": [
        "visa_df.dtypes"
      ]
    },
    {
      "cell_type": "code",
      "execution_count": null,
      "metadata": {
        "id": "3clZ41rvogkh"
      },
      "outputs": [],
      "source": [
        "vispremDum=pd.get_dummies(visa_df[[\"SEXEQ\",\"FAMIQ\",\"PCSPQ\"]])\n"
      ]
    },
    {
      "cell_type": "code",
      "execution_count": null,
      "metadata": {
        "colab": {
          "base_uri": "https://localhost:8080/"
        },
        "id": "N6_E9hAbogki",
        "outputId": "0a83c281-eea7-4439-8d30-f60aae0374a5"
      },
      "outputs": [
        {
          "output_type": "execute_result",
          "data": {
            "text/plain": [
              "Shom    661\n",
              "Sfem    402\n",
              "Name: SEXEQ, dtype: int64"
            ]
          },
          "metadata": {},
          "execution_count": 42
        }
      ],
      "source": [
        "visa_df[\"SEXEQ\"].value_counts()"
      ]
    },
    {
      "cell_type": "code",
      "execution_count": null,
      "metadata": {
        "colab": {
          "base_uri": "https://localhost:8080/"
        },
        "id": "pdwKsIvrogkj",
        "outputId": "dcc99a1c-9cc3-443f-f711-09d308d151c0"
      },
      "outputs": [
        {
          "output_type": "execute_result",
          "data": {
            "text/plain": [
              "Fcou    583\n",
              "Fseu    480\n",
              "Name: FAMIQ, dtype: int64"
            ]
          },
          "metadata": {},
          "execution_count": 43
        }
      ],
      "source": [
        "visa_df[\"FAMIQ\"].value_counts()"
      ]
    },
    {
      "cell_type": "code",
      "execution_count": null,
      "metadata": {
        "colab": {
          "base_uri": "https://localhost:8080/"
        },
        "id": "4sNpepJ_ogkl",
        "outputId": "11cc0222-3b21-4dbc-e8f4-04a514b4cbd3"
      },
      "outputs": [
        {
          "output_type": "execute_result",
          "data": {
            "text/plain": [
              "Psan    301\n",
              "Pouv    287\n",
              "Pint    277\n",
              "Pemp    167\n",
              "Pcad     31\n",
              "Name: PCSPQ, dtype: int64"
            ]
          },
          "metadata": {},
          "execution_count": 44
        }
      ],
      "source": [
        "visa_df[\"PCSPQ\"].value_counts()"
      ]
    },
    {
      "cell_type": "code",
      "execution_count": null,
      "metadata": {
        "colab": {
          "base_uri": "https://localhost:8080/"
        },
        "id": "4gxJqaWpogkm",
        "outputId": "101182b6-906e-4af8-ca8d-9f077422f00c"
      },
      "outputs": [
        {
          "output_type": "stream",
          "name": "stdout",
          "text": [
            "Help on function get_dummies in module pandas.core.reshape.reshape:\n",
            "\n",
            "get_dummies(data, prefix=None, prefix_sep='_', dummy_na: 'bool' = False, columns=None, sparse: 'bool' = False, drop_first: 'bool' = False, dtype: 'Dtype | None' = None) -> 'DataFrame'\n",
            "    Convert categorical variable into dummy/indicator variables.\n",
            "    \n",
            "    Parameters\n",
            "    ----------\n",
            "    data : array-like, Series, or DataFrame\n",
            "        Data of which to get dummy indicators.\n",
            "    prefix : str, list of str, or dict of str, default None\n",
            "        String to append DataFrame column names.\n",
            "        Pass a list with length equal to the number of columns\n",
            "        when calling get_dummies on a DataFrame. Alternatively, `prefix`\n",
            "        can be a dictionary mapping column names to prefixes.\n",
            "    prefix_sep : str, default '_'\n",
            "        If appending prefix, separator/delimiter to use. Or pass a\n",
            "        list or dictionary as with `prefix`.\n",
            "    dummy_na : bool, default False\n",
            "        Add a column to indicate NaNs, if False NaNs are ignored.\n",
            "    columns : list-like, default None\n",
            "        Column names in the DataFrame to be encoded.\n",
            "        If `columns` is None then all the columns with\n",
            "        `object` or `category` dtype will be converted.\n",
            "    sparse : bool, default False\n",
            "        Whether the dummy-encoded columns should be backed by\n",
            "        a :class:`SparseArray` (True) or a regular NumPy array (False).\n",
            "    drop_first : bool, default False\n",
            "        Whether to get k-1 dummies out of k categorical levels by removing the\n",
            "        first level.\n",
            "    dtype : dtype, default np.uint8\n",
            "        Data type for new columns. Only a single dtype is allowed.\n",
            "    \n",
            "    Returns\n",
            "    -------\n",
            "    DataFrame\n",
            "        Dummy-coded data.\n",
            "    \n",
            "    See Also\n",
            "    --------\n",
            "    Series.str.get_dummies : Convert Series to dummy codes.\n",
            "    \n",
            "    Examples\n",
            "    --------\n",
            "    >>> s = pd.Series(list('abca'))\n",
            "    \n",
            "    >>> pd.get_dummies(s)\n",
            "       a  b  c\n",
            "    0  1  0  0\n",
            "    1  0  1  0\n",
            "    2  0  0  1\n",
            "    3  1  0  0\n",
            "    \n",
            "    >>> s1 = ['a', 'b', np.nan]\n",
            "    \n",
            "    >>> pd.get_dummies(s1)\n",
            "       a  b\n",
            "    0  1  0\n",
            "    1  0  1\n",
            "    2  0  0\n",
            "    \n",
            "    >>> pd.get_dummies(s1, dummy_na=True)\n",
            "       a  b  NaN\n",
            "    0  1  0    0\n",
            "    1  0  1    0\n",
            "    2  0  0    1\n",
            "    \n",
            "    >>> df = pd.DataFrame({'A': ['a', 'b', 'a'], 'B': ['b', 'a', 'c'],\n",
            "    ...                    'C': [1, 2, 3]})\n",
            "    \n",
            "    >>> pd.get_dummies(df, prefix=['col1', 'col2'])\n",
            "       C  col1_a  col1_b  col2_a  col2_b  col2_c\n",
            "    0  1       1       0       0       1       0\n",
            "    1  2       0       1       1       0       0\n",
            "    2  3       1       0       0       0       1\n",
            "    \n",
            "    >>> pd.get_dummies(pd.Series(list('abcaa')))\n",
            "       a  b  c\n",
            "    0  1  0  0\n",
            "    1  0  1  0\n",
            "    2  0  0  1\n",
            "    3  1  0  0\n",
            "    4  1  0  0\n",
            "    \n",
            "    >>> pd.get_dummies(pd.Series(list('abcaa')), drop_first=True)\n",
            "       b  c\n",
            "    0  0  0\n",
            "    1  1  0\n",
            "    2  0  1\n",
            "    3  0  0\n",
            "    4  0  0\n",
            "    \n",
            "    >>> pd.get_dummies(pd.Series(list('abc')), dtype=float)\n",
            "         a    b    c\n",
            "    0  1.0  0.0  0.0\n",
            "    1  0.0  1.0  0.0\n",
            "    2  0.0  0.0  1.0\n",
            "\n"
          ]
        }
      ],
      "source": [
        "help(pd.get_dummies)"
      ]
    },
    {
      "cell_type": "code",
      "execution_count": null,
      "metadata": {
        "colab": {
          "base_uri": "https://localhost:8080/"
        },
        "id": "nnpq3xJNogkn",
        "outputId": "fde2b479-40db-4db9-9b85-f7fa411c3389"
      },
      "outputs": [
        {
          "output_type": "execute_result",
          "data": {
            "text/plain": [
              "Index(['SEXEQ_Sfem', 'SEXEQ_Shom', 'FAMIQ_Fcou', 'FAMIQ_Fseu', 'PCSPQ_Pcad',\n",
              "       'PCSPQ_Pemp', 'PCSPQ_Pint', 'PCSPQ_Pouv', 'PCSPQ_Psan'],\n",
              "      dtype='object')"
            ]
          },
          "metadata": {},
          "execution_count": 46
        }
      ],
      "source": [
        "vispremDum.columns"
      ]
    },
    {
      "cell_type": "code",
      "execution_count": null,
      "metadata": {
        "id": "sXu9vGh-ogkp"
      },
      "outputs": [],
      "source": [
        "vispremDum.drop([\"SEXEQ_Sfem\",\"FAMIQ_Fseu\"], axis = 1, inplace = True)"
      ]
    },
    {
      "cell_type": "code",
      "execution_count": null,
      "metadata": {
        "colab": {
          "base_uri": "https://localhost:8080/"
        },
        "id": "Malhhk7dogkr",
        "outputId": "67a8c2f4-67da-4607-f6b0-9d8b91f080f5"
      },
      "outputs": [
        {
          "output_type": "stream",
          "name": "stdout",
          "text": [
            "Help on method drop in module pandas.core.frame:\n",
            "\n",
            "drop(labels=None, axis: 'Axis' = 0, index=None, columns=None, level: 'Level | None' = None, inplace: 'bool' = False, errors: 'str' = 'raise') method of pandas.core.frame.DataFrame instance\n",
            "    Drop specified labels from rows or columns.\n",
            "    \n",
            "    Remove rows or columns by specifying label names and corresponding\n",
            "    axis, or by specifying directly index or column names. When using a\n",
            "    multi-index, labels on different levels can be removed by specifying\n",
            "    the level. See the `user guide <advanced.shown_levels>`\n",
            "    for more information about the now unused levels.\n",
            "    \n",
            "    Parameters\n",
            "    ----------\n",
            "    labels : single label or list-like\n",
            "        Index or column labels to drop.\n",
            "    axis : {0 or 'index', 1 or 'columns'}, default 0\n",
            "        Whether to drop labels from the index (0 or 'index') or\n",
            "        columns (1 or 'columns').\n",
            "    index : single label or list-like\n",
            "        Alternative to specifying axis (``labels, axis=0``\n",
            "        is equivalent to ``index=labels``).\n",
            "    columns : single label or list-like\n",
            "        Alternative to specifying axis (``labels, axis=1``\n",
            "        is equivalent to ``columns=labels``).\n",
            "    level : int or level name, optional\n",
            "        For MultiIndex, level from which the labels will be removed.\n",
            "    inplace : bool, default False\n",
            "        If False, return a copy. Otherwise, do operation\n",
            "        inplace and return None.\n",
            "    errors : {'ignore', 'raise'}, default 'raise'\n",
            "        If 'ignore', suppress error and only existing labels are\n",
            "        dropped.\n",
            "    \n",
            "    Returns\n",
            "    -------\n",
            "    DataFrame or None\n",
            "        DataFrame without the removed index or column labels or\n",
            "        None if ``inplace=True``.\n",
            "    \n",
            "    Raises\n",
            "    ------\n",
            "    KeyError\n",
            "        If any of the labels is not found in the selected axis.\n",
            "    \n",
            "    See Also\n",
            "    --------\n",
            "    DataFrame.loc : Label-location based indexer for selection by label.\n",
            "    DataFrame.dropna : Return DataFrame with labels on given axis omitted\n",
            "        where (all or any) data are missing.\n",
            "    DataFrame.drop_duplicates : Return DataFrame with duplicate rows\n",
            "        removed, optionally only considering certain columns.\n",
            "    Series.drop : Return Series with specified index labels removed.\n",
            "    \n",
            "    Examples\n",
            "    --------\n",
            "    >>> df = pd.DataFrame(np.arange(12).reshape(3, 4),\n",
            "    ...                   columns=['A', 'B', 'C', 'D'])\n",
            "    >>> df\n",
            "       A  B   C   D\n",
            "    0  0  1   2   3\n",
            "    1  4  5   6   7\n",
            "    2  8  9  10  11\n",
            "    \n",
            "    Drop columns\n",
            "    \n",
            "    >>> df.drop(['B', 'C'], axis=1)\n",
            "       A   D\n",
            "    0  0   3\n",
            "    1  4   7\n",
            "    2  8  11\n",
            "    \n",
            "    >>> df.drop(columns=['B', 'C'])\n",
            "       A   D\n",
            "    0  0   3\n",
            "    1  4   7\n",
            "    2  8  11\n",
            "    \n",
            "    Drop a row by index\n",
            "    \n",
            "    >>> df.drop([0, 1])\n",
            "       A  B   C   D\n",
            "    2  8  9  10  11\n",
            "    \n",
            "    Drop columns and/or rows of MultiIndex DataFrame\n",
            "    \n",
            "    >>> midx = pd.MultiIndex(levels=[['lama', 'cow', 'falcon'],\n",
            "    ...                              ['speed', 'weight', 'length']],\n",
            "    ...                      codes=[[0, 0, 0, 1, 1, 1, 2, 2, 2],\n",
            "    ...                             [0, 1, 2, 0, 1, 2, 0, 1, 2]])\n",
            "    >>> df = pd.DataFrame(index=midx, columns=['big', 'small'],\n",
            "    ...                   data=[[45, 30], [200, 100], [1.5, 1], [30, 20],\n",
            "    ...                         [250, 150], [1.5, 0.8], [320, 250],\n",
            "    ...                         [1, 0.8], [0.3, 0.2]])\n",
            "    >>> df\n",
            "                    big     small\n",
            "    lama    speed   45.0    30.0\n",
            "            weight  200.0   100.0\n",
            "            length  1.5     1.0\n",
            "    cow     speed   30.0    20.0\n",
            "            weight  250.0   150.0\n",
            "            length  1.5     0.8\n",
            "    falcon  speed   320.0   250.0\n",
            "            weight  1.0     0.8\n",
            "            length  0.3     0.2\n",
            "    \n",
            "    >>> df.drop(index='cow', columns='small')\n",
            "                    big\n",
            "    lama    speed   45.0\n",
            "            weight  200.0\n",
            "            length  1.5\n",
            "    falcon  speed   320.0\n",
            "            weight  1.0\n",
            "            length  0.3\n",
            "    \n",
            "    >>> df.drop(index='length', level=1)\n",
            "                    big     small\n",
            "    lama    speed   45.0    30.0\n",
            "            weight  200.0   100.0\n",
            "    cow     speed   30.0    20.0\n",
            "            weight  250.0   150.0\n",
            "    falcon  speed   320.0   250.0\n",
            "            weight  1.0     0.8\n",
            "\n"
          ]
        }
      ],
      "source": [
        "help(vispremDum.drop)"
      ]
    },
    {
      "cell_type": "code",
      "execution_count": null,
      "metadata": {
        "colab": {
          "base_uri": "https://localhost:8080/"
        },
        "id": "wtwDzIH_ogks",
        "outputId": "d3a4af16-2dfd-4824-b262-14eb0e2ec478"
      },
      "outputs": [
        {
          "output_type": "execute_result",
          "data": {
            "text/plain": [
              "Index(['SEXEQ_Shom', 'FAMIQ_Fcou', 'PCSPQ_Pcad', 'PCSPQ_Pemp', 'PCSPQ_Pint',\n",
              "       'PCSPQ_Pouv', 'PCSPQ_Psan'],\n",
              "      dtype='object')"
            ]
          },
          "metadata": {},
          "execution_count": 49
        }
      ],
      "source": [
        "vispremDum.columns"
      ]
    },
    {
      "cell_type": "code",
      "execution_count": null,
      "metadata": {
        "colab": {
          "base_uri": "https://localhost:8080/"
        },
        "id": "GzL4kO6mogku",
        "outputId": "1a7535a5-2ecd-4789-8c00-60b9ea590ce3"
      },
      "outputs": [
        {
          "output_type": "execute_result",
          "data": {
            "text/plain": [
              "Index(['RELAT', 'AGER', 'OPGNBL', 'MOYRVL', 'TAVEPL', 'ENDETL', 'GAGETL',\n",
              "       'GAGECL', 'GAGEML', 'KVUNB', 'QSMOY', 'QCREDL', 'DMVTPL', 'BOPPNL',\n",
              "       'FACANL', 'LGAGTL', 'VIENB', 'VIEMTL', 'UEMNB', 'XLGNB', 'XLGMTL',\n",
              "       'YLVNB', 'YLVMTL', 'ROCNB', 'NPTAG', 'ITAVCL', 'HAVEFL', 'JNBJDL'],\n",
              "      dtype='object')"
            ]
          },
          "metadata": {},
          "execution_count": 50
        }
      ],
      "source": [
        "vispremNum = visa_df.select_dtypes(exclude=['object'])\n",
        "vispremNum.columns"
      ]
    },
    {
      "cell_type": "code",
      "execution_count": null,
      "metadata": {
        "id": "kzUdj2Giogkv"
      },
      "outputs": [],
      "source": [
        "vispremR=pd.concat([vispremDum,vispremNum],axis=1)\n"
      ]
    },
    {
      "cell_type": "code",
      "execution_count": null,
      "metadata": {
        "colab": {
          "base_uri": "https://localhost:8080/"
        },
        "id": "hSrWI501ogkw",
        "outputId": "996476f9-8ab0-4584-c113-2a63cd7b8596"
      },
      "outputs": [
        {
          "output_type": "stream",
          "name": "stdout",
          "text": [
            "Help on function concat in module pandas.core.reshape.concat:\n",
            "\n",
            "concat(objs: 'Iterable[NDFrame] | Mapping[Hashable, NDFrame]', axis=0, join='outer', ignore_index: 'bool' = False, keys=None, levels=None, names=None, verify_integrity: 'bool' = False, sort: 'bool' = False, copy: 'bool' = True) -> 'FrameOrSeriesUnion'\n",
            "    Concatenate pandas objects along a particular axis with optional set logic\n",
            "    along the other axes.\n",
            "    \n",
            "    Can also add a layer of hierarchical indexing on the concatenation axis,\n",
            "    which may be useful if the labels are the same (or overlapping) on\n",
            "    the passed axis number.\n",
            "    \n",
            "    Parameters\n",
            "    ----------\n",
            "    objs : a sequence or mapping of Series or DataFrame objects\n",
            "        If a mapping is passed, the sorted keys will be used as the `keys`\n",
            "        argument, unless it is passed, in which case the values will be\n",
            "        selected (see below). Any None objects will be dropped silently unless\n",
            "        they are all None in which case a ValueError will be raised.\n",
            "    axis : {0/'index', 1/'columns'}, default 0\n",
            "        The axis to concatenate along.\n",
            "    join : {'inner', 'outer'}, default 'outer'\n",
            "        How to handle indexes on other axis (or axes).\n",
            "    ignore_index : bool, default False\n",
            "        If True, do not use the index values along the concatenation axis. The\n",
            "        resulting axis will be labeled 0, ..., n - 1. This is useful if you are\n",
            "        concatenating objects where the concatenation axis does not have\n",
            "        meaningful indexing information. Note the index values on the other\n",
            "        axes are still respected in the join.\n",
            "    keys : sequence, default None\n",
            "        If multiple levels passed, should contain tuples. Construct\n",
            "        hierarchical index using the passed keys as the outermost level.\n",
            "    levels : list of sequences, default None\n",
            "        Specific levels (unique values) to use for constructing a\n",
            "        MultiIndex. Otherwise they will be inferred from the keys.\n",
            "    names : list, default None\n",
            "        Names for the levels in the resulting hierarchical index.\n",
            "    verify_integrity : bool, default False\n",
            "        Check whether the new concatenated axis contains duplicates. This can\n",
            "        be very expensive relative to the actual data concatenation.\n",
            "    sort : bool, default False\n",
            "        Sort non-concatenation axis if it is not already aligned when `join`\n",
            "        is 'outer'.\n",
            "        This has no effect when ``join='inner'``, which already preserves\n",
            "        the order of the non-concatenation axis.\n",
            "    \n",
            "        .. versionchanged:: 1.0.0\n",
            "    \n",
            "           Changed to not sort by default.\n",
            "    \n",
            "    copy : bool, default True\n",
            "        If False, do not copy data unnecessarily.\n",
            "    \n",
            "    Returns\n",
            "    -------\n",
            "    object, type of objs\n",
            "        When concatenating all ``Series`` along the index (axis=0), a\n",
            "        ``Series`` is returned. When ``objs`` contains at least one\n",
            "        ``DataFrame``, a ``DataFrame`` is returned. When concatenating along\n",
            "        the columns (axis=1), a ``DataFrame`` is returned.\n",
            "    \n",
            "    See Also\n",
            "    --------\n",
            "    Series.append : Concatenate Series.\n",
            "    DataFrame.append : Concatenate DataFrames.\n",
            "    DataFrame.join : Join DataFrames using indexes.\n",
            "    DataFrame.merge : Merge DataFrames by indexes or columns.\n",
            "    \n",
            "    Notes\n",
            "    -----\n",
            "    The keys, levels, and names arguments are all optional.\n",
            "    \n",
            "    A walkthrough of how this method fits in with other tools for combining\n",
            "    pandas objects can be found `here\n",
            "    <https://pandas.pydata.org/pandas-docs/stable/user_guide/merging.html>`__.\n",
            "    \n",
            "    Examples\n",
            "    --------\n",
            "    Combine two ``Series``.\n",
            "    \n",
            "    >>> s1 = pd.Series(['a', 'b'])\n",
            "    >>> s2 = pd.Series(['c', 'd'])\n",
            "    >>> pd.concat([s1, s2])\n",
            "    0    a\n",
            "    1    b\n",
            "    0    c\n",
            "    1    d\n",
            "    dtype: object\n",
            "    \n",
            "    Clear the existing index and reset it in the result\n",
            "    by setting the ``ignore_index`` option to ``True``.\n",
            "    \n",
            "    >>> pd.concat([s1, s2], ignore_index=True)\n",
            "    0    a\n",
            "    1    b\n",
            "    2    c\n",
            "    3    d\n",
            "    dtype: object\n",
            "    \n",
            "    Add a hierarchical index at the outermost level of\n",
            "    the data with the ``keys`` option.\n",
            "    \n",
            "    >>> pd.concat([s1, s2], keys=['s1', 's2'])\n",
            "    s1  0    a\n",
            "        1    b\n",
            "    s2  0    c\n",
            "        1    d\n",
            "    dtype: object\n",
            "    \n",
            "    Label the index keys you create with the ``names`` option.\n",
            "    \n",
            "    >>> pd.concat([s1, s2], keys=['s1', 's2'],\n",
            "    ...           names=['Series name', 'Row ID'])\n",
            "    Series name  Row ID\n",
            "    s1           0         a\n",
            "                 1         b\n",
            "    s2           0         c\n",
            "                 1         d\n",
            "    dtype: object\n",
            "    \n",
            "    Combine two ``DataFrame`` objects with identical columns.\n",
            "    \n",
            "    >>> df1 = pd.DataFrame([['a', 1], ['b', 2]],\n",
            "    ...                    columns=['letter', 'number'])\n",
            "    >>> df1\n",
            "      letter  number\n",
            "    0      a       1\n",
            "    1      b       2\n",
            "    >>> df2 = pd.DataFrame([['c', 3], ['d', 4]],\n",
            "    ...                    columns=['letter', 'number'])\n",
            "    >>> df2\n",
            "      letter  number\n",
            "    0      c       3\n",
            "    1      d       4\n",
            "    >>> pd.concat([df1, df2])\n",
            "      letter  number\n",
            "    0      a       1\n",
            "    1      b       2\n",
            "    0      c       3\n",
            "    1      d       4\n",
            "    \n",
            "    Combine ``DataFrame`` objects with overlapping columns\n",
            "    and return everything. Columns outside the intersection will\n",
            "    be filled with ``NaN`` values.\n",
            "    \n",
            "    >>> df3 = pd.DataFrame([['c', 3, 'cat'], ['d', 4, 'dog']],\n",
            "    ...                    columns=['letter', 'number', 'animal'])\n",
            "    >>> df3\n",
            "      letter  number animal\n",
            "    0      c       3    cat\n",
            "    1      d       4    dog\n",
            "    >>> pd.concat([df1, df3], sort=False)\n",
            "      letter  number animal\n",
            "    0      a       1    NaN\n",
            "    1      b       2    NaN\n",
            "    0      c       3    cat\n",
            "    1      d       4    dog\n",
            "    \n",
            "    Combine ``DataFrame`` objects with overlapping columns\n",
            "    and return only those that are shared by passing ``inner`` to\n",
            "    the ``join`` keyword argument.\n",
            "    \n",
            "    >>> pd.concat([df1, df3], join=\"inner\")\n",
            "      letter  number\n",
            "    0      a       1\n",
            "    1      b       2\n",
            "    0      c       3\n",
            "    1      d       4\n",
            "    \n",
            "    Combine ``DataFrame`` objects horizontally along the x axis by\n",
            "    passing in ``axis=1``.\n",
            "    \n",
            "    >>> df4 = pd.DataFrame([['bird', 'polly'], ['monkey', 'george']],\n",
            "    ...                    columns=['animal', 'name'])\n",
            "    >>> pd.concat([df1, df4], axis=1)\n",
            "      letter  number  animal    name\n",
            "    0      a       1    bird   polly\n",
            "    1      b       2  monkey  george\n",
            "    \n",
            "    Prevent the result from including duplicate index values with the\n",
            "    ``verify_integrity`` option.\n",
            "    \n",
            "    >>> df5 = pd.DataFrame([1], index=['a'])\n",
            "    >>> df5\n",
            "       0\n",
            "    a  1\n",
            "    >>> df6 = pd.DataFrame([2], index=['a'])\n",
            "    >>> df6\n",
            "       0\n",
            "    a  2\n",
            "    >>> pd.concat([df5, df6], verify_integrity=True)\n",
            "    Traceback (most recent call last):\n",
            "        ...\n",
            "    ValueError: Indexes have overlapping values: ['a']\n",
            "\n"
          ]
        }
      ],
      "source": [
        "help(pd.concat)"
      ]
    },
    {
      "cell_type": "code",
      "execution_count": null,
      "metadata": {
        "colab": {
          "base_uri": "https://localhost:8080/"
        },
        "id": "2mMtDIKVogkw",
        "outputId": "f1b0538d-b97a-4d21-bfec-5e8505825505"
      },
      "outputs": [
        {
          "output_type": "execute_result",
          "data": {
            "text/plain": [
              "Index(['SEXEQ_Shom', 'FAMIQ_Fcou', 'PCSPQ_Pcad', 'PCSPQ_Pemp', 'PCSPQ_Pint',\n",
              "       'PCSPQ_Pouv', 'PCSPQ_Psan', 'RELAT', 'AGER', 'OPGNBL', 'MOYRVL',\n",
              "       'TAVEPL', 'ENDETL', 'GAGETL', 'GAGECL', 'GAGEML', 'KVUNB', 'QSMOY',\n",
              "       'QCREDL', 'DMVTPL', 'BOPPNL', 'FACANL', 'LGAGTL', 'VIENB', 'VIEMTL',\n",
              "       'UEMNB', 'XLGNB', 'XLGMTL', 'YLVNB', 'YLVMTL', 'ROCNB', 'NPTAG',\n",
              "       'ITAVCL', 'HAVEFL', 'JNBJDL'],\n",
              "      dtype='object')"
            ]
          },
          "metadata": {},
          "execution_count": 53
        }
      ],
      "source": [
        "# Transformation en indicatrices\n",
        "vispremDum=pd.get_dummies(visa_df[[\"SEXEQ\",\"FAMIQ\",\"PCSPQ\"]])\n",
        "# Une seule est conservée pour les variables binaires\n",
        "vispremDum.drop([\"SEXEQ_Sfem\",\"FAMIQ_Fseu\"], axis = 1, inplace = True)\n",
        "# Sélection des variables numériques\n",
        "vispremNum = visa_df.select_dtypes(exclude=['object'])\n",
        "# Concaténation des variables retenues\n",
        "vispremR=pd.concat([vispremDum,vispremNum],axis=1)\n",
        "vispremR.columns"
      ]
    },
    {
      "cell_type": "markdown",
      "metadata": {
        "id": "LTEDh67yogkz"
      },
      "source": [
        "**Q** Combien d'individus et combien de variables sont finalement concernés?"
      ]
    },
    {
      "cell_type": "code",
      "execution_count": null,
      "metadata": {
        "id": "2Adkqec-ogkz"
      },
      "outputs": [],
      "source": []
    },
    {
      "cell_type": "code",
      "execution_count": null,
      "metadata": {
        "id": "oR3zJrjAogk0"
      },
      "outputs": [],
      "source": [
        "#  On va recoder la variable à expliquer en 0 et 1\n",
        "y=visa_df[\"CARVP\"].map(lambda x: 0 if x==\"Cnon\" else 1)"
      ]
    },
    {
      "cell_type": "markdown",
      "metadata": {
        "id": "Gf2Sb4bVogk1"
      },
      "source": [
        "### Extraction des échantillons apprentissage et test"
      ]
    },
    {
      "cell_type": "code",
      "execution_count": null,
      "metadata": {
        "colab": {
          "base_uri": "https://localhost:8080/"
        },
        "id": "YJbdHBOfogk2",
        "outputId": "96dcbec2-73f0-4bf0-fa6d-295765a597e9"
      },
      "outputs": [
        {
          "output_type": "execute_result",
          "data": {
            "text/plain": [
              "dtype('int64')"
            ]
          },
          "metadata": {},
          "execution_count": 55
        }
      ],
      "source": [
        "y.dtype"
      ]
    },
    {
      "cell_type": "code",
      "execution_count": null,
      "metadata": {
        "colab": {
          "base_uri": "https://localhost:8080/"
        },
        "id": "_hvPpvO0ogk3",
        "outputId": "a1b13159-1743-4632-b44e-3ab50d799c2c"
      },
      "outputs": [
        {
          "output_type": "execute_result",
          "data": {
            "text/plain": [
              "pandas.core.series.Series"
            ]
          },
          "metadata": {},
          "execution_count": 56
        }
      ],
      "source": [
        "type(y)"
      ]
    },
    {
      "cell_type": "code",
      "execution_count": null,
      "metadata": {
        "colab": {
          "base_uri": "https://localhost:8080/"
        },
        "id": "Mi_TIx1Aogk6",
        "outputId": "0217f108-7d58-42ed-a4a8-ed6edcdb1342"
      },
      "outputs": [
        {
          "output_type": "execute_result",
          "data": {
            "text/plain": [
              "(863, 35)"
            ]
          },
          "metadata": {},
          "execution_count": 57
        }
      ],
      "source": [
        "rd_seed=111 # Modifier cette valeur d'initialisation, elle vous assure que lors de la ré-execution, les valeurs générées seront les mêmes\n",
        "npop=len(visa_df)\n",
        "xApp,xTest,yApp,yTest=train_test_split(vispremR,y,test_size=200,random_state=rd_seed)\n",
        "xApp.shape"
      ]
    },
    {
      "cell_type": "markdown",
      "metadata": {
        "id": "cC-2TdITogk7"
      },
      "source": [
        "## Régression logistique\n",
        "Cette ancienne méthode reste toujours très utilisée. D'abord par habitude dans les entreprises (profils statistique) mais aussi par rapport à sa simplicité et son `explicabilité`. Petite anécdote : les équipes Criteo ou CDiscount utilisent souvent cette méthode dans leurs analyses.\n",
        "\n",
        "### Estimation et optimisation de la régression logistique\n",
        "Documentez vous sur l'optimisation de la régression logistique avec lasso ( )"
      ]
    },
    {
      "cell_type": "code",
      "execution_count": null,
      "metadata": {
        "colab": {
          "base_uri": "https://localhost:8080/"
        },
        "id": "KaGID42Sogk8",
        "outputId": "7ff09907-939e-4aea-9992-0f0981916af2"
      },
      "outputs": [
        {
          "output_type": "stream",
          "name": "stdout",
          "text": [
            "Meilleur score (apprentissage) = 0.163342, Meilleur paramètre = {'C': 30}\n"
          ]
        }
      ],
      "source": [
        "from sklearn.linear_model import LogisticRegression\n",
        "# Grille de valeurs du paramètre de pénalisaiton\n",
        "param=[{\"C\":[0.5,1,5,10,12,15,30]}]\n",
        "logitL = GridSearchCV(LogisticRegression(penalty=\"l1\",solver='liblinear'), param,cv=5,n_jobs=-1)\n",
        "logitLasso=logitL.fit(xApp, yApp)\n",
        "# Sélection du paramètre optimal\n",
        "logitLasso.best_params_[\"C\"]\n",
        "print(\"Meilleur score (apprentissage) = %f, Meilleur paramètre = %s\" %\n",
        "      (1.-logitLasso.best_score_,logitLasso.best_params_))"
      ]
    },
    {
      "cell_type": "code",
      "execution_count": null,
      "metadata": {
        "colab": {
          "base_uri": "https://localhost:8080/"
        },
        "id": "suQxfrQnogk9",
        "outputId": "797a19b1-c5d3-4a5b-8972-03f3e9a83310"
      },
      "outputs": [
        {
          "output_type": "stream",
          "name": "stdout",
          "text": [
            "Help on class GridSearchCV in module sklearn.model_selection._search:\n",
            "\n",
            "class GridSearchCV(BaseSearchCV)\n",
            " |  GridSearchCV(estimator, param_grid, *, scoring=None, n_jobs=None, refit=True, cv=None, verbose=0, pre_dispatch='2*n_jobs', error_score=nan, return_train_score=False)\n",
            " |  \n",
            " |  Exhaustive search over specified parameter values for an estimator.\n",
            " |  \n",
            " |  Important members are fit, predict.\n",
            " |  \n",
            " |  GridSearchCV implements a \"fit\" and a \"score\" method.\n",
            " |  It also implements \"score_samples\", \"predict\", \"predict_proba\",\n",
            " |  \"decision_function\", \"transform\" and \"inverse_transform\" if they are\n",
            " |  implemented in the estimator used.\n",
            " |  \n",
            " |  The parameters of the estimator used to apply these methods are optimized\n",
            " |  by cross-validated grid-search over a parameter grid.\n",
            " |  \n",
            " |  Read more in the :ref:`User Guide <grid_search>`.\n",
            " |  \n",
            " |  Parameters\n",
            " |  ----------\n",
            " |  estimator : estimator object\n",
            " |      This is assumed to implement the scikit-learn estimator interface.\n",
            " |      Either estimator needs to provide a ``score`` function,\n",
            " |      or ``scoring`` must be passed.\n",
            " |  \n",
            " |  param_grid : dict or list of dictionaries\n",
            " |      Dictionary with parameters names (`str`) as keys and lists of\n",
            " |      parameter settings to try as values, or a list of such\n",
            " |      dictionaries, in which case the grids spanned by each dictionary\n",
            " |      in the list are explored. This enables searching over any sequence\n",
            " |      of parameter settings.\n",
            " |  \n",
            " |  scoring : str, callable, list, tuple or dict, default=None\n",
            " |      Strategy to evaluate the performance of the cross-validated model on\n",
            " |      the test set.\n",
            " |  \n",
            " |      If `scoring` represents a single score, one can use:\n",
            " |  \n",
            " |      - a single string (see :ref:`scoring_parameter`);\n",
            " |      - a callable (see :ref:`scoring`) that returns a single value.\n",
            " |  \n",
            " |      If `scoring` represents multiple scores, one can use:\n",
            " |  \n",
            " |      - a list or tuple of unique strings;\n",
            " |      - a callable returning a dictionary where the keys are the metric\n",
            " |        names and the values are the metric scores;\n",
            " |      - a dictionary with metric names as keys and callables a values.\n",
            " |  \n",
            " |      See :ref:`multimetric_grid_search` for an example.\n",
            " |  \n",
            " |  n_jobs : int, default=None\n",
            " |      Number of jobs to run in parallel.\n",
            " |      ``None`` means 1 unless in a :obj:`joblib.parallel_backend` context.\n",
            " |      ``-1`` means using all processors. See :term:`Glossary <n_jobs>`\n",
            " |      for more details.\n",
            " |  \n",
            " |      .. versionchanged:: v0.20\n",
            " |         `n_jobs` default changed from 1 to None\n",
            " |  \n",
            " |  refit : bool, str, or callable, default=True\n",
            " |      Refit an estimator using the best found parameters on the whole\n",
            " |      dataset.\n",
            " |  \n",
            " |      For multiple metric evaluation, this needs to be a `str` denoting the\n",
            " |      scorer that would be used to find the best parameters for refitting\n",
            " |      the estimator at the end.\n",
            " |  \n",
            " |      Where there are considerations other than maximum score in\n",
            " |      choosing a best estimator, ``refit`` can be set to a function which\n",
            " |      returns the selected ``best_index_`` given ``cv_results_``. In that\n",
            " |      case, the ``best_estimator_`` and ``best_params_`` will be set\n",
            " |      according to the returned ``best_index_`` while the ``best_score_``\n",
            " |      attribute will not be available.\n",
            " |  \n",
            " |      The refitted estimator is made available at the ``best_estimator_``\n",
            " |      attribute and permits using ``predict`` directly on this\n",
            " |      ``GridSearchCV`` instance.\n",
            " |  \n",
            " |      Also for multiple metric evaluation, the attributes ``best_index_``,\n",
            " |      ``best_score_`` and ``best_params_`` will only be available if\n",
            " |      ``refit`` is set and all of them will be determined w.r.t this specific\n",
            " |      scorer.\n",
            " |  \n",
            " |      See ``scoring`` parameter to know more about multiple metric\n",
            " |      evaluation.\n",
            " |  \n",
            " |      .. versionchanged:: 0.20\n",
            " |          Support for callable added.\n",
            " |  \n",
            " |  cv : int, cross-validation generator or an iterable, default=None\n",
            " |      Determines the cross-validation splitting strategy.\n",
            " |      Possible inputs for cv are:\n",
            " |  \n",
            " |      - None, to use the default 5-fold cross validation,\n",
            " |      - integer, to specify the number of folds in a `(Stratified)KFold`,\n",
            " |      - :term:`CV splitter`,\n",
            " |      - An iterable yielding (train, test) splits as arrays of indices.\n",
            " |  \n",
            " |      For integer/None inputs, if the estimator is a classifier and ``y`` is\n",
            " |      either binary or multiclass, :class:`StratifiedKFold` is used. In all\n",
            " |      other cases, :class:`KFold` is used. These splitters are instantiated\n",
            " |      with `shuffle=False` so the splits will be the same across calls.\n",
            " |  \n",
            " |      Refer :ref:`User Guide <cross_validation>` for the various\n",
            " |      cross-validation strategies that can be used here.\n",
            " |  \n",
            " |      .. versionchanged:: 0.22\n",
            " |          ``cv`` default value if None changed from 3-fold to 5-fold.\n",
            " |  \n",
            " |  verbose : int\n",
            " |      Controls the verbosity: the higher, the more messages.\n",
            " |  \n",
            " |      - >1 : the computation time for each fold and parameter candidate is\n",
            " |        displayed;\n",
            " |      - >2 : the score is also displayed;\n",
            " |      - >3 : the fold and candidate parameter indexes are also displayed\n",
            " |        together with the starting time of the computation.\n",
            " |  \n",
            " |  pre_dispatch : int, or str, default='2*n_jobs'\n",
            " |      Controls the number of jobs that get dispatched during parallel\n",
            " |      execution. Reducing this number can be useful to avoid an\n",
            " |      explosion of memory consumption when more jobs get dispatched\n",
            " |      than CPUs can process. This parameter can be:\n",
            " |  \n",
            " |          - None, in which case all the jobs are immediately\n",
            " |            created and spawned. Use this for lightweight and\n",
            " |            fast-running jobs, to avoid delays due to on-demand\n",
            " |            spawning of the jobs\n",
            " |  \n",
            " |          - An int, giving the exact number of total jobs that are\n",
            " |            spawned\n",
            " |  \n",
            " |          - A str, giving an expression as a function of n_jobs,\n",
            " |            as in '2*n_jobs'\n",
            " |  \n",
            " |  error_score : 'raise' or numeric, default=np.nan\n",
            " |      Value to assign to the score if an error occurs in estimator fitting.\n",
            " |      If set to 'raise', the error is raised. If a numeric value is given,\n",
            " |      FitFailedWarning is raised. This parameter does not affect the refit\n",
            " |      step, which will always raise the error.\n",
            " |  \n",
            " |  return_train_score : bool, default=False\n",
            " |      If ``False``, the ``cv_results_`` attribute will not include training\n",
            " |      scores.\n",
            " |      Computing training scores is used to get insights on how different\n",
            " |      parameter settings impact the overfitting/underfitting trade-off.\n",
            " |      However computing the scores on the training set can be computationally\n",
            " |      expensive and is not strictly required to select the parameters that\n",
            " |      yield the best generalization performance.\n",
            " |  \n",
            " |      .. versionadded:: 0.19\n",
            " |  \n",
            " |      .. versionchanged:: 0.21\n",
            " |          Default value was changed from ``True`` to ``False``\n",
            " |  \n",
            " |  Attributes\n",
            " |  ----------\n",
            " |  cv_results_ : dict of numpy (masked) ndarrays\n",
            " |      A dict with keys as column headers and values as columns, that can be\n",
            " |      imported into a pandas ``DataFrame``.\n",
            " |  \n",
            " |      For instance the below given table\n",
            " |  \n",
            " |      +------------+-----------+------------+-----------------+---+---------+\n",
            " |      |param_kernel|param_gamma|param_degree|split0_test_score|...|rank_t...|\n",
            " |      +============+===========+============+=================+===+=========+\n",
            " |      |  'poly'    |     --    |      2     |       0.80      |...|    2    |\n",
            " |      +------------+-----------+------------+-----------------+---+---------+\n",
            " |      |  'poly'    |     --    |      3     |       0.70      |...|    4    |\n",
            " |      +------------+-----------+------------+-----------------+---+---------+\n",
            " |      |  'rbf'     |     0.1   |     --     |       0.80      |...|    3    |\n",
            " |      +------------+-----------+------------+-----------------+---+---------+\n",
            " |      |  'rbf'     |     0.2   |     --     |       0.93      |...|    1    |\n",
            " |      +------------+-----------+------------+-----------------+---+---------+\n",
            " |  \n",
            " |      will be represented by a ``cv_results_`` dict of::\n",
            " |  \n",
            " |          {\n",
            " |          'param_kernel': masked_array(data = ['poly', 'poly', 'rbf', 'rbf'],\n",
            " |                                       mask = [False False False False]...)\n",
            " |          'param_gamma': masked_array(data = [-- -- 0.1 0.2],\n",
            " |                                      mask = [ True  True False False]...),\n",
            " |          'param_degree': masked_array(data = [2.0 3.0 -- --],\n",
            " |                                       mask = [False False  True  True]...),\n",
            " |          'split0_test_score'  : [0.80, 0.70, 0.80, 0.93],\n",
            " |          'split1_test_score'  : [0.82, 0.50, 0.70, 0.78],\n",
            " |          'mean_test_score'    : [0.81, 0.60, 0.75, 0.85],\n",
            " |          'std_test_score'     : [0.01, 0.10, 0.05, 0.08],\n",
            " |          'rank_test_score'    : [2, 4, 3, 1],\n",
            " |          'split0_train_score' : [0.80, 0.92, 0.70, 0.93],\n",
            " |          'split1_train_score' : [0.82, 0.55, 0.70, 0.87],\n",
            " |          'mean_train_score'   : [0.81, 0.74, 0.70, 0.90],\n",
            " |          'std_train_score'    : [0.01, 0.19, 0.00, 0.03],\n",
            " |          'mean_fit_time'      : [0.73, 0.63, 0.43, 0.49],\n",
            " |          'std_fit_time'       : [0.01, 0.02, 0.01, 0.01],\n",
            " |          'mean_score_time'    : [0.01, 0.06, 0.04, 0.04],\n",
            " |          'std_score_time'     : [0.00, 0.00, 0.00, 0.01],\n",
            " |          'params'             : [{'kernel': 'poly', 'degree': 2}, ...],\n",
            " |          }\n",
            " |  \n",
            " |      NOTE\n",
            " |  \n",
            " |      The key ``'params'`` is used to store a list of parameter\n",
            " |      settings dicts for all the parameter candidates.\n",
            " |  \n",
            " |      The ``mean_fit_time``, ``std_fit_time``, ``mean_score_time`` and\n",
            " |      ``std_score_time`` are all in seconds.\n",
            " |  \n",
            " |      For multi-metric evaluation, the scores for all the scorers are\n",
            " |      available in the ``cv_results_`` dict at the keys ending with that\n",
            " |      scorer's name (``'_<scorer_name>'``) instead of ``'_score'`` shown\n",
            " |      above. ('split0_test_precision', 'mean_train_precision' etc.)\n",
            " |  \n",
            " |  best_estimator_ : estimator\n",
            " |      Estimator that was chosen by the search, i.e. estimator\n",
            " |      which gave highest score (or smallest loss if specified)\n",
            " |      on the left out data. Not available if ``refit=False``.\n",
            " |  \n",
            " |      See ``refit`` parameter for more information on allowed values.\n",
            " |  \n",
            " |  best_score_ : float\n",
            " |      Mean cross-validated score of the best_estimator\n",
            " |  \n",
            " |      For multi-metric evaluation, this is present only if ``refit`` is\n",
            " |      specified.\n",
            " |  \n",
            " |      This attribute is not available if ``refit`` is a function.\n",
            " |  \n",
            " |  best_params_ : dict\n",
            " |      Parameter setting that gave the best results on the hold out data.\n",
            " |  \n",
            " |      For multi-metric evaluation, this is present only if ``refit`` is\n",
            " |      specified.\n",
            " |  \n",
            " |  best_index_ : int\n",
            " |      The index (of the ``cv_results_`` arrays) which corresponds to the best\n",
            " |      candidate parameter setting.\n",
            " |  \n",
            " |      The dict at ``search.cv_results_['params'][search.best_index_]`` gives\n",
            " |      the parameter setting for the best model, that gives the highest\n",
            " |      mean score (``search.best_score_``).\n",
            " |  \n",
            " |      For multi-metric evaluation, this is present only if ``refit`` is\n",
            " |      specified.\n",
            " |  \n",
            " |  scorer_ : function or a dict\n",
            " |      Scorer function used on the held out data to choose the best\n",
            " |      parameters for the model.\n",
            " |  \n",
            " |      For multi-metric evaluation, this attribute holds the validated\n",
            " |      ``scoring`` dict which maps the scorer key to the scorer callable.\n",
            " |  \n",
            " |  n_splits_ : int\n",
            " |      The number of cross-validation splits (folds/iterations).\n",
            " |  \n",
            " |  refit_time_ : float\n",
            " |      Seconds used for refitting the best model on the whole dataset.\n",
            " |  \n",
            " |      This is present only if ``refit`` is not False.\n",
            " |  \n",
            " |      .. versionadded:: 0.20\n",
            " |  \n",
            " |  multimetric_ : bool\n",
            " |      Whether or not the scorers compute several metrics.\n",
            " |  \n",
            " |  classes_ : ndarray of shape (n_classes,)\n",
            " |      The classes labels. This is present only if ``refit`` is specified and\n",
            " |      the underlying estimator is a classifier.\n",
            " |  \n",
            " |  n_features_in_ : int\n",
            " |      Number of features seen during :term:`fit`. Only defined if\n",
            " |      `best_estimator_` is defined (see the documentation for the `refit`\n",
            " |      parameter for more details) and that `best_estimator_` exposes\n",
            " |      `n_features_in_` when fit.\n",
            " |  \n",
            " |      .. versionadded:: 0.24\n",
            " |  \n",
            " |  feature_names_in_ : ndarray of shape (`n_features_in_`,)\n",
            " |      Names of features seen during :term:`fit`. Only defined if\n",
            " |      `best_estimator_` is defined (see the documentation for the `refit`\n",
            " |      parameter for more details) and that `best_estimator_` exposes\n",
            " |      `feature_names_in_` when fit.\n",
            " |  \n",
            " |      .. versionadded:: 1.0\n",
            " |  \n",
            " |  Notes\n",
            " |  -----\n",
            " |  The parameters selected are those that maximize the score of the left out\n",
            " |  data, unless an explicit score is passed in which case it is used instead.\n",
            " |  \n",
            " |  If `n_jobs` was set to a value higher than one, the data is copied for each\n",
            " |  point in the grid (and not `n_jobs` times). This is done for efficiency\n",
            " |  reasons if individual jobs take very little time, but may raise errors if\n",
            " |  the dataset is large and not enough memory is available.  A workaround in\n",
            " |  this case is to set `pre_dispatch`. Then, the memory is copied only\n",
            " |  `pre_dispatch` many times. A reasonable value for `pre_dispatch` is `2 *\n",
            " |  n_jobs`.\n",
            " |  \n",
            " |  See Also\n",
            " |  ---------\n",
            " |  ParameterGrid : Generates all the combinations of a hyperparameter grid.\n",
            " |  train_test_split : Utility function to split the data into a development\n",
            " |      set usable for fitting a GridSearchCV instance and an evaluation set\n",
            " |      for its final evaluation.\n",
            " |  sklearn.metrics.make_scorer : Make a scorer from a performance metric or\n",
            " |      loss function.\n",
            " |  \n",
            " |  Examples\n",
            " |  --------\n",
            " |  >>> from sklearn import svm, datasets\n",
            " |  >>> from sklearn.model_selection import GridSearchCV\n",
            " |  >>> iris = datasets.load_iris()\n",
            " |  >>> parameters = {'kernel':('linear', 'rbf'), 'C':[1, 10]}\n",
            " |  >>> svc = svm.SVC()\n",
            " |  >>> clf = GridSearchCV(svc, parameters)\n",
            " |  >>> clf.fit(iris.data, iris.target)\n",
            " |  GridSearchCV(estimator=SVC(),\n",
            " |               param_grid={'C': [1, 10], 'kernel': ('linear', 'rbf')})\n",
            " |  >>> sorted(clf.cv_results_.keys())\n",
            " |  ['mean_fit_time', 'mean_score_time', 'mean_test_score',...\n",
            " |   'param_C', 'param_kernel', 'params',...\n",
            " |   'rank_test_score', 'split0_test_score',...\n",
            " |   'split2_test_score', ...\n",
            " |   'std_fit_time', 'std_score_time', 'std_test_score']\n",
            " |  \n",
            " |  Method resolution order:\n",
            " |      GridSearchCV\n",
            " |      BaseSearchCV\n",
            " |      sklearn.base.MetaEstimatorMixin\n",
            " |      sklearn.base.BaseEstimator\n",
            " |      builtins.object\n",
            " |  \n",
            " |  Methods defined here:\n",
            " |  \n",
            " |  __init__(self, estimator, param_grid, *, scoring=None, n_jobs=None, refit=True, cv=None, verbose=0, pre_dispatch='2*n_jobs', error_score=nan, return_train_score=False)\n",
            " |      Initialize self.  See help(type(self)) for accurate signature.\n",
            " |  \n",
            " |  ----------------------------------------------------------------------\n",
            " |  Data and other attributes defined here:\n",
            " |  \n",
            " |  __abstractmethods__ = frozenset()\n",
            " |  \n",
            " |  ----------------------------------------------------------------------\n",
            " |  Methods inherited from BaseSearchCV:\n",
            " |  \n",
            " |  decision_function(self, X)\n",
            " |      Call decision_function on the estimator with the best found parameters.\n",
            " |      \n",
            " |      Only available if ``refit=True`` and the underlying estimator supports\n",
            " |      ``decision_function``.\n",
            " |      \n",
            " |      Parameters\n",
            " |      ----------\n",
            " |      X : indexable, length n_samples\n",
            " |          Must fulfill the input assumptions of the\n",
            " |          underlying estimator.\n",
            " |      \n",
            " |      Returns\n",
            " |      -------\n",
            " |      y_score : ndarray of shape (n_samples,) or (n_samples, n_classes)                 or (n_samples, n_classes * (n_classes-1) / 2)\n",
            " |          Result of the decision function for `X` based on the estimator with\n",
            " |          the best found parameters.\n",
            " |  \n",
            " |  fit(self, X, y=None, *, groups=None, **fit_params)\n",
            " |      Run fit with all sets of parameters.\n",
            " |      \n",
            " |      Parameters\n",
            " |      ----------\n",
            " |      \n",
            " |      X : array-like of shape (n_samples, n_features)\n",
            " |          Training vector, where `n_samples` is the number of samples and\n",
            " |          `n_features` is the number of features.\n",
            " |      \n",
            " |      y : array-like of shape (n_samples, n_output)             or (n_samples,), default=None\n",
            " |          Target relative to X for classification or regression;\n",
            " |          None for unsupervised learning.\n",
            " |      \n",
            " |      groups : array-like of shape (n_samples,), default=None\n",
            " |          Group labels for the samples used while splitting the dataset into\n",
            " |          train/test set. Only used in conjunction with a \"Group\" :term:`cv`\n",
            " |          instance (e.g., :class:`~sklearn.model_selection.GroupKFold`).\n",
            " |      \n",
            " |      **fit_params : dict of str -> object\n",
            " |          Parameters passed to the ``fit`` method of the estimator.\n",
            " |      \n",
            " |      Returns\n",
            " |      -------\n",
            " |      self : object\n",
            " |          Instance of fitted estimator.\n",
            " |  \n",
            " |  inverse_transform(self, Xt)\n",
            " |      Call inverse_transform on the estimator with the best found params.\n",
            " |      \n",
            " |      Only available if the underlying estimator implements\n",
            " |      ``inverse_transform`` and ``refit=True``.\n",
            " |      \n",
            " |      Parameters\n",
            " |      ----------\n",
            " |      Xt : indexable, length n_samples\n",
            " |          Must fulfill the input assumptions of the\n",
            " |          underlying estimator.\n",
            " |      \n",
            " |      Returns\n",
            " |      -------\n",
            " |      X : {ndarray, sparse matrix} of shape (n_samples, n_features)\n",
            " |          Result of the `inverse_transform` function for `Xt` based on the\n",
            " |          estimator with the best found parameters.\n",
            " |  \n",
            " |  predict(self, X)\n",
            " |      Call predict on the estimator with the best found parameters.\n",
            " |      \n",
            " |      Only available if ``refit=True`` and the underlying estimator supports\n",
            " |      ``predict``.\n",
            " |      \n",
            " |      Parameters\n",
            " |      ----------\n",
            " |      X : indexable, length n_samples\n",
            " |          Must fulfill the input assumptions of the\n",
            " |          underlying estimator.\n",
            " |      \n",
            " |      Returns\n",
            " |      -------\n",
            " |      y_pred : ndarray of shape (n_samples,)\n",
            " |          The predicted labels or values for `X` based on the estimator with\n",
            " |          the best found parameters.\n",
            " |  \n",
            " |  predict_log_proba(self, X)\n",
            " |      Call predict_log_proba on the estimator with the best found parameters.\n",
            " |      \n",
            " |      Only available if ``refit=True`` and the underlying estimator supports\n",
            " |      ``predict_log_proba``.\n",
            " |      \n",
            " |      Parameters\n",
            " |      ----------\n",
            " |      X : indexable, length n_samples\n",
            " |          Must fulfill the input assumptions of the\n",
            " |          underlying estimator.\n",
            " |      \n",
            " |      Returns\n",
            " |      -------\n",
            " |      y_pred : ndarray of shape (n_samples,) or (n_samples, n_classes)\n",
            " |          Predicted class log-probabilities for `X` based on the estimator\n",
            " |          with the best found parameters. The order of the classes\n",
            " |          corresponds to that in the fitted attribute :term:`classes_`.\n",
            " |  \n",
            " |  predict_proba(self, X)\n",
            " |      Call predict_proba on the estimator with the best found parameters.\n",
            " |      \n",
            " |      Only available if ``refit=True`` and the underlying estimator supports\n",
            " |      ``predict_proba``.\n",
            " |      \n",
            " |      Parameters\n",
            " |      ----------\n",
            " |      X : indexable, length n_samples\n",
            " |          Must fulfill the input assumptions of the\n",
            " |          underlying estimator.\n",
            " |      \n",
            " |      Returns\n",
            " |      -------\n",
            " |      y_pred : ndarray of shape (n_samples,) or (n_samples, n_classes)\n",
            " |          Predicted class probabilities for `X` based on the estimator with\n",
            " |          the best found parameters. The order of the classes corresponds\n",
            " |          to that in the fitted attribute :term:`classes_`.\n",
            " |  \n",
            " |  score(self, X, y=None)\n",
            " |      Return the score on the given data, if the estimator has been refit.\n",
            " |      \n",
            " |      This uses the score defined by ``scoring`` where provided, and the\n",
            " |      ``best_estimator_.score`` method otherwise.\n",
            " |      \n",
            " |      Parameters\n",
            " |      ----------\n",
            " |      X : array-like of shape (n_samples, n_features)\n",
            " |          Input data, where `n_samples` is the number of samples and\n",
            " |          `n_features` is the number of features.\n",
            " |      \n",
            " |      y : array-like of shape (n_samples, n_output)             or (n_samples,), default=None\n",
            " |          Target relative to X for classification or regression;\n",
            " |          None for unsupervised learning.\n",
            " |      \n",
            " |      Returns\n",
            " |      -------\n",
            " |      score : float\n",
            " |          The score defined by ``scoring`` if provided, and the\n",
            " |          ``best_estimator_.score`` method otherwise.\n",
            " |  \n",
            " |  score_samples(self, X)\n",
            " |      Call score_samples on the estimator with the best found parameters.\n",
            " |      \n",
            " |      Only available if ``refit=True`` and the underlying estimator supports\n",
            " |      ``score_samples``.\n",
            " |      \n",
            " |      .. versionadded:: 0.24\n",
            " |      \n",
            " |      Parameters\n",
            " |      ----------\n",
            " |      X : iterable\n",
            " |          Data to predict on. Must fulfill input requirements\n",
            " |          of the underlying estimator.\n",
            " |      \n",
            " |      Returns\n",
            " |      -------\n",
            " |      y_score : ndarray of shape (n_samples,)\n",
            " |          The ``best_estimator_.score_samples`` method.\n",
            " |  \n",
            " |  transform(self, X)\n",
            " |      Call transform on the estimator with the best found parameters.\n",
            " |      \n",
            " |      Only available if the underlying estimator supports ``transform`` and\n",
            " |      ``refit=True``.\n",
            " |      \n",
            " |      Parameters\n",
            " |      ----------\n",
            " |      X : indexable, length n_samples\n",
            " |          Must fulfill the input assumptions of the\n",
            " |          underlying estimator.\n",
            " |      \n",
            " |      Returns\n",
            " |      -------\n",
            " |      Xt : {ndarray, sparse matrix} of shape (n_samples, n_features)\n",
            " |          `X` transformed in the new space based on the estimator with\n",
            " |          the best found parameters.\n",
            " |  \n",
            " |  ----------------------------------------------------------------------\n",
            " |  Data descriptors inherited from BaseSearchCV:\n",
            " |  \n",
            " |  classes_\n",
            " |      Class labels.\n",
            " |      \n",
            " |      Only available when `refit=True` and the estimator is a classifier.\n",
            " |  \n",
            " |  n_features_in_\n",
            " |      Number of features seen during :term:`fit`.\n",
            " |      \n",
            " |      Only available when `refit=True`.\n",
            " |  \n",
            " |  ----------------------------------------------------------------------\n",
            " |  Data descriptors inherited from sklearn.base.MetaEstimatorMixin:\n",
            " |  \n",
            " |  __dict__\n",
            " |      dictionary for instance variables (if defined)\n",
            " |  \n",
            " |  __weakref__\n",
            " |      list of weak references to the object (if defined)\n",
            " |  \n",
            " |  ----------------------------------------------------------------------\n",
            " |  Methods inherited from sklearn.base.BaseEstimator:\n",
            " |  \n",
            " |  __getstate__(self)\n",
            " |  \n",
            " |  __repr__(self, N_CHAR_MAX=700)\n",
            " |      Return repr(self).\n",
            " |  \n",
            " |  __setstate__(self, state)\n",
            " |  \n",
            " |  get_params(self, deep=True)\n",
            " |      Get parameters for this estimator.\n",
            " |      \n",
            " |      Parameters\n",
            " |      ----------\n",
            " |      deep : bool, default=True\n",
            " |          If True, will return the parameters for this estimator and\n",
            " |          contained subobjects that are estimators.\n",
            " |      \n",
            " |      Returns\n",
            " |      -------\n",
            " |      params : dict\n",
            " |          Parameter names mapped to their values.\n",
            " |  \n",
            " |  set_params(self, **params)\n",
            " |      Set the parameters of this estimator.\n",
            " |      \n",
            " |      The method works on simple estimators as well as on nested objects\n",
            " |      (such as :class:`~sklearn.pipeline.Pipeline`). The latter have\n",
            " |      parameters of the form ``<component>__<parameter>`` so that it's\n",
            " |      possible to update each component of a nested object.\n",
            " |      \n",
            " |      Parameters\n",
            " |      ----------\n",
            " |      **params : dict\n",
            " |          Estimator parameters.\n",
            " |      \n",
            " |      Returns\n",
            " |      -------\n",
            " |      self : estimator instance\n",
            " |          Estimator instance.\n",
            "\n"
          ]
        }
      ],
      "source": [
        "help(GridSearchCV)"
      ]
    },
    {
      "cell_type": "markdown",
      "metadata": {
        "id": "EJ5CniAuogk-"
      },
      "source": [
        "Erreur des prédictions"
      ]
    },
    {
      "cell_type": "code",
      "execution_count": null,
      "metadata": {
        "colab": {
          "base_uri": "https://localhost:8080/"
        },
        "id": "QxiwK7jnogk_",
        "outputId": "8f630a74-0865-4e87-9fcd-e80c5037c41c"
      },
      "outputs": [
        {
          "output_type": "stream",
          "name": "stdout",
          "text": [
            "CARVP    0   1\n",
            "row_0         \n",
            "0      117  18\n",
            "1       15  50\n",
            "Erreur de test régression Lasso = 0.165000\n"
          ]
        }
      ],
      "source": [
        "# Prédiction\n",
        "yChap = logitLasso.predict(xTest)\n",
        "# matrice de confusion\n",
        "table=pd.crosstab(yChap,yTest)\n",
        "print(table)\n",
        "# Erreur sur l'échantillon test\n",
        "print(\"Erreur de test régression Lasso = %f\" % (1-logitLasso.score(xTest, yTest)))"
      ]
    },
    {
      "cell_type": "markdown",
      "metadata": {
        "id": "vZcBB-HxoglA"
      },
      "source": [
        "#### Optimisation *ridge*\n",
        "\n",
        "Documentez vous sur l'optimisation ridge sur les liens suivants :"
      ]
    },
    {
      "cell_type": "code",
      "execution_count": null,
      "metadata": {
        "colab": {
          "base_uri": "https://localhost:8080/"
        },
        "id": "xKQSrZUloglB",
        "outputId": "7bb3088b-ac76-4717-e6f5-15a2455235f9"
      },
      "outputs": [
        {
          "output_type": "stream",
          "name": "stdout",
          "text": [
            "Meilleur score = 0.162192, Meilleur paramètre = {'C': 12}\n"
          ]
        }
      ],
      "source": [
        "# Grilles de valeurs du paramètre de pénalisation\n",
        "param=[{\"C\":[0.5,1,5,10,12,15,30]}]\n",
        "logitR = GridSearchCV(LogisticRegression(penalty=\"l2\",solver='liblinear'), param,cv=5,n_jobs=-1)\n",
        "logitRidge=logitR.fit(xApp, yApp)\n",
        "# Sélection du paramètre optimal\n",
        "logitRidge.best_params_[\"C\"]\n",
        "print(\"Meilleur score = %f, Meilleur paramètre = %s\" % (1.-logitRidge.best_score_,logitRidge.best_params_))"
      ]
    },
    {
      "cell_type": "code",
      "execution_count": null,
      "metadata": {
        "colab": {
          "base_uri": "https://localhost:8080/"
        },
        "id": "VpcAhdzvoglC",
        "outputId": "27fba2e2-6277-4052-daab-9bcc4270daac"
      },
      "outputs": [
        {
          "output_type": "stream",
          "name": "stdout",
          "text": [
            "CARVP    0   1\n",
            "row_0         \n",
            "0      118  19\n",
            "1       14  49\n",
            "Erreur de test régression Ridge = 0.165000\n"
          ]
        }
      ],
      "source": [
        "# Prévision\n",
        "yChap = logitRidge.predict(xTest)\n",
        "# matrice de confusion\n",
        "table=pd.crosstab(yChap,yTest)\n",
        "print(table)\n",
        "# Erreur sur l'échantillon test\n",
        "print(\"Erreur de test régression Ridge = %f\" % (1-logitRidge.score(xTest, yTest)))"
      ]
    },
    {
      "cell_type": "markdown",
      "metadata": {
        "id": "-tTIRsweoglD"
      },
      "source": [
        "**Q** Noter l'erreur de prévision;\n",
        "### Interprétation\n",
        "\n",
        "L'objet LassoOpt issu de GridSearchCV ne retient pas les paramètres estimés dans le modèle. Il faut donc ré-estimer avec la valeur optimale du paramètre de pénalisation si l'on souhaite afficher ces coefficients."
      ]
    },
    {
      "cell_type": "code",
      "execution_count": null,
      "metadata": {
        "colab": {
          "base_uri": "https://localhost:8080/"
        },
        "id": "CWf4zXYhoglE",
        "outputId": "f21605d1-8621-41e6-dd0d-0af44082cc79"
      },
      "outputs": [
        {
          "output_type": "stream",
          "name": "stdout",
          "text": [
            "PCSPQ_Pcad    2.945221\n",
            "PCSPQ_Psan    2.198579\n",
            "XLGNB         1.739828\n",
            "PCSPQ_Pouv    1.495583\n",
            "UEMNB         1.491941\n",
            "SEXEQ_Shom    1.449681\n",
            "KVUNB         1.264429\n",
            "BOPPNL        1.125977\n",
            "NPTAG         1.024353\n",
            "YLVNB         0.920406\n",
            "PCSPQ_Pint    0.761600\n",
            "PCSPQ_Pemp    0.714092\n",
            "OPGNBL        0.688645\n",
            "QCREDL        0.633054\n",
            "ENDETL        0.507132\n",
            "MOYRVL        0.376341\n",
            "VIENB         0.197211\n",
            "DMVTPL        0.155247\n",
            "XLGMTL        0.116634\n",
            "YLVMTL        0.091004\n",
            "JNBJDL        0.087901\n",
            "GAGECL        0.087579\n",
            "FAMIQ_Fcou    0.081197\n",
            "FACANL        0.077697\n",
            "ITAVCL        0.074963\n",
            "HAVEFL        0.070688\n",
            "TAVEPL        0.058683\n",
            "GAGETL        0.048601\n",
            "GAGEML        0.042838\n",
            "ROCNB         0.039319\n",
            "LGAGTL        0.024214\n",
            "VIEMTL        0.017756\n",
            "RELAT         0.006816\n",
            "AGER          0.004366\n",
            "QSMOY         0.000007\n",
            "dtype: float64\n"
          ]
        }
      ],
      "source": [
        "LassoOpt=LogisticRegression(penalty=\"l1\",solver='liblinear',C=12)\n",
        "LassoOpt=LassoOpt.fit(xApp, yApp)\n",
        "# Récupération des coefficients\n",
        "vect_coef=np.matrix.transpose(LassoOpt.coef_)\n",
        "vect_coef=vect_coef.ravel()\n",
        "#Affichage des 25 plus importants\n",
        "coef=pd.Series(abs(vect_coef),index=xApp.columns).sort_values(ascending=False)\n",
        "print(coef)"
      ]
    },
    {
      "cell_type": "code",
      "execution_count": null,
      "metadata": {
        "colab": {
          "base_uri": "https://localhost:8080/",
          "height": 297
        },
        "id": "TN7Gu7kKoglF",
        "outputId": "36917835-fe99-4216-f192-e2534d5c786f"
      },
      "outputs": [
        {
          "output_type": "display_data",
          "data": {
            "text/plain": [
              "<Figure size 504x288 with 1 Axes>"
            ],
            "image/png": "[encoded data removed]"
          },
          "metadata": {
            "needs_background": "light"
          }
        }
      ],
      "source": [
        "plt.figure(figsize=(7,4))\n",
        "coef.plot(kind='bar')\n",
        "plt.title('Coeffients')\n",
        "plt.tight_layout()\n",
        "plt.show()"
      ]
    },
    {
      "cell_type": "markdown",
      "metadata": {
        "id": "zpqVz2UpoglG"
      },
      "source": [
        "**Q** Quelles sont les variables importantes? Comment interpréter?\n",
        "\n",
        "**Q** La pénalisation Lasso est-elle effective?\n",
        "\n",
        "Il serait intéressant de comparer acec les versions *ridge* et *elestic net* d'optiisation du modèle.\n",
        "\n",
        "### Courbe ROC"
      ]
    },
    {
      "cell_type": "code",
      "execution_count": null,
      "metadata": {
        "colab": {
          "base_uri": "https://localhost:8080/",
          "height": 279
        },
        "id": "2SxasjrpoglM",
        "outputId": "1806b360-fb0a-4b81-e397-ed3c128a8307"
      },
      "outputs": [
        {
          "output_type": "display_data",
          "data": {
            "text/plain": [
              "<Figure size 432x288 with 1 Axes>"
            ],
            "image/png": "[encoded data removed]"
          },
          "metadata": {
            "needs_background": "light"
          }
        }
      ],
      "source": [
        "from sklearn.metrics import roc_curve\n",
        "listMethod=[[\"Lasso\",logitLasso],[\"Ridge\",logitRidge]]\n",
        "\n",
        "for method in enumerate(listMethod):\n",
        "    probas_ = method[1][1].predict_proba(xTest)\n",
        "    fpr, tpr, thresholds = roc_curve(yTest, probas_[:,1])\n",
        "    plt.plot(fpr, tpr, lw=1,label=\"%s\"%method[1][0])\n",
        "plt.xlabel('Taux de faux positifs')\n",
        "plt.ylabel('Taux de vrais positifs')\n",
        "plt.legend(loc=\"best\")\n",
        "plt.show()"
      ]
    },
    {
      "cell_type": "markdown",
      "metadata": {
        "id": "V7GDV5uHoglN"
      },
      "source": [
        "### K plus proches voisins"
      ]
    },
    {
      "cell_type": "code",
      "execution_count": null,
      "metadata": {
        "colab": {
          "base_uri": "https://localhost:8080/"
        },
        "id": "B4nf7A7roglO",
        "outputId": "a06cabf9-33d5-4e82-dab1-cb177127127a"
      },
      "outputs": [
        {
          "output_type": "stream",
          "name": "stdout",
          "text": [
            "CARVP    0   1\n",
            "row_0         \n",
            "0      116  44\n",
            "1       16  24\n",
            "Erreur de test knn = 0.300000\n"
          ]
        }
      ],
      "source": [
        "from sklearn.neighbors import KNeighborsClassifier\n",
        "\n",
        "\n",
        "knn=KNeighborsClassifier(n_neighbors=10)\n",
        "# Définition du modèle\n",
        "disKnn=knn.fit(xApp, yApp)\n",
        "# Prévision de l'échantillon test\n",
        "yChap = disKnn.predict(xTest)\n",
        "# matrice de confusion\n",
        "table=pd.crosstab(yChap,yTest)\n",
        "print(table)\n",
        "# Erreur de prévision sur le test\n",
        "print(\"Erreur de test knn = %f\" % (1-disKnn.score(xTest,yTest)))"
      ]
    },
    {
      "cell_type": "code",
      "execution_count": null,
      "metadata": {
        "colab": {
          "base_uri": "https://localhost:8080/"
        },
        "id": "5eNBlSigoglO",
        "outputId": "d4c0549c-4743-422f-9fb5-08a9b4af83b1"
      },
      "outputs": [
        {
          "output_type": "execute_result",
          "data": {
            "text/plain": [
              "array([0, 0, 0, 0, 0, 0, 0, 0, 0, 0, 1, 1, 0, 0, 0, 0, 0, 0, 0, 0, 0, 0,\n",
              "       0, 0, 0, 0, 0, 0, 0, 0, 0, 0, 0, 0, 0, 0, 1, 1, 0, 0, 0, 1, 0, 1,\n",
              "       1, 0, 0, 0, 0, 0, 1, 0, 1, 1, 0, 0, 1, 0, 1, 0, 0, 0, 0, 0, 0, 0,\n",
              "       0, 1, 0, 0, 0, 0, 0, 0, 0, 0, 0, 0, 1, 1, 0, 0, 0, 1, 1, 0, 1, 0,\n",
              "       0, 0, 0, 1, 0, 0, 0, 1, 0, 0, 0, 0, 0, 0, 0, 1, 1, 0, 0, 1, 0, 0,\n",
              "       0, 0, 0, 0, 0, 1, 1, 0, 0, 0, 0, 0, 0, 1, 0, 0, 0, 0, 0, 0, 0, 0,\n",
              "       0, 0, 0, 0, 0, 0, 0, 0, 0, 0, 0, 0, 0, 0, 0, 0, 1, 0, 0, 0, 0, 0,\n",
              "       1, 1, 0, 0, 0, 1, 0, 1, 0, 0, 0, 0, 0, 0, 0, 0, 0, 0, 0, 0, 0, 0,\n",
              "       1, 0, 1, 0, 1, 0, 0, 1, 0, 0, 0, 1, 0, 0, 1, 0, 1, 1, 0, 0, 0, 0,\n",
              "       0, 1])"
            ]
          },
          "metadata": {},
          "execution_count": 67
        }
      ],
      "source": [
        "yChap"
      ]
    },
    {
      "cell_type": "code",
      "execution_count": null,
      "metadata": {
        "colab": {
          "base_uri": "https://localhost:8080/"
        },
        "id": "WFCRJWShoglQ",
        "outputId": "8bbad446-6f73-40c4-cc7e-e3a8ae084fbc"
      },
      "outputs": [
        {
          "output_type": "stream",
          "name": "stdout",
          "text": [
            "Meilleur score = 0.291995, Meilleur paramètre = {'n_neighbors': 6}\n"
          ]
        }
      ],
      "source": [
        "#Optimisation du paramètre de complexité k\n",
        "#Grille de valeurs\n",
        "param_grid=[{\"n_neighbors\":list(range(1,15))}]\n",
        "disKnn=GridSearchCV(KNeighborsClassifier(),param_grid,cv=5,n_jobs=-1)\n",
        "disKnnOpt=disKnn.fit(xApp, yApp) # GridSearchCV est lui même un estimateur\n",
        "# paramètre optimal\n",
        "disKnnOpt.best_params_[\"n_neighbors\"]\n",
        "print(\"Meilleur score = %f, Meilleur paramètre = %s\" % (1.-disKnnOpt.best_score_,disKnnOpt.best_params_))"
      ]
    },
    {
      "cell_type": "code",
      "execution_count": null,
      "metadata": {
        "colab": {
          "base_uri": "https://localhost:8080/"
        },
        "id": "6VgZ1ymvoglR",
        "outputId": "3a2f95f7-9d1f-4884-9298-0356cd8615da"
      },
      "outputs": [
        {
          "output_type": "stream",
          "name": "stdout",
          "text": [
            "CARVP    0   1\n",
            "row_0         \n",
            "0      120  42\n",
            "1       12  26\n",
            "Erreur de test knn_opt = 0.270000\n"
          ]
        }
      ],
      "source": [
        "# Prévision de l'échantillon test\n",
        "yChap = disKnnOpt.predict(xTest)\n",
        "# matrice de confusion\n",
        "table=pd.crosstab(yChap,yTest)\n",
        "print(table)\n",
        "\n",
        "# Estimation de l'erreur de prévision sur l'échantillon test\n",
        "print(\"Erreur de test knn_opt = %f\" % (1-disKnnOpt.score(xTest,yTest)))"
      ]
    },
    {
      "cell_type": "code",
      "execution_count": null,
      "metadata": {
        "id": "OlPSDOgIoglS"
      },
      "outputs": [],
      "source": [
        "from sklearn import discriminant_analysis\n",
        "from sklearn.neighbors import KNeighborsClassifier"
      ]
    },
    {
      "cell_type": "code",
      "execution_count": null,
      "metadata": {
        "colab": {
          "base_uri": "https://localhost:8080/"
        },
        "id": "qqjP8x8loglT",
        "outputId": "18c56c10-0419-48c1-a65b-8039202ea572"
      },
      "outputs": [
        {
          "output_type": "stream",
          "name": "stdout",
          "text": [
            "CARVP    0   1\n",
            "row_0         \n",
            "0      120  18\n",
            "1       12  50\n",
            "Erreur de test lda = 0.150000\n"
          ]
        }
      ],
      "source": [
        "lda = discriminant_analysis.LinearDiscriminantAnalysis()\n",
        "disLin=lda.fit(xApp, yApp)\n",
        "# Prévision de l'échantillon test\n",
        "yChap = disLin.predict(xTest)\n",
        "# matrice de confusion\n",
        "table=pd.crosstab(yChap,yTest)\n",
        "print(table)\n",
        "# Erreur de prévision sur le test\n",
        "print(\"Erreur de test lda = %f\" % (1-disLin.score(xTest,yTest)))"
      ]
    },
    {
      "cell_type": "code",
      "execution_count": null,
      "metadata": {
        "colab": {
          "base_uri": "https://localhost:8080/"
        },
        "id": "uLefz6VboglU",
        "outputId": "5c17b890-28d4-48d4-fcd8-be152ac6e7e1"
      },
      "outputs": [
        {
          "output_type": "stream",
          "name": "stderr",
          "text": [
            "/usr/local/lib/python3.7/dist-packages/sklearn/discriminant_analysis.py:878: UserWarning: Variables are collinear\n",
            "  warnings.warn(\"Variables are collinear\")\n"
          ]
        }
      ],
      "source": [
        "qda = discriminant_analysis.QuadraticDiscriminantAnalysis()\n",
        "disQua=qda.fit(xApp, yApp)"
      ]
    },
    {
      "cell_type": "code",
      "execution_count": null,
      "metadata": {
        "colab": {
          "base_uri": "https://localhost:8080/"
        },
        "id": "1ATPOdPvoglU",
        "outputId": "a64954a1-230c-462a-f6b5-8d0bf1ae3066"
      },
      "outputs": [
        {
          "output_type": "stream",
          "name": "stdout",
          "text": [
            "CARVP    0   1\n",
            "row_0         \n",
            "0      116  29\n",
            "1       16  39\n",
            "Erreur de test qda = 0.225000\n"
          ]
        }
      ],
      "source": [
        "# Prévision de l'échantillon test\n",
        "yChap = disQua.predict(xTest)\n",
        "# matrice de confusion\n",
        "table=pd.crosstab(yChap,yTest)\n",
        "print(table)\n",
        "# Erreur de prévision sur le test\n",
        "print(\"Erreur de test qda = %f\" % (1-disQua.score(xTest,yTest)))"
      ]
    },
    {
      "cell_type": "markdown",
      "metadata": {
        "id": "1gJ4kgtuoglV"
      },
      "source": [
        "Courbes ROC"
      ]
    },
    {
      "cell_type": "code",
      "execution_count": null,
      "metadata": {
        "colab": {
          "base_uri": "https://localhost:8080/",
          "height": 279
        },
        "id": "VBP_j5pwoglW",
        "outputId": "908afbed-cd25-4fbe-faca-a61b7154dde1"
      },
      "outputs": [
        {
          "output_type": "display_data",
          "data": {
            "text/plain": [
              "<Figure size 432x288 with 1 Axes>"
            ],
            "image/png": "[encoded data removed]"
          },
          "metadata": {
            "needs_background": "light"
          }
        }
      ],
      "source": [
        "from sklearn.metrics import roc_curve\n",
        "# Liste des méthodes\n",
        "listMethod=[[\"lda\",disLin],[\"qda\",disQua],[\"knn\",disKnnOpt]]\n",
        "# Tracé des courbes\n",
        "for method in enumerate(listMethod):\n",
        "    probas_ = method[1][1].predict_proba(xTest)\n",
        "    fpr, tpr, thresholds = roc_curve(yTest, probas_[:,1])\n",
        "    plt.plot(fpr, tpr, lw=1,label=\"%s\"%method[1][0])\n",
        "plt.xlabel('Taux de faux positifs')\n",
        "plt.ylabel('Taux de vrais positifs')\n",
        "plt.legend(loc=\"best\")\n",
        "plt.show()"
      ]
    },
    {
      "cell_type": "markdown",
      "metadata": {
        "id": "TY2NQFIIoglX"
      },
      "source": [
        "## Arbres binaires de décision\n",
        "Les arbres binaires de décision concurrencent la régression logistique et gardent une place de choix dans les services de Gestion de la Relation Client, pour la facilité d'interprétation des modèles qui en découlent. L'optimisation de la complexité d'un artbre peut être délicate à opérer cr très sensible aux fluctuations de l'échantillon."
      ]
    },
    {
      "cell_type": "code",
      "execution_count": null,
      "metadata": {
        "id": "bMezVA-zoglZ"
      },
      "outputs": [],
      "source": [
        "from sklearn.tree import DecisionTreeClassifier"
      ]
    },
    {
      "cell_type": "code",
      "execution_count": null,
      "metadata": {
        "id": "H8fikIyjogl1"
      },
      "outputs": [],
      "source": [
        "# définition du modèle\n",
        "tree= DecisionTreeClassifier()\n",
        "treeC=tree.fit(xApp, yApp)"
      ]
    },
    {
      "cell_type": "markdown",
      "metadata": {
        "id": "1NX-YSW_ogl1"
      },
      "source": [
        "**Q** Quel est le critère d'homogénéité des noeuds utilisé par défaut?\n",
        "\n",
        "**Q** Quel est le problème concernant l'élagage de l'arbre dans `Scikkit-learn` vis à vis des possibliités de la librairie `rpart` de R?"
      ]
    },
    {
      "cell_type": "code",
      "execution_count": null,
      "metadata": {
        "colab": {
          "base_uri": "https://localhost:8080/"
        },
        "id": "YZpezvsRogl2",
        "outputId": "58c1714c-4972-4a42-d9b2-3e2401e62a77"
      },
      "outputs": [
        {
          "output_type": "stream",
          "name": "stdout",
          "text": [
            "Meilleur score = 0.126303, Meilleur paramètre = {'max_depth': 3}\n"
          ]
        }
      ],
      "source": [
        "# Optimisation de la profondeur de l'arbre\n",
        "param=[{\"max_depth\":list(range(2,10))}]\n",
        "tree= GridSearchCV(DecisionTreeClassifier(),param,cv=10,n_jobs=-1)\n",
        "treeOpt=tree.fit(xApp, yApp)\n",
        "# paramètre optimal\n",
        "print(\"Meilleur score = %f, Meilleur paramètre = %s\" % (1. - treeOpt.best_score_,treeOpt.best_params_))"
      ]
    },
    {
      "cell_type": "code",
      "execution_count": null,
      "metadata": {
        "colab": {
          "base_uri": "https://localhost:8080/"
        },
        "id": "qPV5yiZMogl3",
        "outputId": "8fafb601-dabe-458c-80a5-d328d5124d34"
      },
      "outputs": [
        {
          "output_type": "stream",
          "name": "stdout",
          "text": [
            "CARVP    0   1\n",
            "row_0         \n",
            "0      122  22\n",
            "1       10  46\n",
            "Erreur de test tree qualitatif = 0.160000\n"
          ]
        }
      ],
      "source": [
        "# Prévision de l'échantillon test\n",
        "yChap = treeOpt.predict(xTest)\n",
        "# matrice de confusion\n",
        "table=pd.crosstab(yChap,yTest)\n",
        "print(table)# Erreur de prévision sur le test\n",
        "print(\"Erreur de test tree qualitatif = %f\" % (1-treeOpt.score(xTest,yTest)))"
      ]
    },
    {
      "cell_type": "code",
      "execution_count": null,
      "metadata": {
        "colab": {
          "base_uri": "https://localhost:8080/"
        },
        "id": "lEQmWNr5ogl4",
        "outputId": "e90e682a-9e36-413c-b697-dc7d07a84f14"
      },
      "outputs": [
        {
          "output_type": "stream",
          "name": "stdout",
          "text": [
            "Looking in indexes: https://pypi.org/simple, https://us-python.pkg.dev/colab-wheels/public/simple/\n",
            "Requirement already satisfied: pydotplus in /usr/local/lib/python3.7/dist-packages (2.0.2)\n",
            "Requirement already satisfied: pyparsing>=2.0.1 in /usr/local/lib/python3.7/dist-packages (from pydotplus) (3.0.9)\n"
          ]
        }
      ],
      "source": [
        "pip install pydotplus"
      ]
    },
    {
      "cell_type": "code",
      "execution_count": null,
      "metadata": {
        "colab": {
          "base_uri": "https://localhost:8080/"
        },
        "id": "g3KVEGtzogl4",
        "outputId": "6e029fd5-d6f1-44f2-8c27-c5ab8598f084"
      },
      "outputs": [
        {
          "output_type": "stream",
          "name": "stdout",
          "text": [
            "Looking in indexes: https://pypi.org/simple, https://us-python.pkg.dev/colab-wheels/public/simple/\n",
            "Requirement already satisfied: graphviz in /usr/local/lib/python3.7/dist-packages (0.10.1)\n"
          ]
        }
      ],
      "source": [
        "pip install graphviz\n"
      ]
    },
    {
      "cell_type": "code",
      "execution_count": null,
      "metadata": {
        "colab": {
          "base_uri": "https://localhost:8080/",
          "height": 130
        },
        "id": "kcZ33A7Wogl5",
        "outputId": "a7b4708c-2b11-40ea-998f-6ea94658c832"
      },
      "outputs": [
        {
          "output_type": "error",
          "ename": "SyntaxError",
          "evalue": "ignored",
          "traceback": [
            "\u001b[0;36m  File \u001b[0;32m\"<ipython-input-81-8ecb00cb292a>\"\u001b[0;36m, line \u001b[0;32m1\u001b[0m\n\u001b[0;31m    conda install graphviz\u001b[0m\n\u001b[0m                ^\u001b[0m\n\u001b[0;31mSyntaxError\u001b[0m\u001b[0;31m:\u001b[0m invalid syntax\n"
          ]
        }
      ],
      "source": [
        "conda install graphviz"
      ]
    },
    {
      "cell_type": "code",
      "execution_count": null,
      "metadata": {
        "id": "OCy9xhG0ogl6",
        "outputId": "3e4c425a-2e02-4d39-a49e-33ebef09990c"
      },
      "outputs": [
        {
          "data": {
            "text/plain": [
              "True"
            ]
          },
          "execution_count": 110,
          "metadata": {},
          "output_type": "execute_result"
        }
      ],
      "source": [
        "from sklearn.tree import export_graphviz\n",
        "\n",
        "\n",
        "from six import StringIO\n",
        "#from sklearn.externals.six import StringIO\n",
        "\n",
        "\n",
        "\n",
        "import pydotplus\n",
        "treeG=DecisionTreeClassifier(max_depth=treeOpt.best_params_['max_depth'])\n",
        "treeG.fit(xApp,yApp)\n",
        "dot_data = StringIO()\n",
        "export_graphviz(treeG, out_file=dot_data)\n",
        "graph=pydotplus.graph_from_dot_data(dot_data.getvalue())\n",
        "graph.write_png(\"treeOpt.png\")"
      ]
    },
    {
      "cell_type": "code",
      "execution_count": null,
      "metadata": {
        "id": "oMdjpTM4ogl7",
        "outputId": "7978e9b9-8168-4fc9-bb04-4d8e008835e1"
      },
      "outputs": [
        {
          "data": {
            "image/png": "[encoded data removed]",
            "text/plain": [
              "<IPython.core.display.Image object>"
            ]
          },
          "execution_count": 107,
          "metadata": {},
          "output_type": "execute_result"
        }
      ],
      "source": [
        "from IPython.display import Image\n",
        "Image(filename='treeOpt.png')"
      ]
    },
    {
      "cell_type": "markdown",
      "metadata": {
        "id": "YOysmht4ogl8"
      },
      "source": [
        "### [Courbes ROC](http://wikistat.fr/pdf/st-m-app-risque.pdf)\n",
        "Comparaison des méthodes précédentes.\n",
        "\n",
        "La valeur de seuil par défaut (0.5) n'étant pas nécessairement celle \"optimale\", il est important de comparer les courbes ROC."
      ]
    },
    {
      "cell_type": "code",
      "execution_count": null,
      "metadata": {
        "id": "VO-urNNsogl8",
        "outputId": "7994364d-b17f-4c6e-c78b-de0b6821c6d4"
      },
      "outputs": [
        {
          "data": {
            "image/png": "[encoded data removed]",
            "text/plain": [
              "<Figure size 432x288 with 1 Axes>"
            ]
          },
          "metadata": {
            "needs_background": "light"
          },
          "output_type": "display_data"
        }
      ],
      "source": [
        "# Liste des méthodes\n",
        "listMethod=[[\"Logit\",logitLasso],[\"lda\",disLin],[\"Arbre\",treeOpt]]\n",
        "# Tracé des courbes\n",
        "for method in enumerate(listMethod):\n",
        "    probas_ = method[1][1].predict_proba(xTest)\n",
        "    fpr, tpr, thresholds = roc_curve(yTest, probas_[:,1])\n",
        "    plt.plot(fpr, tpr, lw=1,label=\"%s\"%method[1][0])\n",
        "plt.xlabel('Taux de faux positifs')\n",
        "plt.ylabel('Taux de vrais positifs')\n",
        "plt.legend(loc=\"best\")\n",
        "plt.show()"
      ]
    },
    {
      "cell_type": "markdown",
      "metadata": {
        "id": "CReoxQExogl9"
      },
      "source": [
        "## Commentez les résultats :\n",
        "\n",
        "**Q** Conséquence du croisement des courbes ROC sur l'évaluation de l'AUC."
      ]
    },
    {
      "cell_type": "markdown",
      "metadata": {
        "id": "bZsNY5gAogl-"
      },
      "source": [
        "**Q** Quelle est la meilleure méthode ? Quelle est la meilleure méthode par rapport à la facilité de son interprétation ?\n",
        "\n",
        "**Exercice** Ajouter les SVM dans la comparaison."
      ]
    }
  ],
  "metadata": {
    "kernelspec": {
      "display_name": "Python 3 (ipykernel)",
      "language": "python",
      "name": "python3"
    },
    "language_info": {
      "codemirror_mode": {
        "name": "ipython",
        "version": 3
      },
      "file_extension": ".py",
      "mimetype": "text/x-python",
      "name": "python",
      "nbconvert_exporter": "python",
      "pygments_lexer": "ipython3",
      "version": "3.9.7"
    },
    "colab": {
      "provenance": [],
      "include_colab_link": true
    }
  },
  "nbformat": 4,
  "nbformat_minor": 0
}