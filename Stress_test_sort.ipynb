{
  "nbformat": 4,
  "nbformat_minor": 0,
  "metadata": {
    "colab": {
      "provenance": [],
      "include_colab_link": true
    },
    "kernelspec": {
      "name": "python3",
      "display_name": "Python 3"
    },
    "language_info": {
      "name": "python"
    }
  },
  "cells": [
    {
      "cell_type": "markdown",
      "metadata": {
        "id": "view-in-github",
        "colab_type": "text"
      },
      "source": [
        "<a href=\"https://colab.research.google.com/github/iSanoussi/Classes-and-tests/blob/main/Stress_test_sort.ipynb\" target=\"_parent\"><img src=\"https://colab.research.google.com/assets/colab-badge.svg\" alt=\"Open In Colab\"/></a>"
      ]
    },
    {
      "cell_type": "code",
      "execution_count": null,
      "metadata": {
        "id": "TrDXnbQQQ1cp"
      },
      "outputs": [],
      "source": [
        "import numpy as np\n",
        "\n",
        "A = np.random.randint(0,10, 20)"
      ]
    },
    {
      "cell_type": "code",
      "source": [
        "print(A)\n",
        "print(sorted(A))"
      ],
      "metadata": {
        "colab": {
          "base_uri": "https://localhost:8080/"
        },
        "id": "JcwzSCy-Q_E3",
        "outputId": "96f968a1-0701-452e-f8e2-5dbcb648275f"
      },
      "execution_count": null,
      "outputs": [
        {
          "output_type": "stream",
          "name": "stdout",
          "text": [
            "[6 2 6 9 2 7 6 7 2 3 5 1 0 1 5 6 3 0 9 9]\n",
            "[0, 0, 1, 1, 2, 2, 2, 3, 3, 5, 5, 6, 6, 6, 6, 7, 7, 9, 9, 9]\n"
          ]
        }
      ]
    },
    {
      "cell_type": "code",
      "source": [
        "def my_sort(B):\n",
        "  A = B.copy()\n",
        "  n = len(A)\n",
        "\n",
        "\n",
        "  for i in range(n):\n",
        "    minim = A[i]\n",
        "    ind = i\n",
        "    for j in range(i,n):\n",
        "      if A[j] < minim :\n",
        "        ind  = j\n",
        "        minim = A[j]\n",
        "    A[i], A[ind] = A[ind], A[i]\n",
        "  return A\n",
        "\n"
      ],
      "metadata": {
        "id": "WRkYWHDQRGT6"
      },
      "execution_count": null,
      "outputs": []
    },
    {
      "cell_type": "code",
      "source": [
        "my_sort(A)"
      ],
      "metadata": {
        "colab": {
          "base_uri": "https://localhost:8080/"
        },
        "id": "ys-L0O_nTbHX",
        "outputId": "2ccc5c22-ff42-4946-963f-f5ed83bb9876"
      },
      "execution_count": null,
      "outputs": [
        {
          "output_type": "execute_result",
          "data": {
            "text/plain": [
              "array([0, 0, 1, 1, 2, 2, 2, 3, 3, 5, 5, 6, 6, 6, 6, 7, 7, 9, 9, 9])"
            ]
          },
          "metadata": {},
          "execution_count": 11
        }
      ]
    },
    {
      "cell_type": "code",
      "source": [
        "A"
      ],
      "metadata": {
        "colab": {
          "base_uri": "https://localhost:8080/"
        },
        "id": "q3VPe6hnTdGK",
        "outputId": "8ec4eaaf-facd-4fe2-ba60-b6883037b41c"
      },
      "execution_count": null,
      "outputs": [
        {
          "output_type": "execute_result",
          "data": {
            "text/plain": [
              "array([0, 1, 1, 1, 2, 2, 4, 4, 4, 4, 5, 5, 6, 7, 8, 8, 9, 9, 9, 9])"
            ]
          },
          "metadata": {},
          "execution_count": 6
        }
      ]
    },
    {
      "cell_type": "markdown",
      "source": [
        "# Objectif : rediger un stress test\n",
        "- générer une boucle while() (infinie)\n",
        "- générer une liste aléatoire\n",
        "- comparer sorted(liste) et my_sort(liste)\n",
        "- renvoyer un message d'erreur si le résultat est différent\n",
        "- continuer si résultat est identique (attention aux types de liste)\n",
        "- éventuellement ajouter un compteur de cas corrects"
      ],
      "metadata": {
        "id": "zn3AalZeZiav"
      }
    },
    {
      "cell_type": "code",
      "source": [
        "i = 0\n",
        "while(True):\n",
        "  i += 1\n",
        "  liste = np.random.randint(0, 10, 100)\n",
        "\n",
        "  if (sorted(liste) == list(my_sort(liste))):\n",
        "    print(str(i) + \" exemples corrects\")\n",
        "    continue\n",
        "  print(\"probleme avec \" + str(liste))\n",
        "  break"
      ],
      "metadata": {
        "id": "5pE-bWsHTeFw"
      },
      "execution_count": null,
      "outputs": []
    },
    {
      "cell_type": "code",
      "source": [],
      "metadata": {
        "id": "rYEvVV49dnhA"
      },
      "execution_count": null,
      "outputs": []
    },
    {
      "cell_type": "markdown",
      "source": [
        "# Comparer l'efficacité algorithmique de sorted et my_sort"
      ],
      "metadata": {
        "id": "e7VHfL4cfQ0y"
      }
    },
    {
      "cell_type": "code",
      "source": [
        "from time import time\n",
        "temps = []\n",
        "longueurs = []\n",
        "for i in range(1, 250):\n",
        "  T = 0\n",
        "  for _ in range(5):\n",
        "    liste = np.random.randint(0, 10, i)\n",
        "    t1 = time()\n",
        "    my_sort(liste)\n",
        "    t2 = time()\n",
        "    T += t2 - t1\n",
        "  longueurs.append(i)\n",
        "  temps.append(T/5)"
      ],
      "metadata": {
        "id": "DP4Ise_BfX6Q"
      },
      "execution_count": null,
      "outputs": []
    },
    {
      "cell_type": "code",
      "source": [
        "import matplotlib.pyplot as plt\n",
        "fit = lambda t : 1e-7*t**2\n",
        "\n",
        "plt.plot(longueurs, temps)\n",
        "plt.plot(longueurs, fit(np.array(longueurs)  ) , c = 'r')"
      ],
      "metadata": {
        "colab": {
          "base_uri": "https://localhost:8080/",
          "height": 282
        },
        "id": "l_jZfqSRj6WH",
        "outputId": "3bb5f5af-3579-442b-d1a6-a874f1097c19"
      },
      "execution_count": null,
      "outputs": [
        {
          "output_type": "execute_result",
          "data": {
            "text/plain": [
              "[<matplotlib.lines.Line2D at 0x7f99bc72ef50>]"
            ]
          },
          "metadata": {},
          "execution_count": 30
        },
        {
          "output_type": "display_data",
          "data": {
            "image/png": "[encoded data removed]",
            "text/plain": [
              "<Figure size 432x288 with 1 Axes>"
            ]
          },
          "metadata": {
            "needs_background": "light"
          }
        }
      ]
    },
    {
      "cell_type": "code",
      "source": [
        "fit(10000)"
      ],
      "metadata": {
        "colab": {
          "base_uri": "https://localhost:8080/"
        },
        "id": "dI7IscUzkA8j",
        "outputId": "db584736-842f-46a3-b480-767fb29d66a8"
      },
      "execution_count": null,
      "outputs": [
        {
          "output_type": "execute_result",
          "data": {
            "text/plain": [
              "10.0"
            ]
          },
          "metadata": {},
          "execution_count": 31
        }
      ]
    },
    {
      "cell_type": "code",
      "source": [
        "liste = np.random.randint(0, 10, 10000)\n",
        "t1 = time()\n",
        "my_sort(liste)\n",
        "t2 = time()"
      ],
      "metadata": {
        "id": "u_5J1_s3m0MD"
      },
      "execution_count": null,
      "outputs": []
    },
    {
      "cell_type": "code",
      "source": [
        "t2 - t1"
      ],
      "metadata": {
        "colab": {
          "base_uri": "https://localhost:8080/"
        },
        "id": "I0CDF9iXnBfQ",
        "outputId": "c31c045d-9e7c-4692-80c3-6b1d951507cc"
      },
      "execution_count": null,
      "outputs": [
        {
          "output_type": "execute_result",
          "data": {
            "text/plain": [
              "10.021228790283203"
            ]
          },
          "metadata": {},
          "execution_count": 33
        }
      ]
    },
    {
      "cell_type": "code",
      "source": [
        "from time import time\n",
        "temps = []\n",
        "longueurs = []\n",
        "for i in range(1, 500):\n",
        "  T = 0\n",
        "  for _ in range(5):\n",
        "    liste = np.random.randint(0, 10, i)\n",
        "    t1 = time()\n",
        "    sorted(liste)\n",
        "    t2 = time()\n",
        "    T += t2 - t1\n",
        "  longueurs.append(i)\n",
        "  temps.append(T/5)"
      ],
      "metadata": {
        "id": "3B19KkEgnEyO"
      },
      "execution_count": null,
      "outputs": []
    },
    {
      "cell_type": "code",
      "source": [
        "import matplotlib.pyplot as plt\n",
        "fit = lambda t : 0.3e-6*t\n",
        "\n",
        "plt.plot(longueurs, temps)\n",
        "plt.plot(longueurs, fit(np.array(longueurs)  ) , c = 'r')"
      ],
      "metadata": {
        "colab": {
          "base_uri": "https://localhost:8080/",
          "height": 282
        },
        "id": "F5RbfMALsUtW",
        "outputId": "d4ed22d1-bc0d-4c8e-f99b-aae39227665a"
      },
      "execution_count": null,
      "outputs": [
        {
          "output_type": "execute_result",
          "data": {
            "text/plain": [
              "[<matplotlib.lines.Line2D at 0x7f99bc33a6d0>]"
            ]
          },
          "metadata": {},
          "execution_count": 44
        },
        {
          "output_type": "display_data",
          "data": {
            "image/png": "[encoded data removed]",
            "text/plain": [
              "<Figure size 432x288 with 1 Axes>"
            ]
          },
          "metadata": {
            "needs_background": "light"
          }
        }
      ]
    },
    {
      "cell_type": "code",
      "source": [
        "fit(10000)"
      ],
      "metadata": {
        "colab": {
          "base_uri": "https://localhost:8080/"
        },
        "id": "68GFVw5vsaM-",
        "outputId": "f8346495-b89e-4266-904a-fcbe29d25efc"
      },
      "execution_count": null,
      "outputs": [
        {
          "output_type": "execute_result",
          "data": {
            "text/plain": [
              "0.003"
            ]
          },
          "metadata": {},
          "execution_count": 45
        }
      ]
    },
    {
      "cell_type": "code",
      "source": [
        "liste = np.random.randint(0, 10, 10000)\n",
        "t1 = time()\n",
        "sorted(liste)\n",
        "t2 = time()"
      ],
      "metadata": {
        "id": "SSNg_JYms_Ye"
      },
      "execution_count": null,
      "outputs": []
    },
    {
      "cell_type": "code",
      "source": [
        "t2 - t1"
      ],
      "metadata": {
        "colab": {
          "base_uri": "https://localhost:8080/"
        },
        "id": "-8rtaS4UtHWR",
        "outputId": "b63c892c-8915-4a59-9564-1ae1e90389a5"
      },
      "execution_count": null,
      "outputs": [
        {
          "output_type": "execute_result",
          "data": {
            "text/plain": [
              "0.00509333610534668"
            ]
          },
          "metadata": {},
          "execution_count": 47
        }
      ]
    },
    {
      "cell_type": "code",
      "source": [
        "def commun(liste_1, liste_2):\n",
        "  somme = 0\n",
        "  for i in range(max(len(liste_1), len(liste_2))):\n",
        "    if i >= len(liste_1):\n",
        "      somme += liste_2[i]\n",
        "    elif i >= len(liste_2):\n",
        "      somme += liste_1[i]\n",
        "    else :\n",
        "      somme += liste_1[i] + liste_2[i]\n",
        "  return somme\n"
      ],
      "metadata": {
        "id": "HHFwMaZPtKD3"
      },
      "execution_count": null,
      "outputs": []
    },
    {
      "cell_type": "code",
      "source": [
        "commun([1, 4, 5], [3, 2, 6, 7, 4])"
      ],
      "metadata": {
        "colab": {
          "base_uri": "https://localhost:8080/"
        },
        "id": "UoIbKgF21QGY",
        "outputId": "54cde544-8019-4718-dd9e-fe8241c167d3"
      },
      "execution_count": null,
      "outputs": [
        {
          "output_type": "execute_result",
          "data": {
            "text/plain": [
              "32"
            ]
          },
          "metadata": {},
          "execution_count": 58
        }
      ]
    },
    {
      "cell_type": "code",
      "source": [
        "import numpy as np\n",
        "import time\n",
        "\n",
        "temps = []\n",
        "longueurs = []\n",
        "for i in range(100, 10001, 100):\n",
        "  X = np.random.randint(0,10, i)\n",
        "  Y = np.random.randint(0,10, i)\n",
        "  t1 = time.time()\n",
        "  commun(X, Y)\n",
        "  t2 = time.time()\n",
        "  longueurs.append(i)\n",
        "  temps.append(t2 - t1)"
      ],
      "metadata": {
        "id": "2Kwvjs9b1V8-"
      },
      "execution_count": null,
      "outputs": []
    },
    {
      "cell_type": "code",
      "source": [
        "from matplotlib import pyplot as plt\n",
        "f = lambda t : 0.78e-6*t\n",
        "\n",
        "plt.plot(longueurs, temps, label = \"Temps d'execution\", c = 'black')\n",
        "plt.plot(longueurs, f(np.array(longueurs)), label = \"Fit\", c= 'r')\n",
        "plt.legend()\n",
        "plt.xlabel(\"Longueurs des listes\")\n",
        "plt.ylabel(\"Temps (s.)\")\n",
        "plt.xticks([0, 2000, 4000, 6000, 8000, 10000], [0, \"2k\", \"4k\",\"6k\",\"8k\",\"10k\"])\n",
        "\n",
        "plt.show()"
      ],
      "metadata": {
        "colab": {
          "base_uri": "https://localhost:8080/",
          "height": 279
        },
        "id": "96Au9lHk4sK0",
        "outputId": "7333d1fa-4d6a-4a9e-d0b1-7cafa29cebcd"
      },
      "execution_count": null,
      "outputs": [
        {
          "output_type": "display_data",
          "data": {
            "image/png": "[encoded data removed]",
            "text/plain": [
              "<Figure size 432x288 with 1 Axes>"
            ]
          },
          "metadata": {
            "needs_background": "light"
          }
        }
      ]
    },
    {
      "cell_type": "code",
      "source": [],
      "metadata": {
        "id": "wDz6f00M43F3"
      },
      "execution_count": null,
      "outputs": []
    }
  ]
}