{
  "nbformat": 4,
  "nbformat_minor": 0,
  "metadata": {
    "colab": {
      "provenance": [],
      "include_colab_link": true
    },
    "kernelspec": {
      "name": "python3",
      "display_name": "Python 3"
    },
    "language_info": {
      "name": "python"
    }
  },
  "cells": [
    {
      "cell_type": "markdown",
      "metadata": {
        "id": "view-in-github",
        "colab_type": "text"
      },
      "source": [
        "<a href=\"https://colab.research.google.com/github/iSanoussi/Classes-and-tests/blob/main/Cr%C3%A9ation_indicateur_rse_transport.ipynb\" target=\"_parent\"><img src=\"https://colab.research.google.com/assets/colab-badge.svg\" alt=\"Open In Colab\"/></a>"
      ]
    },
    {
      "cell_type": "markdown",
      "metadata": {
        "id": "oklE7zWjEJtz"
      },
      "source": [
        "# Exemple : Création d'un indicateur RSE sur le transport"
      ]
    },
    {
      "cell_type": "markdown",
      "metadata": {
        "id": "Pa6uLwsBDyEj"
      },
      "source": [
        "## Import du dépôt Gitea 'Echantillons_db_siren'"
      ]
    },
    {
      "cell_type": "code",
      "metadata": {
        "colab": {
          "base_uri": "https://localhost:8080/"
        },
        "id": "z9JujqC55Uxp",
        "outputId": "0c4c9eef-6207-40e7-d9eb-eb1754922f6d"
      },
      "source": [
        "!git clone https://vcs.management-datascience.org/a.alfocea/db_siren_cours_mscdm.git"
      ],
      "execution_count": null,
      "outputs": [
        {
          "output_type": "stream",
          "name": "stdout",
          "text": [
            "Cloning into 'db_siren_cours_mscdm'...\n",
            "remote: Enumerating objects: 19, done.\u001b[K\n",
            "remote: Counting objects: 100% (19/19), done.\u001b[K\n",
            "remote: Compressing objects: 100% (17/17), done.\u001b[K\n",
            "remote: Total 19 (delta 3), reused 0 (delta 0)\n",
            "Unpacking objects: 100% (19/19), done.\n",
            "Checking out files: 100% (12/12), done.\n"
          ]
        }
      ]
    },
    {
      "cell_type": "code",
      "source": [
        "!git clone https://vcs.management-datascience.org/a.alfocea/Echantillons_db_siren.git"
      ],
      "metadata": {
        "colab": {
          "base_uri": "https://localhost:8080/"
        },
        "id": "bXUcJs0kfMfz",
        "outputId": "f28f9cb7-e213-4e58-c299-1ea2a9958df3"
      },
      "execution_count": null,
      "outputs": [
        {
          "output_type": "stream",
          "name": "stdout",
          "text": [
            "Cloning into 'Echantillons_db_siren'...\n",
            "fatal: could not read Username for 'https://vcs.management-datascience.org': No such device or address\n"
          ]
        }
      ]
    },
    {
      "cell_type": "markdown",
      "metadata": {
        "id": "m8jgqlO8D67Y"
      },
      "source": [
        "## Import des fichiers csv dans des dataframes pandas"
      ]
    },
    {
      "cell_type": "code",
      "metadata": {
        "id": "4AnYVlTd54MP",
        "colab": {
          "base_uri": "https://localhost:8080/"
        },
        "outputId": "3c0e047d-4336-4fcc-e1d2-7cf48fc6de08"
      },
      "source": [
        "import pandas as pd\n",
        "import numpy as np\n",
        "import matplotlib.pyplot as plt\n",
        "\n",
        "te_siren_adresse = pd.read_csv('/content/db_siren_cours_mscdm/db_siren_cours_mscdm_2/te_siren_adresse.csv', dtype = {'codePostalEtablissement' : 'object', 'codeCommuneEtablissement' : 'object', 'codeCedexEtablissement' : 'object' } )\n",
        "te_siren_admin = pd.read_csv('/content/db_siren_cours_mscdm/db_siren_cours_mscdm_2/te_siren_admin.csv')\n",
        "tr_code_effectif = pd.read_csv('/content/db_siren_cours_mscdm/db_siren_cours_mscdm_2/tr_code_effectif.csv')\n",
        "tr_naf = pd.read_csv('/content/db_siren_cours_mscdm/db_siren_cours_mscdm_2/tr_naf.csv')\n",
        "tr_nap = pd.read_csv('/content/db_siren_cours_mscdm/db_siren_cours_mscdm_2/tr_nap.csv', dtype = {'activitePrincipaleEtablissement' : 'object'})\n"
      ],
      "execution_count": null,
      "outputs": [
        {
          "output_type": "stream",
          "name": "stderr",
          "text": [
            "/usr/local/lib/python3.7/dist-packages/IPython/core/interactiveshell.py:3326: DtypeWarning: Columns (6,14,15) have mixed types.Specify dtype option on import or set low_memory=False.\n",
            "  exec(code_obj, self.user_global_ns, self.user_ns)\n"
          ]
        }
      ]
    },
    {
      "cell_type": "code",
      "source": [
        "len(te_siren_admin)"
      ],
      "metadata": {
        "colab": {
          "base_uri": "https://localhost:8080/"
        },
        "id": "LmyMfE593unt",
        "outputId": "cd305b6d-2833-4a4f-924b-e02847e55029"
      },
      "execution_count": null,
      "outputs": [
        {
          "output_type": "execute_result",
          "data": {
            "text/plain": [
              "1095681"
            ]
          },
          "metadata": {},
          "execution_count": 4
        }
      ]
    },
    {
      "cell_type": "code",
      "metadata": {
        "colab": {
          "base_uri": "https://localhost:8080/",
          "height": 234
        },
        "id": "yhtMH58d6DHm",
        "outputId": "2d111708-d4f0-4b43-c22d-b56a9ccee2f4"
      },
      "source": [
        "te_siren_adresse.head()"
      ],
      "execution_count": null,
      "outputs": [
        {
          "output_type": "execute_result",
          "data": {
            "text/html": [
              "\n",
              "  <div id=\"df-f02d52d3-ecb6-4d19-baf6-2172627e8e45\">\n",
              "    <div class=\"colab-df-container\">\n",
              "      <div>\n",
              "<style scoped>\n",
              "    .dataframe tbody tr th:only-of-type {\n",
              "        vertical-align: middle;\n",
              "    }\n",
              "\n",
              "    .dataframe tbody tr th {\n",
              "        vertical-align: top;\n",
              "    }\n",
              "\n",
              "    .dataframe thead th {\n",
              "        text-align: right;\n",
              "    }\n",
              "</style>\n",
              "<table border=\"1\" class=\"dataframe\">\n",
              "  <thead>\n",
              "    <tr style=\"text-align: right;\">\n",
              "      <th></th>\n",
              "      <th>siren</th>\n",
              "      <th>nic</th>\n",
              "      <th>siret</th>\n",
              "      <th>complementAdresseEtablissement</th>\n",
              "      <th>numeroVoieEtablissement</th>\n",
              "      <th>indiceRepetitionEtablissement</th>\n",
              "      <th>typeVoieEtablissement</th>\n",
              "      <th>libelleVoieEtablissement</th>\n",
              "      <th>codePostalEtablissement</th>\n",
              "      <th>libelleCommuneEtablissement</th>\n",
              "      <th>libelleCommuneEtrangerEtablissement</th>\n",
              "      <th>distributionSpecialeEtablissement</th>\n",
              "      <th>codeCommuneEtablissement</th>\n",
              "      <th>codeCedexEtablissement</th>\n",
              "      <th>libelleCedexEtablissement</th>\n",
              "      <th>codePaysEtrangerEtablissement</th>\n",
              "      <th>libellePaysEtrangerEtablissement</th>\n",
              "      <th>dateDernierTraitementEtablissement</th>\n",
              "    </tr>\n",
              "  </thead>\n",
              "  <tbody>\n",
              "    <tr>\n",
              "      <th>0</th>\n",
              "      <td>807626460</td>\n",
              "      <td>24</td>\n",
              "      <td>80762646000024</td>\n",
              "      <td>LA TOUCHE</td>\n",
              "      <td>NaN</td>\n",
              "      <td>NaN</td>\n",
              "      <td>RTE</td>\n",
              "      <td>DE LINERS</td>\n",
              "      <td>16200.0</td>\n",
              "      <td>BOURG-CHARENTE</td>\n",
              "      <td>NaN</td>\n",
              "      <td>NaN</td>\n",
              "      <td>16056</td>\n",
              "      <td>NaN</td>\n",
              "      <td>NaN</td>\n",
              "      <td>NaN</td>\n",
              "      <td>NaN</td>\n",
              "      <td>2020-08-25 11:15:49</td>\n",
              "    </tr>\n",
              "    <tr>\n",
              "      <th>1</th>\n",
              "      <td>807639737</td>\n",
              "      <td>12</td>\n",
              "      <td>80763973700012</td>\n",
              "      <td>NaN</td>\n",
              "      <td>4.0</td>\n",
              "      <td>B</td>\n",
              "      <td>NaN</td>\n",
              "      <td>GRANDE RUE</td>\n",
              "      <td>91600.0</td>\n",
              "      <td>SAVIGNY-SUR-ORGE</td>\n",
              "      <td>NaN</td>\n",
              "      <td>NaN</td>\n",
              "      <td>91589</td>\n",
              "      <td>NaN</td>\n",
              "      <td>NaN</td>\n",
              "      <td>NaN</td>\n",
              "      <td>NaN</td>\n",
              "      <td>2020-08-25 11:15:49</td>\n",
              "    </tr>\n",
              "    <tr>\n",
              "      <th>2</th>\n",
              "      <td>807651666</td>\n",
              "      <td>16</td>\n",
              "      <td>80765166600016</td>\n",
              "      <td>NaN</td>\n",
              "      <td>3.0</td>\n",
              "      <td>NaN</td>\n",
              "      <td>RUE</td>\n",
              "      <td>ANDRE HUYS</td>\n",
              "      <td>59100.0</td>\n",
              "      <td>ROUBAIX</td>\n",
              "      <td>NaN</td>\n",
              "      <td>NaN</td>\n",
              "      <td>59512</td>\n",
              "      <td>NaN</td>\n",
              "      <td>NaN</td>\n",
              "      <td>NaN</td>\n",
              "      <td>NaN</td>\n",
              "      <td>2020-08-25 11:15:50</td>\n",
              "    </tr>\n",
              "    <tr>\n",
              "      <th>3</th>\n",
              "      <td>807658679</td>\n",
              "      <td>20</td>\n",
              "      <td>80765867900020</td>\n",
              "      <td>HAMEAU DE SERRIERES</td>\n",
              "      <td>11.0</td>\n",
              "      <td>NaN</td>\n",
              "      <td>RUE</td>\n",
              "      <td>DU MOULIN</td>\n",
              "      <td>1230.0</td>\n",
              "      <td>SAINT-RAMBERT-EN-BUGEY</td>\n",
              "      <td>NaN</td>\n",
              "      <td>NaN</td>\n",
              "      <td>01384</td>\n",
              "      <td>NaN</td>\n",
              "      <td>NaN</td>\n",
              "      <td>NaN</td>\n",
              "      <td>NaN</td>\n",
              "      <td>2021-02-23 17:23:06</td>\n",
              "    </tr>\n",
              "    <tr>\n",
              "      <th>4</th>\n",
              "      <td>807663893</td>\n",
              "      <td>38</td>\n",
              "      <td>80766389300038</td>\n",
              "      <td>ZI BEL AIR</td>\n",
              "      <td>9.0</td>\n",
              "      <td>NaN</td>\n",
              "      <td>RUE</td>\n",
              "      <td>DE L'ETANG</td>\n",
              "      <td>97450.0</td>\n",
              "      <td>SAINT-LOUIS</td>\n",
              "      <td>NaN</td>\n",
              "      <td>NaN</td>\n",
              "      <td>97414</td>\n",
              "      <td>NaN</td>\n",
              "      <td>NaN</td>\n",
              "      <td>NaN</td>\n",
              "      <td>NaN</td>\n",
              "      <td>2021-02-23 17:23:07</td>\n",
              "    </tr>\n",
              "  </tbody>\n",
              "</table>\n",
              "</div>\n",
              "      <button class=\"colab-df-convert\" onclick=\"convertToInteractive('df-f02d52d3-ecb6-4d19-baf6-2172627e8e45')\"\n",
              "              title=\"Convert this dataframe to an interactive table.\"\n",
              "              style=\"display:none;\">\n",
              "        \n",
              "  <svg xmlns=\"http://www.w3.org/2000/svg\" height=\"24px\"viewBox=\"0 0 24 24\"\n",
              "       width=\"24px\">\n",
              "    <path d=\"M0 0h24v24H0V0z\" fill=\"none\"/>\n",
              "    <path d=\"M18.56 5.44l.94 2.06.94-2.06 2.06-.94-2.06-.94-.94-2.06-.94 2.06-2.06.94zm-11 1L8.5 8.5l.94-2.06 2.06-.94-2.06-.94L8.5 2.5l-.94 2.06-2.06.94zm10 10l.94 2.06.94-2.06 2.06-.94-2.06-.94-.94-2.06-.94 2.06-2.06.94z\"/><path d=\"M17.41 7.96l-1.37-1.37c-.4-.4-.92-.59-1.43-.59-.52 0-1.04.2-1.43.59L10.3 9.45l-7.72 7.72c-.78.78-.78 2.05 0 2.83L4 21.41c.39.39.9.59 1.41.59.51 0 1.02-.2 1.41-.59l7.78-7.78 2.81-2.81c.8-.78.8-2.07 0-2.86zM5.41 20L4 18.59l7.72-7.72 1.47 1.35L5.41 20z\"/>\n",
              "  </svg>\n",
              "      </button>\n",
              "      \n",
              "  <style>\n",
              "    .colab-df-container {\n",
              "      display:flex;\n",
              "      flex-wrap:wrap;\n",
              "      gap: 12px;\n",
              "    }\n",
              "\n",
              "    .colab-df-convert {\n",
              "      background-color: #E8F0FE;\n",
              "      border: none;\n",
              "      border-radius: 50%;\n",
              "      cursor: pointer;\n",
              "      display: none;\n",
              "      fill: #1967D2;\n",
              "      height: 32px;\n",
              "      padding: 0 0 0 0;\n",
              "      width: 32px;\n",
              "    }\n",
              "\n",
              "    .colab-df-convert:hover {\n",
              "      background-color: #E2EBFA;\n",
              "      box-shadow: 0px 1px 2px rgba(60, 64, 67, 0.3), 0px 1px 3px 1px rgba(60, 64, 67, 0.15);\n",
              "      fill: #174EA6;\n",
              "    }\n",
              "\n",
              "    [theme=dark] .colab-df-convert {\n",
              "      background-color: #3B4455;\n",
              "      fill: #D2E3FC;\n",
              "    }\n",
              "\n",
              "    [theme=dark] .colab-df-convert:hover {\n",
              "      background-color: #434B5C;\n",
              "      box-shadow: 0px 1px 3px 1px rgba(0, 0, 0, 0.15);\n",
              "      filter: drop-shadow(0px 1px 2px rgba(0, 0, 0, 0.3));\n",
              "      fill: #FFFFFF;\n",
              "    }\n",
              "  </style>\n",
              "\n",
              "      <script>\n",
              "        const buttonEl =\n",
              "          document.querySelector('#df-f02d52d3-ecb6-4d19-baf6-2172627e8e45 button.colab-df-convert');\n",
              "        buttonEl.style.display =\n",
              "          google.colab.kernel.accessAllowed ? 'block' : 'none';\n",
              "\n",
              "        async function convertToInteractive(key) {\n",
              "          const element = document.querySelector('#df-f02d52d3-ecb6-4d19-baf6-2172627e8e45');\n",
              "          const dataTable =\n",
              "            await google.colab.kernel.invokeFunction('convertToInteractive',\n",
              "                                                     [key], {});\n",
              "          if (!dataTable) return;\n",
              "\n",
              "          const docLinkHtml = 'Like what you see? Visit the ' +\n",
              "            '<a target=\"_blank\" href=https://colab.research.google.com/notebooks/data_table.ipynb>data table notebook</a>'\n",
              "            + ' to learn more about interactive tables.';\n",
              "          element.innerHTML = '';\n",
              "          dataTable['output_type'] = 'display_data';\n",
              "          await google.colab.output.renderOutput(dataTable, element);\n",
              "          const docLink = document.createElement('div');\n",
              "          docLink.innerHTML = docLinkHtml;\n",
              "          element.appendChild(docLink);\n",
              "        }\n",
              "      </script>\n",
              "    </div>\n",
              "  </div>\n",
              "  "
            ],
            "text/plain": [
              "       siren  ...  dateDernierTraitementEtablissement\n",
              "0  807626460  ...                 2020-08-25 11:15:49\n",
              "1  807639737  ...                 2020-08-25 11:15:49\n",
              "2  807651666  ...                 2020-08-25 11:15:50\n",
              "3  807658679  ...                 2021-02-23 17:23:06\n",
              "4  807663893  ...                 2021-02-23 17:23:07\n",
              "\n",
              "[5 rows x 18 columns]"
            ]
          },
          "metadata": {},
          "execution_count": 8
        }
      ]
    },
    {
      "cell_type": "code",
      "metadata": {
        "colab": {
          "base_uri": "https://localhost:8080/",
          "height": 443
        },
        "id": "rLgBKXfK6GCH",
        "outputId": "6fbecd19-79e7-4c37-baf5-90eb5f6f8883"
      },
      "source": [
        "te_siren_admin.head()"
      ],
      "execution_count": null,
      "outputs": [
        {
          "output_type": "execute_result",
          "data": {
            "text/html": [
              "\n",
              "  <div id=\"df-5b8680e4-db8d-40e8-baf2-858e16596638\">\n",
              "    <div class=\"colab-df-container\">\n",
              "      <div>\n",
              "<style scoped>\n",
              "    .dataframe tbody tr th:only-of-type {\n",
              "        vertical-align: middle;\n",
              "    }\n",
              "\n",
              "    .dataframe tbody tr th {\n",
              "        vertical-align: top;\n",
              "    }\n",
              "\n",
              "    .dataframe thead th {\n",
              "        text-align: right;\n",
              "    }\n",
              "</style>\n",
              "<table border=\"1\" class=\"dataframe\">\n",
              "  <thead>\n",
              "    <tr style=\"text-align: right;\">\n",
              "      <th></th>\n",
              "      <th>siren</th>\n",
              "      <th>nic</th>\n",
              "      <th>siret</th>\n",
              "      <th>dateCreationEtablissement</th>\n",
              "      <th>trancheEffectifsEtablissement</th>\n",
              "      <th>anneeEffectifsEtablissement</th>\n",
              "      <th>activitePrincipaleRegistreMetiersEtablissement</th>\n",
              "      <th>dateDernierTraitementEtablissement</th>\n",
              "      <th>etablissementSiege</th>\n",
              "      <th>nombrePeriodesEtablissement</th>\n",
              "      <th>dateDebut</th>\n",
              "      <th>etatAdministratifEtablissement</th>\n",
              "      <th>enseigne1Etablissement</th>\n",
              "      <th>enseigne2Etablissement</th>\n",
              "      <th>enseigne3Etablissement</th>\n",
              "      <th>denominationUsuelleEtablissement</th>\n",
              "      <th>activitePrincipaleEtablissement</th>\n",
              "      <th>nomenclatureActivitePrincipaleEtablissement</th>\n",
              "      <th>caractereEmployeurEtablissement</th>\n",
              "    </tr>\n",
              "  </thead>\n",
              "  <tbody>\n",
              "    <tr>\n",
              "      <th>0</th>\n",
              "      <td>5420120</td>\n",
              "      <td>15</td>\n",
              "      <td>542012000015</td>\n",
              "      <td>1989-01-27 00:00:00</td>\n",
              "      <td>2</td>\n",
              "      <td>2018.0</td>\n",
              "      <td>NaN</td>\n",
              "      <td>2020-08-25 10:10:13</td>\n",
              "      <td>False</td>\n",
              "      <td>4</td>\n",
              "      <td>2008-01-01 00:00:00</td>\n",
              "      <td>A</td>\n",
              "      <td>NaN</td>\n",
              "      <td>NaN</td>\n",
              "      <td>NaN</td>\n",
              "      <td>NaN</td>\n",
              "      <td>10.81Z</td>\n",
              "      <td>NAFRev2</td>\n",
              "      <td>O</td>\n",
              "    </tr>\n",
              "    <tr>\n",
              "      <th>1</th>\n",
              "      <td>5420120</td>\n",
              "      <td>31</td>\n",
              "      <td>542012000031</td>\n",
              "      <td>1900-01-01 00:00:00</td>\n",
              "      <td>3</td>\n",
              "      <td>2018.0</td>\n",
              "      <td>NaN</td>\n",
              "      <td>2021-01-01 03:35:01</td>\n",
              "      <td>True</td>\n",
              "      <td>6</td>\n",
              "      <td>2008-04-23 00:00:00</td>\n",
              "      <td>A</td>\n",
              "      <td>NaN</td>\n",
              "      <td>NaN</td>\n",
              "      <td>NaN</td>\n",
              "      <td>NaN</td>\n",
              "      <td>70.10Z</td>\n",
              "      <td>NAFRev2</td>\n",
              "      <td>O</td>\n",
              "    </tr>\n",
              "    <tr>\n",
              "      <th>2</th>\n",
              "      <td>5520176</td>\n",
              "      <td>16</td>\n",
              "      <td>552017600016</td>\n",
              "      <td>1955-01-01 00:00:00</td>\n",
              "      <td>12</td>\n",
              "      <td>2018.0</td>\n",
              "      <td>NaN</td>\n",
              "      <td>2021-08-01 21:30:57</td>\n",
              "      <td>True</td>\n",
              "      <td>4</td>\n",
              "      <td>2008-01-01 00:00:00</td>\n",
              "      <td>A</td>\n",
              "      <td>NaN</td>\n",
              "      <td>NaN</td>\n",
              "      <td>NaN</td>\n",
              "      <td>NaN</td>\n",
              "      <td>17.21A</td>\n",
              "      <td>NAFRev2</td>\n",
              "      <td>O</td>\n",
              "    </tr>\n",
              "    <tr>\n",
              "      <th>3</th>\n",
              "      <td>5520176</td>\n",
              "      <td>32</td>\n",
              "      <td>552017600032</td>\n",
              "      <td>1999-08-30 00:00:00</td>\n",
              "      <td>12</td>\n",
              "      <td>2018.0</td>\n",
              "      <td>NaN</td>\n",
              "      <td>2020-08-25 10:10:13</td>\n",
              "      <td>False</td>\n",
              "      <td>4</td>\n",
              "      <td>2008-01-01 00:00:00</td>\n",
              "      <td>A</td>\n",
              "      <td>NaN</td>\n",
              "      <td>NaN</td>\n",
              "      <td>NaN</td>\n",
              "      <td>NaN</td>\n",
              "      <td>17.21A</td>\n",
              "      <td>NAFRev2</td>\n",
              "      <td>O</td>\n",
              "    </tr>\n",
              "    <tr>\n",
              "      <th>4</th>\n",
              "      <td>5520242</td>\n",
              "      <td>16</td>\n",
              "      <td>552024200016</td>\n",
              "      <td>1900-01-01 00:00:00</td>\n",
              "      <td>12</td>\n",
              "      <td>2018.0</td>\n",
              "      <td>NaN</td>\n",
              "      <td>2021-08-01 21:30:57</td>\n",
              "      <td>True</td>\n",
              "      <td>4</td>\n",
              "      <td>2008-01-01 00:00:00</td>\n",
              "      <td>A</td>\n",
              "      <td>NaN</td>\n",
              "      <td>NaN</td>\n",
              "      <td>NaN</td>\n",
              "      <td>NaN</td>\n",
              "      <td>20.30Z</td>\n",
              "      <td>NAFRev2</td>\n",
              "      <td>O</td>\n",
              "    </tr>\n",
              "  </tbody>\n",
              "</table>\n",
              "</div>\n",
              "      <button class=\"colab-df-convert\" onclick=\"convertToInteractive('df-5b8680e4-db8d-40e8-baf2-858e16596638')\"\n",
              "              title=\"Convert this dataframe to an interactive table.\"\n",
              "              style=\"display:none;\">\n",
              "        \n",
              "  <svg xmlns=\"http://www.w3.org/2000/svg\" height=\"24px\"viewBox=\"0 0 24 24\"\n",
              "       width=\"24px\">\n",
              "    <path d=\"M0 0h24v24H0V0z\" fill=\"none\"/>\n",
              "    <path d=\"M18.56 5.44l.94 2.06.94-2.06 2.06-.94-2.06-.94-.94-2.06-.94 2.06-2.06.94zm-11 1L8.5 8.5l.94-2.06 2.06-.94-2.06-.94L8.5 2.5l-.94 2.06-2.06.94zm10 10l.94 2.06.94-2.06 2.06-.94-2.06-.94-.94-2.06-.94 2.06-2.06.94z\"/><path d=\"M17.41 7.96l-1.37-1.37c-.4-.4-.92-.59-1.43-.59-.52 0-1.04.2-1.43.59L10.3 9.45l-7.72 7.72c-.78.78-.78 2.05 0 2.83L4 21.41c.39.39.9.59 1.41.59.51 0 1.02-.2 1.41-.59l7.78-7.78 2.81-2.81c.8-.78.8-2.07 0-2.86zM5.41 20L4 18.59l7.72-7.72 1.47 1.35L5.41 20z\"/>\n",
              "  </svg>\n",
              "      </button>\n",
              "      \n",
              "  <style>\n",
              "    .colab-df-container {\n",
              "      display:flex;\n",
              "      flex-wrap:wrap;\n",
              "      gap: 12px;\n",
              "    }\n",
              "\n",
              "    .colab-df-convert {\n",
              "      background-color: #E8F0FE;\n",
              "      border: none;\n",
              "      border-radius: 50%;\n",
              "      cursor: pointer;\n",
              "      display: none;\n",
              "      fill: #1967D2;\n",
              "      height: 32px;\n",
              "      padding: 0 0 0 0;\n",
              "      width: 32px;\n",
              "    }\n",
              "\n",
              "    .colab-df-convert:hover {\n",
              "      background-color: #E2EBFA;\n",
              "      box-shadow: 0px 1px 2px rgba(60, 64, 67, 0.3), 0px 1px 3px 1px rgba(60, 64, 67, 0.15);\n",
              "      fill: #174EA6;\n",
              "    }\n",
              "\n",
              "    [theme=dark] .colab-df-convert {\n",
              "      background-color: #3B4455;\n",
              "      fill: #D2E3FC;\n",
              "    }\n",
              "\n",
              "    [theme=dark] .colab-df-convert:hover {\n",
              "      background-color: #434B5C;\n",
              "      box-shadow: 0px 1px 3px 1px rgba(0, 0, 0, 0.15);\n",
              "      filter: drop-shadow(0px 1px 2px rgba(0, 0, 0, 0.3));\n",
              "      fill: #FFFFFF;\n",
              "    }\n",
              "  </style>\n",
              "\n",
              "      <script>\n",
              "        const buttonEl =\n",
              "          document.querySelector('#df-5b8680e4-db8d-40e8-baf2-858e16596638 button.colab-df-convert');\n",
              "        buttonEl.style.display =\n",
              "          google.colab.kernel.accessAllowed ? 'block' : 'none';\n",
              "\n",
              "        async function convertToInteractive(key) {\n",
              "          const element = document.querySelector('#df-5b8680e4-db8d-40e8-baf2-858e16596638');\n",
              "          const dataTable =\n",
              "            await google.colab.kernel.invokeFunction('convertToInteractive',\n",
              "                                                     [key], {});\n",
              "          if (!dataTable) return;\n",
              "\n",
              "          const docLinkHtml = 'Like what you see? Visit the ' +\n",
              "            '<a target=\"_blank\" href=https://colab.research.google.com/notebooks/data_table.ipynb>data table notebook</a>'\n",
              "            + ' to learn more about interactive tables.';\n",
              "          element.innerHTML = '';\n",
              "          dataTable['output_type'] = 'display_data';\n",
              "          await google.colab.output.renderOutput(dataTable, element);\n",
              "          const docLink = document.createElement('div');\n",
              "          docLink.innerHTML = docLinkHtml;\n",
              "          element.appendChild(docLink);\n",
              "        }\n",
              "      </script>\n",
              "    </div>\n",
              "  </div>\n",
              "  "
            ],
            "text/plain": [
              "     siren  ...  caractereEmployeurEtablissement\n",
              "0  5420120  ...                                O\n",
              "1  5420120  ...                                O\n",
              "2  5520176  ...                                O\n",
              "3  5520176  ...                                O\n",
              "4  5520242  ...                                O\n",
              "\n",
              "[5 rows x 19 columns]"
            ]
          },
          "metadata": {},
          "execution_count": 9
        }
      ]
    },
    {
      "cell_type": "code",
      "source": [
        "te_siren_admin[te_siren_admin['nomenclatureActivitePrincipaleEtablissement'].isin([\"NAFRev2\",\"NAF1993\"]) == False]"
      ],
      "metadata": {
        "colab": {
          "base_uri": "https://localhost:8080/",
          "height": 113
        },
        "id": "huDlhCtXgOzt",
        "outputId": "b707e951-e49f-4331-9b7f-e2c2049d7c28"
      },
      "execution_count": null,
      "outputs": [
        {
          "output_type": "execute_result",
          "data": {
            "text/html": [
              "\n",
              "  <div id=\"df-1159b5ff-1c2d-4ba1-9c9f-4107d3b1dfe4\">\n",
              "    <div class=\"colab-df-container\">\n",
              "      <div>\n",
              "<style scoped>\n",
              "    .dataframe tbody tr th:only-of-type {\n",
              "        vertical-align: middle;\n",
              "    }\n",
              "\n",
              "    .dataframe tbody tr th {\n",
              "        vertical-align: top;\n",
              "    }\n",
              "\n",
              "    .dataframe thead th {\n",
              "        text-align: right;\n",
              "    }\n",
              "</style>\n",
              "<table border=\"1\" class=\"dataframe\">\n",
              "  <thead>\n",
              "    <tr style=\"text-align: right;\">\n",
              "      <th></th>\n",
              "      <th>siren</th>\n",
              "      <th>nic</th>\n",
              "      <th>siret</th>\n",
              "      <th>dateCreationEtablissement</th>\n",
              "      <th>trancheEffectifsEtablissement</th>\n",
              "      <th>anneeEffectifsEtablissement</th>\n",
              "      <th>activitePrincipaleRegistreMetiersEtablissement</th>\n",
              "      <th>dateDernierTraitementEtablissement</th>\n",
              "      <th>etablissementSiege</th>\n",
              "      <th>nombrePeriodesEtablissement</th>\n",
              "      <th>dateDebut</th>\n",
              "      <th>etatAdministratifEtablissement</th>\n",
              "      <th>enseigne1Etablissement</th>\n",
              "      <th>enseigne2Etablissement</th>\n",
              "      <th>enseigne3Etablissement</th>\n",
              "      <th>denominationUsuelleEtablissement</th>\n",
              "      <th>activitePrincipaleEtablissement</th>\n",
              "      <th>nomenclatureActivitePrincipaleEtablissement</th>\n",
              "      <th>caractereEmployeurEtablissement</th>\n",
              "    </tr>\n",
              "  </thead>\n",
              "  <tbody>\n",
              "  </tbody>\n",
              "</table>\n",
              "</div>\n",
              "      <button class=\"colab-df-convert\" onclick=\"convertToInteractive('df-1159b5ff-1c2d-4ba1-9c9f-4107d3b1dfe4')\"\n",
              "              title=\"Convert this dataframe to an interactive table.\"\n",
              "              style=\"display:none;\">\n",
              "        \n",
              "  <svg xmlns=\"http://www.w3.org/2000/svg\" height=\"24px\"viewBox=\"0 0 24 24\"\n",
              "       width=\"24px\">\n",
              "    <path d=\"M0 0h24v24H0V0z\" fill=\"none\"/>\n",
              "    <path d=\"M18.56 5.44l.94 2.06.94-2.06 2.06-.94-2.06-.94-.94-2.06-.94 2.06-2.06.94zm-11 1L8.5 8.5l.94-2.06 2.06-.94-2.06-.94L8.5 2.5l-.94 2.06-2.06.94zm10 10l.94 2.06.94-2.06 2.06-.94-2.06-.94-.94-2.06-.94 2.06-2.06.94z\"/><path d=\"M17.41 7.96l-1.37-1.37c-.4-.4-.92-.59-1.43-.59-.52 0-1.04.2-1.43.59L10.3 9.45l-7.72 7.72c-.78.78-.78 2.05 0 2.83L4 21.41c.39.39.9.59 1.41.59.51 0 1.02-.2 1.41-.59l7.78-7.78 2.81-2.81c.8-.78.8-2.07 0-2.86zM5.41 20L4 18.59l7.72-7.72 1.47 1.35L5.41 20z\"/>\n",
              "  </svg>\n",
              "      </button>\n",
              "      \n",
              "  <style>\n",
              "    .colab-df-container {\n",
              "      display:flex;\n",
              "      flex-wrap:wrap;\n",
              "      gap: 12px;\n",
              "    }\n",
              "\n",
              "    .colab-df-convert {\n",
              "      background-color: #E8F0FE;\n",
              "      border: none;\n",
              "      border-radius: 50%;\n",
              "      cursor: pointer;\n",
              "      display: none;\n",
              "      fill: #1967D2;\n",
              "      height: 32px;\n",
              "      padding: 0 0 0 0;\n",
              "      width: 32px;\n",
              "    }\n",
              "\n",
              "    .colab-df-convert:hover {\n",
              "      background-color: #E2EBFA;\n",
              "      box-shadow: 0px 1px 2px rgba(60, 64, 67, 0.3), 0px 1px 3px 1px rgba(60, 64, 67, 0.15);\n",
              "      fill: #174EA6;\n",
              "    }\n",
              "\n",
              "    [theme=dark] .colab-df-convert {\n",
              "      background-color: #3B4455;\n",
              "      fill: #D2E3FC;\n",
              "    }\n",
              "\n",
              "    [theme=dark] .colab-df-convert:hover {\n",
              "      background-color: #434B5C;\n",
              "      box-shadow: 0px 1px 3px 1px rgba(0, 0, 0, 0.15);\n",
              "      filter: drop-shadow(0px 1px 2px rgba(0, 0, 0, 0.3));\n",
              "      fill: #FFFFFF;\n",
              "    }\n",
              "  </style>\n",
              "\n",
              "      <script>\n",
              "        const buttonEl =\n",
              "          document.querySelector('#df-1159b5ff-1c2d-4ba1-9c9f-4107d3b1dfe4 button.colab-df-convert');\n",
              "        buttonEl.style.display =\n",
              "          google.colab.kernel.accessAllowed ? 'block' : 'none';\n",
              "\n",
              "        async function convertToInteractive(key) {\n",
              "          const element = document.querySelector('#df-1159b5ff-1c2d-4ba1-9c9f-4107d3b1dfe4');\n",
              "          const dataTable =\n",
              "            await google.colab.kernel.invokeFunction('convertToInteractive',\n",
              "                                                     [key], {});\n",
              "          if (!dataTable) return;\n",
              "\n",
              "          const docLinkHtml = 'Like what you see? Visit the ' +\n",
              "            '<a target=\"_blank\" href=https://colab.research.google.com/notebooks/data_table.ipynb>data table notebook</a>'\n",
              "            + ' to learn more about interactive tables.';\n",
              "          element.innerHTML = '';\n",
              "          dataTable['output_type'] = 'display_data';\n",
              "          await google.colab.output.renderOutput(dataTable, element);\n",
              "          const docLink = document.createElement('div');\n",
              "          docLink.innerHTML = docLinkHtml;\n",
              "          element.appendChild(docLink);\n",
              "        }\n",
              "      </script>\n",
              "    </div>\n",
              "  </div>\n",
              "  "
            ],
            "text/plain": [
              "Empty DataFrame\n",
              "Columns: [siren, nic, siret, dateCreationEtablissement, trancheEffectifsEtablissement, anneeEffectifsEtablissement, activitePrincipaleRegistreMetiersEtablissement, dateDernierTraitementEtablissement, etablissementSiege, nombrePeriodesEtablissement, dateDebut, etatAdministratifEtablissement, enseigne1Etablissement, enseigne2Etablissement, enseigne3Etablissement, denominationUsuelleEtablissement, activitePrincipaleEtablissement, nomenclatureActivitePrincipaleEtablissement, caractereEmployeurEtablissement]\n",
              "Index: []"
            ]
          },
          "metadata": {},
          "execution_count": 16
        }
      ]
    },
    {
      "cell_type": "code",
      "metadata": {
        "colab": {
          "base_uri": "https://localhost:8080/",
          "height": 206
        },
        "id": "RewSI_YS6cCt",
        "outputId": "1b4d70df-b410-41a6-e249-dee4b97487c4"
      },
      "source": [
        ".tr_code_effectif.head()"
      ],
      "execution_count": null,
      "outputs": [
        {
          "output_type": "execute_result",
          "data": {
            "text/html": [
              "<div>\n",
              "<style scoped>\n",
              "    .dataframe tbody tr th:only-of-type {\n",
              "        vertical-align: middle;\n",
              "    }\n",
              "\n",
              "    .dataframe tbody tr th {\n",
              "        vertical-align: top;\n",
              "    }\n",
              "\n",
              "    .dataframe thead th {\n",
              "        text-align: right;\n",
              "    }\n",
              "</style>\n",
              "<table border=\"1\" class=\"dataframe\">\n",
              "  <thead>\n",
              "    <tr style=\"text-align: right;\">\n",
              "      <th></th>\n",
              "      <th>trancheEffectifsEtablissement</th>\n",
              "      <th>effectif</th>\n",
              "    </tr>\n",
              "  </thead>\n",
              "  <tbody>\n",
              "    <tr>\n",
              "      <th>0</th>\n",
              "      <td>1</td>\n",
              "      <td>1 ou 2 salariés</td>\n",
              "    </tr>\n",
              "    <tr>\n",
              "      <th>1</th>\n",
              "      <td>2</td>\n",
              "      <td>3 à 5 salariés</td>\n",
              "    </tr>\n",
              "    <tr>\n",
              "      <th>2</th>\n",
              "      <td>3</td>\n",
              "      <td>6 à 9 salariés</td>\n",
              "    </tr>\n",
              "    <tr>\n",
              "      <th>3</th>\n",
              "      <td>11</td>\n",
              "      <td>10 à 19 salariés</td>\n",
              "    </tr>\n",
              "    <tr>\n",
              "      <th>4</th>\n",
              "      <td>12</td>\n",
              "      <td>20 à 49 salariés</td>\n",
              "    </tr>\n",
              "  </tbody>\n",
              "</table>\n",
              "</div>"
            ],
            "text/plain": [
              "   trancheEffectifsEtablissement          effectif\n",
              "0                              1   1 ou 2 salariés\n",
              "1                              2    3 à 5 salariés\n",
              "2                              3    6 à 9 salariés\n",
              "3                             11  10 à 19 salariés\n",
              "4                             12  20 à 49 salariés"
            ]
          },
          "metadata": {},
          "execution_count": 5
        }
      ]
    },
    {
      "cell_type": "code",
      "metadata": {
        "colab": {
          "base_uri": "https://localhost:8080/",
          "height": 206
        },
        "id": "3earS1CC6dqm",
        "outputId": "cfded59f-31a1-4782-a860-2addd26f7545"
      },
      "source": [
        "tr_naf.head()"
      ],
      "execution_count": null,
      "outputs": [
        {
          "output_type": "execute_result",
          "data": {
            "text/html": [
              "<div>\n",
              "<style scoped>\n",
              "    .dataframe tbody tr th:only-of-type {\n",
              "        vertical-align: middle;\n",
              "    }\n",
              "\n",
              "    .dataframe tbody tr th {\n",
              "        vertical-align: top;\n",
              "    }\n",
              "\n",
              "    .dataframe thead th {\n",
              "        text-align: right;\n",
              "    }\n",
              "</style>\n",
              "<table border=\"1\" class=\"dataframe\">\n",
              "  <thead>\n",
              "    <tr style=\"text-align: right;\">\n",
              "      <th></th>\n",
              "      <th>activitePrincipaleEtablissement</th>\n",
              "      <th>Libellé</th>\n",
              "    </tr>\n",
              "  </thead>\n",
              "  <tbody>\n",
              "    <tr>\n",
              "      <th>0</th>\n",
              "      <td>01.11Z</td>\n",
              "      <td>Culture de céréales (à l'exception du riz), de...</td>\n",
              "    </tr>\n",
              "    <tr>\n",
              "      <th>1</th>\n",
              "      <td>01.12Z</td>\n",
              "      <td>Culture du riz</td>\n",
              "    </tr>\n",
              "    <tr>\n",
              "      <th>2</th>\n",
              "      <td>01.13Z</td>\n",
              "      <td>Culture de légumes, de melons, de racines et d...</td>\n",
              "    </tr>\n",
              "    <tr>\n",
              "      <th>3</th>\n",
              "      <td>01.14Z</td>\n",
              "      <td>Culture de la canne à sucre</td>\n",
              "    </tr>\n",
              "    <tr>\n",
              "      <th>4</th>\n",
              "      <td>01.15Z</td>\n",
              "      <td>Culture du tabac</td>\n",
              "    </tr>\n",
              "  </tbody>\n",
              "</table>\n",
              "</div>"
            ],
            "text/plain": [
              "  activitePrincipaleEtablissement                                            Libellé\n",
              "0                          01.11Z  Culture de céréales (à l'exception du riz), de...\n",
              "1                          01.12Z                                     Culture du riz\n",
              "2                          01.13Z  Culture de légumes, de melons, de racines et d...\n",
              "3                          01.14Z                        Culture de la canne à sucre\n",
              "4                          01.15Z                                   Culture du tabac"
            ]
          },
          "metadata": {},
          "execution_count": 6
        }
      ]
    },
    {
      "cell_type": "code",
      "metadata": {
        "colab": {
          "base_uri": "https://localhost:8080/",
          "height": 206
        },
        "id": "wYOEsL0X6fU2",
        "outputId": "a1faefc7-6bf1-4d99-d271-2206c1ea44ff"
      },
      "source": [
        "tr_nap.head()"
      ],
      "execution_count": null,
      "outputs": [
        {
          "output_type": "execute_result",
          "data": {
            "text/html": [
              "<div>\n",
              "<style scoped>\n",
              "    .dataframe tbody tr th:only-of-type {\n",
              "        vertical-align: middle;\n",
              "    }\n",
              "\n",
              "    .dataframe tbody tr th {\n",
              "        vertical-align: top;\n",
              "    }\n",
              "\n",
              "    .dataframe thead th {\n",
              "        text-align: right;\n",
              "    }\n",
              "</style>\n",
              "<table border=\"1\" class=\"dataframe\">\n",
              "  <thead>\n",
              "    <tr style=\"text-align: right;\">\n",
              "      <th></th>\n",
              "      <th>activitePrincipaleEtablissement</th>\n",
              "      <th>LibelleClasse</th>\n",
              "      <th>LibelleGroupe</th>\n",
              "      <th>LibelleDivision</th>\n",
              "      <th>LibelleSection</th>\n",
              "    </tr>\n",
              "  </thead>\n",
              "  <tbody>\n",
              "    <tr>\n",
              "      <th>0</th>\n",
              "      <td>01.00</td>\n",
              "      <td>Cultures générales</td>\n",
              "      <td>Agriculture</td>\n",
              "      <td>Agriculture, sylviculture, pêche</td>\n",
              "      <td>Agriculture, sylviculture, pêche</td>\n",
              "    </tr>\n",
              "    <tr>\n",
              "      <th>1</th>\n",
              "      <td>01.07</td>\n",
              "      <td>Cultures générales associées à d'autres activi...</td>\n",
              "      <td>Agriculture</td>\n",
              "      <td>Agriculture, sylviculture, pêche</td>\n",
              "      <td>Agriculture, sylviculture, pêche</td>\n",
              "    </tr>\n",
              "    <tr>\n",
              "      <th>2</th>\n",
              "      <td>01.10</td>\n",
              "      <td>Production de légumes frais, de fleurs; pépini...</td>\n",
              "      <td>Agriculture</td>\n",
              "      <td>Agriculture, sylviculture, pêche</td>\n",
              "      <td>Agriculture, sylviculture, pêche</td>\n",
              "    </tr>\n",
              "    <tr>\n",
              "      <th>3</th>\n",
              "      <td>01.16</td>\n",
              "      <td>Cultures fruitières</td>\n",
              "      <td>Agriculture</td>\n",
              "      <td>Agriculture, sylviculture, pêche</td>\n",
              "      <td>Agriculture, sylviculture, pêche</td>\n",
              "    </tr>\n",
              "    <tr>\n",
              "      <th>4</th>\n",
              "      <td>01.17</td>\n",
              "      <td>Viticulture</td>\n",
              "      <td>Agriculture</td>\n",
              "      <td>Agriculture, sylviculture, pêche</td>\n",
              "      <td>Agriculture, sylviculture, pêche</td>\n",
              "    </tr>\n",
              "  </tbody>\n",
              "</table>\n",
              "</div>"
            ],
            "text/plain": [
              "  activitePrincipaleEtablissement  ...                    LibelleSection\n",
              "0                           01.00  ...  Agriculture, sylviculture, pêche\n",
              "1                           01.07  ...  Agriculture, sylviculture, pêche\n",
              "2                           01.10  ...  Agriculture, sylviculture, pêche\n",
              "3                           01.16  ...  Agriculture, sylviculture, pêche\n",
              "4                           01.17  ...  Agriculture, sylviculture, pêche\n",
              "\n",
              "[5 rows x 5 columns]"
            ]
          },
          "metadata": {},
          "execution_count": 7
        }
      ]
    },
    {
      "cell_type": "markdown",
      "metadata": {
        "id": "IpzS-0MIEWtl"
      },
      "source": [
        "## Création d'une liste de code NAF (depuis 2008) d'activités de transport"
      ]
    },
    {
      "cell_type": "code",
      "metadata": {
        "colab": {
          "base_uri": "https://localhost:8080/"
        },
        "id": "BkZRppzC8_cJ",
        "outputId": "00e16664-f73c-44be-db3d-5b81fb95f8d1"
      },
      "source": [
        "code_naf_transport = tr_naf[tr_naf['Libellé'].str.contains('Transports')]['activitePrincipaleEtablissement']\n",
        "\n",
        "code_naf_transport.head(10)"
      ],
      "execution_count": null,
      "outputs": [
        {
          "output_type": "execute_result",
          "data": {
            "text/plain": [
              "485    49.20Z\n",
              "486    49.31Z\n",
              "487    49.32Z\n",
              "488    49.39A\n",
              "491    49.41A\n",
              "492    49.41B\n",
              "495    49.50Z\n",
              "496    50.10Z\n",
              "497    50.20Z\n",
              "498    50.30Z\n",
              "Name: activitePrincipaleEtablissement, dtype: object"
            ]
          },
          "metadata": {},
          "execution_count": 8
        }
      ]
    },
    {
      "cell_type": "markdown",
      "metadata": {
        "id": "E9U_Yyl1EhrL"
      },
      "source": [
        "## Création d'une liste de code NAP (1973-1993) d'activités de transport"
      ]
    },
    {
      "cell_type": "code",
      "metadata": {
        "colab": {
          "base_uri": "https://localhost:8080/"
        },
        "id": "qV4_6tMs6hEl",
        "outputId": "16a08f25-08a4-4973-f41e-81d71797802d"
      },
      "source": [
        "code_nap_transport = tr_nap[tr_nap['LibelleDivision'].str.contains('Transports')]['activitePrincipaleEtablissement']\n",
        "\n",
        "code_nap_transport.head(10)"
      ],
      "execution_count": null,
      "outputs": [
        {
          "output_type": "execute_result",
          "data": {
            "text/plain": [
              "429    68.01\n",
              "430    69.11\n",
              "431    69.12\n",
              "432    69.21\n",
              "433    69.22\n",
              "434    69.23\n",
              "435    69.24\n",
              "436    69.25\n",
              "437    69.26\n",
              "438    70.01\n",
              "Name: activitePrincipaleEtablissement, dtype: object"
            ]
          },
          "metadata": {},
          "execution_count": 9
        }
      ]
    },
    {
      "cell_type": "markdown",
      "metadata": {
        "id": "kpGCXlkHDioM"
      },
      "source": [
        "# Création d'une table indicateur RSE transport"
      ]
    },
    {
      "cell_type": "markdown",
      "metadata": {
        "id": "3Qt70muQRpaR"
      },
      "source": [
        "## Création d'une table siret + activité"
      ]
    },
    {
      "cell_type": "code",
      "metadata": {
        "colab": {
          "base_uri": "https://localhost:8080/",
          "height": 363
        },
        "id": "xspUmHu56ioA",
        "outputId": "dd29d9f9-5a4d-43e9-cc4a-cbcbae6ef49e"
      },
      "source": [
        "te_siret_transport = te_siren_admin[['siret', 'activitePrincipaleEtablissement']]\n",
        "te_siret_transport.head(10)"
      ],
      "execution_count": null,
      "outputs": [
        {
          "output_type": "execute_result",
          "data": {
            "text/html": [
              "<div>\n",
              "<style scoped>\n",
              "    .dataframe tbody tr th:only-of-type {\n",
              "        vertical-align: middle;\n",
              "    }\n",
              "\n",
              "    .dataframe tbody tr th {\n",
              "        vertical-align: top;\n",
              "    }\n",
              "\n",
              "    .dataframe thead th {\n",
              "        text-align: right;\n",
              "    }\n",
              "</style>\n",
              "<table border=\"1\" class=\"dataframe\">\n",
              "  <thead>\n",
              "    <tr style=\"text-align: right;\">\n",
              "      <th></th>\n",
              "      <th>siret</th>\n",
              "      <th>activitePrincipaleEtablissement</th>\n",
              "    </tr>\n",
              "  </thead>\n",
              "  <tbody>\n",
              "    <tr>\n",
              "      <th>0</th>\n",
              "      <td>32517500016</td>\n",
              "      <td>32.12Z</td>\n",
              "    </tr>\n",
              "    <tr>\n",
              "      <th>1</th>\n",
              "      <td>32517500024</td>\n",
              "      <td>47.89Z</td>\n",
              "    </tr>\n",
              "    <tr>\n",
              "      <th>2</th>\n",
              "      <td>32517500032</td>\n",
              "      <td>32.12Z</td>\n",
              "    </tr>\n",
              "    <tr>\n",
              "      <th>3</th>\n",
              "      <td>32517500040</td>\n",
              "      <td>32.12Z</td>\n",
              "    </tr>\n",
              "    <tr>\n",
              "      <th>4</th>\n",
              "      <td>32517500057</td>\n",
              "      <td>32.12Z</td>\n",
              "    </tr>\n",
              "    <tr>\n",
              "      <th>5</th>\n",
              "      <td>32517500065</td>\n",
              "      <td>32.12Z</td>\n",
              "    </tr>\n",
              "    <tr>\n",
              "      <th>6</th>\n",
              "      <td>180725400014</td>\n",
              "      <td>95.24Z</td>\n",
              "    </tr>\n",
              "    <tr>\n",
              "      <th>7</th>\n",
              "      <td>180725400022</td>\n",
              "      <td>85.59A</td>\n",
              "    </tr>\n",
              "    <tr>\n",
              "      <th>8</th>\n",
              "      <td>541022000015</td>\n",
              "      <td>22.02</td>\n",
              "    </tr>\n",
              "    <tr>\n",
              "      <th>9</th>\n",
              "      <td>541034500010</td>\n",
              "      <td>79.06</td>\n",
              "    </tr>\n",
              "  </tbody>\n",
              "</table>\n",
              "</div>"
            ],
            "text/plain": [
              "          siret activitePrincipaleEtablissement\n",
              "0   32517500016                          32.12Z\n",
              "1   32517500024                          47.89Z\n",
              "2   32517500032                          32.12Z\n",
              "3   32517500040                          32.12Z\n",
              "4   32517500057                          32.12Z\n",
              "5   32517500065                          32.12Z\n",
              "6  180725400014                          95.24Z\n",
              "7  180725400022                          85.59A\n",
              "8  541022000015                           22.02\n",
              "9  541034500010                           79.06"
            ]
          },
          "metadata": {},
          "execution_count": 10
        }
      ]
    },
    {
      "cell_type": "markdown",
      "metadata": {
        "id": "xIZAOhtBRO_E"
      },
      "source": [
        "## Création d'une colonne indicateur_transport : 1 si l'entreprise a une activité de transport, 0 si non."
      ]
    },
    {
      "cell_type": "markdown",
      "metadata": {
        "id": "cew31SEZP5OS"
      },
      "source": [
        "## Méthode 1 : apply"
      ]
    },
    {
      "cell_type": "code",
      "metadata": {
        "colab": {
          "base_uri": "https://localhost:8080/"
        },
        "id": "cDc4R8W-EwtE",
        "outputId": "b6cdcd44-49c0-4eb6-e295-85f4da757b34"
      },
      "source": [
        "te_siret_transport['indicateur_transport'] = te_siret_transport['activitePrincipaleEtablissement'].apply(lambda a: 1 if (a in code_naf_transport.values) or (a in code_nap_transport.values) else 0)"
      ],
      "execution_count": null,
      "outputs": [
        {
          "output_type": "stream",
          "name": "stderr",
          "text": [
            "/usr/local/lib/python3.7/dist-packages/ipykernel_launcher.py:1: SettingWithCopyWarning: \n",
            "A value is trying to be set on a copy of a slice from a DataFrame.\n",
            "Try using .loc[row_indexer,col_indexer] = value instead\n",
            "\n",
            "See the caveats in the documentation: https://pandas.pydata.org/pandas-docs/stable/user_guide/indexing.html#returning-a-view-versus-a-copy\n",
            "  \"\"\"Entry point for launching an IPython kernel.\n"
          ]
        }
      ]
    },
    {
      "cell_type": "markdown",
      "metadata": {
        "id": "8jKlPSx6P_v7"
      },
      "source": [
        "## Méthode 2 : list"
      ]
    },
    {
      "cell_type": "code",
      "metadata": {
        "colab": {
          "base_uri": "https://localhost:8080/"
        },
        "id": "AS6p6M22HsWz",
        "outputId": "1fc22d09-7a8f-4758-c17c-511b535e4ae8"
      },
      "source": [
        "te_siret_transport['indicateur_transport'] = [1 if (a in code_naf_transport.values) or (a in code_nap_transport.values) else 0 for a in te_siret_transport['activitePrincipaleEtablissement']]\n"
      ],
      "execution_count": null,
      "outputs": [
        {
          "output_type": "stream",
          "name": "stderr",
          "text": [
            "/usr/local/lib/python3.7/dist-packages/ipykernel_launcher.py:1: SettingWithCopyWarning: \n",
            "A value is trying to be set on a copy of a slice from a DataFrame.\n",
            "Try using .loc[row_indexer,col_indexer] = value instead\n",
            "\n",
            "See the caveats in the documentation: https://pandas.pydata.org/pandas-docs/stable/user_guide/indexing.html#returning-a-view-versus-a-copy\n",
            "  \"\"\"Entry point for launching an IPython kernel.\n"
          ]
        }
      ]
    },
    {
      "cell_type": "code",
      "metadata": {
        "colab": {
          "base_uri": "https://localhost:8080/",
          "height": 423
        },
        "id": "ECuuKK2tHsZF",
        "outputId": "961b0d98-200d-46ee-9ad7-ce39bea3da93"
      },
      "source": [
        "te_siret_transport.query('indicateur_transport == 1')"
      ],
      "execution_count": null,
      "outputs": [
        {
          "output_type": "execute_result",
          "data": {
            "text/html": [
              "<div>\n",
              "<style scoped>\n",
              "    .dataframe tbody tr th:only-of-type {\n",
              "        vertical-align: middle;\n",
              "    }\n",
              "\n",
              "    .dataframe tbody tr th {\n",
              "        vertical-align: top;\n",
              "    }\n",
              "\n",
              "    .dataframe thead th {\n",
              "        text-align: right;\n",
              "    }\n",
              "</style>\n",
              "<table border=\"1\" class=\"dataframe\">\n",
              "  <thead>\n",
              "    <tr style=\"text-align: right;\">\n",
              "      <th></th>\n",
              "      <th>siret</th>\n",
              "      <th>activitePrincipaleEtablissement</th>\n",
              "      <th>indicateur_transport</th>\n",
              "    </tr>\n",
              "  </thead>\n",
              "  <tbody>\n",
              "    <tr>\n",
              "      <th>88</th>\n",
              "      <td>544084700019</td>\n",
              "      <td>69.22</td>\n",
              "      <td>1</td>\n",
              "    </tr>\n",
              "    <tr>\n",
              "      <th>100</th>\n",
              "      <td>544124100014</td>\n",
              "      <td>69.11</td>\n",
              "      <td>1</td>\n",
              "    </tr>\n",
              "    <tr>\n",
              "      <th>106</th>\n",
              "      <td>544139900010</td>\n",
              "      <td>69.12</td>\n",
              "      <td>1</td>\n",
              "    </tr>\n",
              "    <tr>\n",
              "      <th>128</th>\n",
              "      <td>547019000017</td>\n",
              "      <td>69.12</td>\n",
              "      <td>1</td>\n",
              "    </tr>\n",
              "    <tr>\n",
              "      <th>181</th>\n",
              "      <td>547420000010</td>\n",
              "      <td>69.12</td>\n",
              "      <td>1</td>\n",
              "    </tr>\n",
              "    <tr>\n",
              "      <th>...</th>\n",
              "      <td>...</td>\n",
              "      <td>...</td>\n",
              "      <td>...</td>\n",
              "    </tr>\n",
              "    <tr>\n",
              "      <th>4646</th>\n",
              "      <td>657345500018</td>\n",
              "      <td>69.23</td>\n",
              "      <td>1</td>\n",
              "    </tr>\n",
              "    <tr>\n",
              "      <th>4691</th>\n",
              "      <td>658003900011</td>\n",
              "      <td>74.03</td>\n",
              "      <td>1</td>\n",
              "    </tr>\n",
              "    <tr>\n",
              "      <th>4869</th>\n",
              "      <td>664191400012</td>\n",
              "      <td>69.11</td>\n",
              "      <td>1</td>\n",
              "    </tr>\n",
              "    <tr>\n",
              "      <th>4900</th>\n",
              "      <td>667011100019</td>\n",
              "      <td>69.23</td>\n",
              "      <td>1</td>\n",
              "    </tr>\n",
              "    <tr>\n",
              "      <th>4995</th>\n",
              "      <td>667289300028</td>\n",
              "      <td>69.12</td>\n",
              "      <td>1</td>\n",
              "    </tr>\n",
              "  </tbody>\n",
              "</table>\n",
              "<p>83 rows × 3 columns</p>\n",
              "</div>"
            ],
            "text/plain": [
              "             siret activitePrincipaleEtablissement  indicateur_transport\n",
              "88    544084700019                           69.22                     1\n",
              "100   544124100014                           69.11                     1\n",
              "106   544139900010                           69.12                     1\n",
              "128   547019000017                           69.12                     1\n",
              "181   547420000010                           69.12                     1\n",
              "...            ...                             ...                   ...\n",
              "4646  657345500018                           69.23                     1\n",
              "4691  658003900011                           74.03                     1\n",
              "4869  664191400012                           69.11                     1\n",
              "4900  667011100019                           69.23                     1\n",
              "4995  667289300028                           69.12                     1\n",
              "\n",
              "[83 rows x 3 columns]"
            ]
          },
          "metadata": {},
          "execution_count": 13
        }
      ]
    },
    {
      "cell_type": "markdown",
      "metadata": {
        "id": "uCARUBUmSHHy"
      },
      "source": [
        "## Nouvelle table avec un indicateur RSE sur l'activité de transport"
      ]
    },
    {
      "cell_type": "code",
      "metadata": {
        "colab": {
          "base_uri": "https://localhost:8080/",
          "height": 423
        },
        "id": "w0o72JpWPH8q",
        "outputId": "d6706355-48b1-40cc-d776-8fd6fcfc1734"
      },
      "source": [
        "te_siret_transport"
      ],
      "execution_count": null,
      "outputs": [
        {
          "output_type": "execute_result",
          "data": {
            "text/html": [
              "<div>\n",
              "<style scoped>\n",
              "    .dataframe tbody tr th:only-of-type {\n",
              "        vertical-align: middle;\n",
              "    }\n",
              "\n",
              "    .dataframe tbody tr th {\n",
              "        vertical-align: top;\n",
              "    }\n",
              "\n",
              "    .dataframe thead th {\n",
              "        text-align: right;\n",
              "    }\n",
              "</style>\n",
              "<table border=\"1\" class=\"dataframe\">\n",
              "  <thead>\n",
              "    <tr style=\"text-align: right;\">\n",
              "      <th></th>\n",
              "      <th>siret</th>\n",
              "      <th>activitePrincipaleEtablissement</th>\n",
              "      <th>indicateur_transport</th>\n",
              "    </tr>\n",
              "  </thead>\n",
              "  <tbody>\n",
              "    <tr>\n",
              "      <th>0</th>\n",
              "      <td>32517500016</td>\n",
              "      <td>32.12Z</td>\n",
              "      <td>0</td>\n",
              "    </tr>\n",
              "    <tr>\n",
              "      <th>1</th>\n",
              "      <td>32517500024</td>\n",
              "      <td>47.89Z</td>\n",
              "      <td>0</td>\n",
              "    </tr>\n",
              "    <tr>\n",
              "      <th>2</th>\n",
              "      <td>32517500032</td>\n",
              "      <td>32.12Z</td>\n",
              "      <td>0</td>\n",
              "    </tr>\n",
              "    <tr>\n",
              "      <th>3</th>\n",
              "      <td>32517500040</td>\n",
              "      <td>32.12Z</td>\n",
              "      <td>0</td>\n",
              "    </tr>\n",
              "    <tr>\n",
              "      <th>4</th>\n",
              "      <td>32517500057</td>\n",
              "      <td>32.12Z</td>\n",
              "      <td>0</td>\n",
              "    </tr>\n",
              "    <tr>\n",
              "      <th>...</th>\n",
              "      <td>...</td>\n",
              "      <td>...</td>\n",
              "      <td>...</td>\n",
              "    </tr>\n",
              "    <tr>\n",
              "      <th>4995</th>\n",
              "      <td>667289300028</td>\n",
              "      <td>69.12</td>\n",
              "      <td>1</td>\n",
              "    </tr>\n",
              "    <tr>\n",
              "      <th>4996</th>\n",
              "      <td>667296800036</td>\n",
              "      <td>49.05</td>\n",
              "      <td>0</td>\n",
              "    </tr>\n",
              "    <tr>\n",
              "      <th>4997</th>\n",
              "      <td>667301600017</td>\n",
              "      <td>70.2C</td>\n",
              "      <td>0</td>\n",
              "    </tr>\n",
              "    <tr>\n",
              "      <th>4998</th>\n",
              "      <td>667307300018</td>\n",
              "      <td>38.40</td>\n",
              "      <td>0</td>\n",
              "    </tr>\n",
              "    <tr>\n",
              "      <th>4999</th>\n",
              "      <td>667309900013</td>\n",
              "      <td>52.2C</td>\n",
              "      <td>0</td>\n",
              "    </tr>\n",
              "  </tbody>\n",
              "</table>\n",
              "<p>5000 rows × 3 columns</p>\n",
              "</div>"
            ],
            "text/plain": [
              "             siret activitePrincipaleEtablissement  indicateur_transport\n",
              "0      32517500016                          32.12Z                     0\n",
              "1      32517500024                          47.89Z                     0\n",
              "2      32517500032                          32.12Z                     0\n",
              "3      32517500040                          32.12Z                     0\n",
              "4      32517500057                          32.12Z                     0\n",
              "...            ...                             ...                   ...\n",
              "4995  667289300028                           69.12                     1\n",
              "4996  667296800036                           49.05                     0\n",
              "4997  667301600017                           70.2C                     0\n",
              "4998  667307300018                           38.40                     0\n",
              "4999  667309900013                           52.2C                     0\n",
              "\n",
              "[5000 rows x 3 columns]"
            ]
          },
          "metadata": {},
          "execution_count": 14
        }
      ]
    },
    {
      "cell_type": "markdown",
      "metadata": {
        "id": "SkbpxO8gWRfk"
      },
      "source": [
        "Nous avons créé une nouvelle table sur les entreprises ayant une activité principale de transport. Cette table peut être ajoutée dans notre base de données relationnelle avec le numéro SIRET comme clé d'identification.\n",
        "Notre nouvelle table 'te_siret_transport' comporte 3 colonnes : le numéro SIRET de l'entreprise, l'activité principale, ainsi qu'un indicateur binaire sur l'activité de transport."
      ]
    },
    {
      "cell_type": "markdown",
      "metadata": {
        "id": "wW5sK-YdIhcE"
      },
      "source": [
        "## Exporter la table"
      ]
    },
    {
      "cell_type": "code",
      "metadata": {
        "id": "-k36On_iSGQQ"
      },
      "source": [
        "te_siret_transport.to_csv('/content/exemple_te_siret_transport.csv', index = False, header = True)"
      ],
      "execution_count": null,
      "outputs": []
    },
    {
      "cell_type": "markdown",
      "metadata": {
        "id": "pB6D7WDLuYNY"
      },
      "source": [
        "## Exploration de données"
      ]
    },
    {
      "cell_type": "markdown",
      "metadata": {
        "id": "80IsjysRue0E"
      },
      "source": [
        "### Nombre d'entreprise par activité de transport"
      ]
    },
    {
      "cell_type": "code",
      "metadata": {
        "colab": {
          "base_uri": "https://localhost:8080/",
          "height": 551
        },
        "id": "l4CELG-htuVT",
        "outputId": "5a70221b-624a-4928-e525-5e1e8503477f"
      },
      "source": [
        "nb_siret_par_act_transport = te_siret_transport.query('indicateur_transport == 1')[['activitePrincipaleEtablissement','indicateur_transport']].groupby('activitePrincipaleEtablissement').count()\n",
        "nb_siret_par_act_transport"
      ],
      "execution_count": null,
      "outputs": [
        {
          "output_type": "execute_result",
          "data": {
            "text/html": [
              "<div>\n",
              "<style scoped>\n",
              "    .dataframe tbody tr th:only-of-type {\n",
              "        vertical-align: middle;\n",
              "    }\n",
              "\n",
              "    .dataframe tbody tr th {\n",
              "        vertical-align: top;\n",
              "    }\n",
              "\n",
              "    .dataframe thead th {\n",
              "        text-align: right;\n",
              "    }\n",
              "</style>\n",
              "<table border=\"1\" class=\"dataframe\">\n",
              "  <thead>\n",
              "    <tr style=\"text-align: right;\">\n",
              "      <th></th>\n",
              "      <th>indicateur_transport</th>\n",
              "    </tr>\n",
              "    <tr>\n",
              "      <th>activitePrincipaleEtablissement</th>\n",
              "      <th></th>\n",
              "    </tr>\n",
              "  </thead>\n",
              "  <tbody>\n",
              "    <tr>\n",
              "      <th>49.32Z</th>\n",
              "      <td>2</td>\n",
              "    </tr>\n",
              "    <tr>\n",
              "      <th>49.39A</th>\n",
              "      <td>7</td>\n",
              "    </tr>\n",
              "    <tr>\n",
              "      <th>49.41A</th>\n",
              "      <td>4</td>\n",
              "    </tr>\n",
              "    <tr>\n",
              "      <th>49.41B</th>\n",
              "      <td>3</td>\n",
              "    </tr>\n",
              "    <tr>\n",
              "      <th>69.11</th>\n",
              "      <td>17</td>\n",
              "    </tr>\n",
              "    <tr>\n",
              "      <th>69.12</th>\n",
              "      <td>16</td>\n",
              "    </tr>\n",
              "    <tr>\n",
              "      <th>69.22</th>\n",
              "      <td>5</td>\n",
              "    </tr>\n",
              "    <tr>\n",
              "      <th>69.23</th>\n",
              "      <td>18</td>\n",
              "    </tr>\n",
              "    <tr>\n",
              "      <th>69.25</th>\n",
              "      <td>2</td>\n",
              "    </tr>\n",
              "    <tr>\n",
              "      <th>70.02</th>\n",
              "      <td>1</td>\n",
              "    </tr>\n",
              "    <tr>\n",
              "      <th>71.03</th>\n",
              "      <td>1</td>\n",
              "    </tr>\n",
              "    <tr>\n",
              "      <th>73.08</th>\n",
              "      <td>1</td>\n",
              "    </tr>\n",
              "    <tr>\n",
              "      <th>74.03</th>\n",
              "      <td>3</td>\n",
              "    </tr>\n",
              "    <tr>\n",
              "      <th>74.09</th>\n",
              "      <td>1</td>\n",
              "    </tr>\n",
              "    <tr>\n",
              "      <th>74.10</th>\n",
              "      <td>2</td>\n",
              "    </tr>\n",
              "  </tbody>\n",
              "</table>\n",
              "</div>"
            ],
            "text/plain": [
              "                                 indicateur_transport\n",
              "activitePrincipaleEtablissement                      \n",
              "49.32Z                                              2\n",
              "49.39A                                              7\n",
              "49.41A                                              4\n",
              "49.41B                                              3\n",
              "69.11                                              17\n",
              "69.12                                              16\n",
              "69.22                                               5\n",
              "69.23                                              18\n",
              "69.25                                               2\n",
              "70.02                                               1\n",
              "71.03                                               1\n",
              "73.08                                               1\n",
              "74.03                                               3\n",
              "74.09                                               1\n",
              "74.10                                               2"
            ]
          },
          "metadata": {},
          "execution_count": 16
        }
      ]
    },
    {
      "cell_type": "code",
      "metadata": {
        "colab": {
          "base_uri": "https://localhost:8080/",
          "height": 608
        },
        "id": "WBLZ6R_jtuX3",
        "outputId": "b9d99d23-4a72-4535-b438-68f7c8cdadf0"
      },
      "source": [
        "nb_siret_par_act_transport.plot.bar(figsize=(13,9), rot = 45, ylabel= 'nb_siret', fontsize = 15)\n",
        "plt.title(\"Nombre de siret par activité de transport\", fontsize=15)\n",
        "plt.show()"
      ],
      "execution_count": null,
      "outputs": [
        {
          "output_type": "display_data",
          "data": {
            "image/png": "[encoded data removed]",
            "text/plain": [
              "<Figure size 936x648 with 1 Axes>"
            ]
          },
          "metadata": {
            "needs_background": "light"
          }
        }
      ]
    },
    {
      "cell_type": "markdown",
      "metadata": {
        "id": "Vj9veco4L2J2"
      },
      "source": [
        "### Jointure de la commune et son code postal"
      ]
    },
    {
      "cell_type": "code",
      "metadata": {
        "id": "qmgYTE8URN_R"
      },
      "source": [
        "te_siren_adresse['codePostalEtablissement'] = te_siren_adresse['codePostalEtablissement'].apply(lambda x: ''.join('0'+str(x)) if len(str(x)) == 6 else x)\n",
        "te_siren_adresse['codeCommuneEtablissement'] = te_siren_adresse['codeCommuneEtablissement'].apply(lambda x: ''.join('0'+str(x)) if len(str(x)) == 6 else x)\n",
        "te_siren_adresse['codeCedexEtablissement'] = te_siren_adresse['codeCedexEtablissement'].apply(lambda x: ''.join('0'+str(x)) if len(str(x)) == 6 else x)"
      ],
      "execution_count": null,
      "outputs": []
    },
    {
      "cell_type": "code",
      "metadata": {
        "colab": {
          "base_uri": "https://localhost:8080/",
          "height": 423
        },
        "id": "gsm5dLEatuZ5",
        "outputId": "60edde92-7b60-4291-e985-292509b8507d"
      },
      "source": [
        "te_siret_transport_codepostal = te_siret_transport.query('indicateur_transport == 1').merge(te_siren_adresse[['siret', 'libelleCommuneEtablissement', 'codePostalEtablissement']], how='left', on ='siret')\n",
        "te_siret_transport_codepostal"
      ],
      "execution_count": null,
      "outputs": [
        {
          "output_type": "execute_result",
          "data": {
            "text/html": [
              "<div>\n",
              "<style scoped>\n",
              "    .dataframe tbody tr th:only-of-type {\n",
              "        vertical-align: middle;\n",
              "    }\n",
              "\n",
              "    .dataframe tbody tr th {\n",
              "        vertical-align: top;\n",
              "    }\n",
              "\n",
              "    .dataframe thead th {\n",
              "        text-align: right;\n",
              "    }\n",
              "</style>\n",
              "<table border=\"1\" class=\"dataframe\">\n",
              "  <thead>\n",
              "    <tr style=\"text-align: right;\">\n",
              "      <th></th>\n",
              "      <th>siret</th>\n",
              "      <th>activitePrincipaleEtablissement</th>\n",
              "      <th>indicateur_transport</th>\n",
              "      <th>libelleCommuneEtablissement</th>\n",
              "      <th>codePostalEtablissement</th>\n",
              "    </tr>\n",
              "  </thead>\n",
              "  <tbody>\n",
              "    <tr>\n",
              "      <th>0</th>\n",
              "      <td>544084700019</td>\n",
              "      <td>69.22</td>\n",
              "      <td>1</td>\n",
              "      <td>VERDACHES</td>\n",
              "      <td>04140.0</td>\n",
              "    </tr>\n",
              "    <tr>\n",
              "      <th>1</th>\n",
              "      <td>544124100014</td>\n",
              "      <td>69.11</td>\n",
              "      <td>1</td>\n",
              "      <td>SISTERON</td>\n",
              "      <td>04200.0</td>\n",
              "    </tr>\n",
              "    <tr>\n",
              "      <th>2</th>\n",
              "      <td>544139900010</td>\n",
              "      <td>69.12</td>\n",
              "      <td>1</td>\n",
              "      <td>LA MURE-ARGENS</td>\n",
              "      <td>04170.0</td>\n",
              "    </tr>\n",
              "    <tr>\n",
              "      <th>3</th>\n",
              "      <td>547019000017</td>\n",
              "      <td>69.12</td>\n",
              "      <td>1</td>\n",
              "      <td>LE CROISIC</td>\n",
              "      <td>44490.0</td>\n",
              "    </tr>\n",
              "    <tr>\n",
              "      <th>4</th>\n",
              "      <td>547420000010</td>\n",
              "      <td>69.12</td>\n",
              "      <td>1</td>\n",
              "      <td>HERBIGNAC</td>\n",
              "      <td>44410.0</td>\n",
              "    </tr>\n",
              "    <tr>\n",
              "      <th>...</th>\n",
              "      <td>...</td>\n",
              "      <td>...</td>\n",
              "      <td>...</td>\n",
              "      <td>...</td>\n",
              "      <td>...</td>\n",
              "    </tr>\n",
              "    <tr>\n",
              "      <th>78</th>\n",
              "      <td>657345500018</td>\n",
              "      <td>69.23</td>\n",
              "      <td>1</td>\n",
              "      <td>LA BAULE-ESCOUBLAC</td>\n",
              "      <td>44500.0</td>\n",
              "    </tr>\n",
              "    <tr>\n",
              "      <th>79</th>\n",
              "      <td>658003900011</td>\n",
              "      <td>74.03</td>\n",
              "      <td>1</td>\n",
              "      <td>SAINT-NAZAIRE</td>\n",
              "      <td>44600.0</td>\n",
              "    </tr>\n",
              "    <tr>\n",
              "      <th>80</th>\n",
              "      <td>664191400012</td>\n",
              "      <td>69.11</td>\n",
              "      <td>1</td>\n",
              "      <td>GREOUX-LES-BAINS</td>\n",
              "      <td>04800.0</td>\n",
              "    </tr>\n",
              "    <tr>\n",
              "      <th>81</th>\n",
              "      <td>667011100019</td>\n",
              "      <td>69.23</td>\n",
              "      <td>1</td>\n",
              "      <td>SAINT-NAZAIRE</td>\n",
              "      <td>44600.0</td>\n",
              "    </tr>\n",
              "    <tr>\n",
              "      <th>82</th>\n",
              "      <td>667289300028</td>\n",
              "      <td>69.12</td>\n",
              "      <td>1</td>\n",
              "      <td>CORDEMAIS</td>\n",
              "      <td>44360.0</td>\n",
              "    </tr>\n",
              "  </tbody>\n",
              "</table>\n",
              "<p>83 rows × 5 columns</p>\n",
              "</div>"
            ],
            "text/plain": [
              "           siret  ... codePostalEtablissement\n",
              "0   544084700019  ...                 04140.0\n",
              "1   544124100014  ...                 04200.0\n",
              "2   544139900010  ...                 04170.0\n",
              "3   547019000017  ...                 44490.0\n",
              "4   547420000010  ...                 44410.0\n",
              "..           ...  ...                     ...\n",
              "78  657345500018  ...                 44500.0\n",
              "79  658003900011  ...                 44600.0\n",
              "80  664191400012  ...                 04800.0\n",
              "81  667011100019  ...                 44600.0\n",
              "82  667289300028  ...                 44360.0\n",
              "\n",
              "[83 rows x 5 columns]"
            ]
          },
          "metadata": {},
          "execution_count": 19
        }
      ]
    },
    {
      "cell_type": "markdown",
      "metadata": {
        "id": "Y0giu3QWTy9_"
      },
      "source": [
        "### Top 10 des communes où les entreprises de transport ont un établissement"
      ]
    },
    {
      "cell_type": "code",
      "metadata": {
        "colab": {
          "base_uri": "https://localhost:8080/",
          "height": 394
        },
        "id": "G4NllT8cO-ix",
        "outputId": "b92eca43-0b0c-4456-f38e-4211ccd17c8e"
      },
      "source": [
        "nb_siret_par_codepostal = te_siret_transport_codepostal[['siret','codePostalEtablissement']].groupby('codePostalEtablissement').count()\n",
        "top_10_nb_siret_par_codepostal = nb_siret_par_codepostal.sort_values(by='siret', ascending = False).head(10)\n",
        "top_10_nb_siret_par_codepostal"
      ],
      "execution_count": null,
      "outputs": [
        {
          "output_type": "execute_result",
          "data": {
            "text/html": [
              "<div>\n",
              "<style scoped>\n",
              "    .dataframe tbody tr th:only-of-type {\n",
              "        vertical-align: middle;\n",
              "    }\n",
              "\n",
              "    .dataframe tbody tr th {\n",
              "        vertical-align: top;\n",
              "    }\n",
              "\n",
              "    .dataframe thead th {\n",
              "        text-align: right;\n",
              "    }\n",
              "</style>\n",
              "<table border=\"1\" class=\"dataframe\">\n",
              "  <thead>\n",
              "    <tr style=\"text-align: right;\">\n",
              "      <th></th>\n",
              "      <th>siret</th>\n",
              "    </tr>\n",
              "    <tr>\n",
              "      <th>codePostalEtablissement</th>\n",
              "      <th></th>\n",
              "    </tr>\n",
              "  </thead>\n",
              "  <tbody>\n",
              "    <tr>\n",
              "      <th>44600.0</th>\n",
              "      <td>10</td>\n",
              "    </tr>\n",
              "    <tr>\n",
              "      <th>04200.0</th>\n",
              "      <td>6</td>\n",
              "    </tr>\n",
              "    <tr>\n",
              "      <th>80100.0</th>\n",
              "      <td>6</td>\n",
              "    </tr>\n",
              "    <tr>\n",
              "      <th>44500.0</th>\n",
              "      <td>5</td>\n",
              "    </tr>\n",
              "    <tr>\n",
              "      <th>44410.0</th>\n",
              "      <td>3</td>\n",
              "    </tr>\n",
              "    <tr>\n",
              "      <th>44490.0</th>\n",
              "      <td>3</td>\n",
              "    </tr>\n",
              "    <tr>\n",
              "      <th>04170.0</th>\n",
              "      <td>3</td>\n",
              "    </tr>\n",
              "    <tr>\n",
              "      <th>44220.0</th>\n",
              "      <td>3</td>\n",
              "    </tr>\n",
              "    <tr>\n",
              "      <th>04400.0</th>\n",
              "      <td>3</td>\n",
              "    </tr>\n",
              "    <tr>\n",
              "      <th>04140.0</th>\n",
              "      <td>2</td>\n",
              "    </tr>\n",
              "  </tbody>\n",
              "</table>\n",
              "</div>"
            ],
            "text/plain": [
              "                         siret\n",
              "codePostalEtablissement       \n",
              "44600.0                     10\n",
              "04200.0                      6\n",
              "80100.0                      6\n",
              "44500.0                      5\n",
              "44410.0                      3\n",
              "44490.0                      3\n",
              "04170.0                      3\n",
              "44220.0                      3\n",
              "04400.0                      3\n",
              "04140.0                      2"
            ]
          },
          "metadata": {},
          "execution_count": 20
        }
      ]
    },
    {
      "cell_type": "code",
      "metadata": {
        "colab": {
          "base_uri": "https://localhost:8080/",
          "height": 575
        },
        "id": "xlOuTGQbQE4K",
        "outputId": "e91cf588-e88d-477a-e150-3cee1034c688"
      },
      "source": [
        "top_10_nb_siret_par_codepostal.sort_values(by='siret').plot.barh(figsize=(13,9), fontsize=13, rot = 45)\n",
        "plt.title(\"Nombre d'entreprise par commune\", fontsize=15)\n",
        "plt.xlabel('nb_siret', fontsize=13)\n",
        "plt.ylabel('codePostalEtablissement', fontsize=13)\n",
        "plt.show()"
      ],
      "execution_count": null,
      "outputs": [
        {
          "output_type": "display_data",
          "data": {
            "image/png": "[encoded data removed]",
            "text/plain": [
              "<Figure size 936x648 with 1 Axes>"
            ]
          },
          "metadata": {
            "needs_background": "light"
          }
        }
      ]
    },
    {
      "cell_type": "code",
      "metadata": {
        "id": "iixQZmKhUTLh"
      },
      "source": [],
      "execution_count": null,
      "outputs": []
    },
    {
      "cell_type": "code",
      "metadata": {
        "id": "O2VgVu2SUTN-"
      },
      "source": [],
      "execution_count": null,
      "outputs": []
    }
  ]
}